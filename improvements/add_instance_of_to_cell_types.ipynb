{
 "cells": [
  {
   "cell_type": "code",
   "execution_count": 1,
   "metadata": {},
   "outputs": [],
   "source": [
    "from wikidata2df import wikidata2df\n",
    "\n",
    "with open(\"cells.rq\", \"r\") as q:\n",
    "    query = q.read()\n",
    "\n",
    "df = wikidata2df(query) "
   ]
  },
  {
   "cell_type": "code",
   "execution_count": 2,
   "metadata": {},
   "outputs": [],
   "source": [
    "df_no_cell_type = df.query(\"kindLabel != 'cell type'\" )"
   ]
  },
  {
   "cell_type": "code",
   "execution_count": 3,
   "metadata": {},
   "outputs": [],
   "source": [
    "f = open(\"cells_p31_cell_type.qs\", \"a\")\n",
    "for i,  row in df_no_cell_type.iterrows():\n",
    "    s = row['item']\n",
    "    p = \"|P31|\"\n",
    "    o = \"Q189118\"\n",
    "    f.write(s + p + o + \"\\n\")\n",
    "f.close()"
   ]
  },
  {
   "cell_type": "markdown",
   "metadata": {},
   "source": [
    "Added to Wikidata on https://quickstatements.toolforge.org/#/batch/43518\n"
   ]
  }
 ],
 "metadata": {
  "kernelspec": {
   "display_name": "Python 3",
   "language": "python",
   "name": "python3"
  },
  "language_info": {
   "codemirror_mode": {
    "name": "ipython",
    "version": 3
   },
   "file_extension": ".py",
   "mimetype": "text/x-python",
   "name": "python",
   "nbconvert_exporter": "python",
   "pygments_lexer": "ipython3",
   "version": "3.7.5"
  }
 },
 "nbformat": 4,
 "nbformat_minor": 4
}
