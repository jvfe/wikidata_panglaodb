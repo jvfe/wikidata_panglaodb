{
 "cells": [
  {
   "cell_type": "code",
   "execution_count": 1,
   "metadata": {},
   "outputs": [],
   "source": [
    "import pandas as pd\n",
    "\n",
    "with open(\"../data/human_cell_types_to_add_08_11_2020.csv\",\"r\") as f:\n",
    "    human_types = f.read()\n"
   ]
  },
  {
   "cell_type": "code",
   "execution_count": 2,
   "metadata": {},
   "outputs": [],
   "source": [
    "mouse_types = human_types.replace(\"Homo sapiens\", \"Mus musculus\").replace(\"human\", \"mouse\").replace(\"Q15978631\",\"Q83310\")"
   ]
  },
  {
   "cell_type": "code",
   "execution_count": 3,
   "metadata": {},
   "outputs": [],
   "source": [
    "with open(\"../data/mouse_cell_types_to_add_22_12_2020.csv\",\"w\") as f:\n",
    "    mouse_types = f.write(mouse_types)"
   ]
  },
  {
   "cell_type": "code",
   "execution_count": 4,
   "metadata": {},
   "outputs": [],
   "source": [
    "df = pd.read_csv(\"../data/mouse_cell_types_to_add_22_12_2020.csv\")"
   ]
  },
  {
   "cell_type": "code",
   "execution_count": 5,
   "metadata": {},
   "outputs": [],
   "source": [
    "with open(\"../quickstatements/add_mouse_cell_types_22_12_2020.qs\", \"w+\") as qs:\n",
    "\n",
    "    for i, row in df.iterrows():\n",
    "\n",
    "        s = \"LAST\"\n",
    "\n",
    "        Len = s + \"|Len|\" + '\"' + row[\"Len\"] + '\"' + \"\\n\"\n",
    "        Den = s +\"|Den|\" + '\"' + row[\"Den\"] + '\"' + \"\\n\"\n",
    "        Dpt = s +\"|Dpt|\" + '\"' + row[\"Dpt\"] + '\"' + \"\\n\"\n",
    "        Aen = s +\"|Aen|\" + '\"' + row[\"Aen\"] + '\"' + \"\\n\"\n",
    "        P31 = s + \"|P31|\" + row[\"P31\"] + \"|S248|\" + \"Q99936939\" +   \"\\n\" \n",
    "        P703 = s + \"|P703|\" + row[\"P703\"] + \"\\n\"\n",
    "        P361 = s + \"|P279|\" + row[\"P279\"] + \"\\n\"\n",
    "\n",
    "        qs.write('CREATE \\n')\n",
    "        qs.write(Len)\n",
    "        qs.write(Den)\n",
    "        qs.write(Dpt)\n",
    "        qs.write(Aen)\n",
    "        qs.write(P31)\n",
    "        qs.write(P703)\n",
    "        qs.write(P361)\n",
    "        qs.write('\\n')"
   ]
  },
  {
   "cell_type": "markdown",
   "metadata": {},
   "source": [
    "Added to Wikidata via Quickstatements in \n",
    "[Batch #46771\n",
    "\"mouse cell types\"\n",
    "on Wikidata\n",
    "by TiagoLubiana](https://quickstatements.toolforge.org/#/batch/46771)"
   ]
  }
 ],
 "metadata": {
  "kernelspec": {
   "display_name": "Python 3",
   "language": "python",
   "name": "python3"
  },
  "language_info": {
   "codemirror_mode": {
    "name": "ipython",
    "version": 3
   },
   "file_extension": ".py",
   "mimetype": "text/x-python",
   "name": "python",
   "nbconvert_exporter": "python",
   "pygments_lexer": "ipython3",
   "version": "3.7.6-final"
  }
 },
 "nbformat": 4,
 "nbformat_minor": 4
}