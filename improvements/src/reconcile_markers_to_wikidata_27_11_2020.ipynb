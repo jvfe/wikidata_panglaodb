{
 "metadata": {
  "language_info": {
   "codemirror_mode": {
    "name": "ipython",
    "version": 3
   },
   "file_extension": ".py",
   "mimetype": "text/x-python",
   "name": "python",
   "nbconvert_exporter": "python",
   "pygments_lexer": "ipython3",
   "version": 3
  },
  "orig_nbformat": 2
 },
 "nbformat": 4,
 "nbformat_minor": 2,
 "cells": [
  {
   "cell_type": "code",
   "execution_count": 1,
   "metadata": {},
   "outputs": [],
   "source": [
    "import pandas as pd \n",
    "\n",
    "gene_reference = pd.read_csv(\"../results/human_gene_reference_from_panglao_to_wikidata_04_11_2020.csv\")\n",
    "\n",
    "cell_type_reference = pd.read_csv(\"../results/cell_type_reference_from_panglao_to_wikidata_31_10_2020.csv\")\n",
    "\n",
    "markers = pd.read_csv(\"../data/PanglaoDB_markers_27_Mar_2020.tsv\", sep=\"\\t\")"
   ]
  },
  {
   "cell_type": "code",
   "execution_count": 2,
   "metadata": {},
   "outputs": [],
   "source": [
    "from wikidata2df import wikidata2df\n",
    "\n",
    "# A SPARQL query to return all cats in Wikidata!\n",
    "\n",
    "query = \"\"\"\n",
    "SELECT ?item ?itemLabel ?superclass\n",
    "WHERE\n",
    "{\n",
    "?item wdt:P31 wd:Q189118. \n",
    "?item wdt:P279 ?superclass. \n",
    "?superclass  wdt:P31 wd:Q189118. # cell type\n",
    "?item wdt:P703 wd:Q15978631. # human cell type\n",
    "SERVICE wikibase:label { bd:serviceParam wikibase:language \"[AUTO_LANGUAGE],en\". }\n",
    "}\n",
    "\"\"\"\n",
    "\n",
    "dataframe_to_join = wikidata2df(query)"
   ]
  },
  {
   "cell_type": "code",
   "execution_count": 3,
   "metadata": {},
   "outputs": [],
   "source": [
    "cell_type_reference = cell_type_reference.merge(dataframe_to_join, left_on=\"wikidata\", right_on=\"superclass\")"
   ]
  },
  {
   "cell_type": "code",
   "execution_count": 4,
   "metadata": {},
   "outputs": [],
   "source": [
    "human_markers = markers[[\"Hs\" in val for val in markers[\"species\"]]]\n",
    "human_markers_lean = human_markers[[\"official gene symbol\", \"cell type\"]]\n"
   ]
  },
  {
   "cell_type": "code",
   "execution_count": 5,
   "metadata": {},
   "outputs": [
    {
     "output_type": "execute_result",
     "data": {
      "text/plain": [
       "     official gene symbol         cell type (general) cell type id (human)  \\\n",
       "0                   CEBPA  Adipocyte progenitor cells           Q101404942   \n",
       "1                   CEBPA  Adipocyte progenitor cells           Q101404943   \n",
       "2                   CEBPA                   Basophils           Q101405089   \n",
       "3                   CEBPA                Hepatoblasts           Q101404910   \n",
       "4                   CEBPA                 Hepatocytes           Q101405101   \n",
       "...                   ...                         ...                  ...   \n",
       "7991              SLC14A1            Urothelial cells           Q101404883   \n",
       "7992                UPK3A            Urothelial cells           Q101404883   \n",
       "7993                UPK1A            Urothelial cells           Q101404883   \n",
       "7994                 UPK2            Urothelial cells           Q101404883   \n",
       "7995                UPK3B            Urothelial cells           Q101404883   \n",
       "\n",
       "        gene id  \n",
       "0     Q17861031  \n",
       "1     Q17861031  \n",
       "2     Q17861031  \n",
       "3     Q17861031  \n",
       "4     Q17861031  \n",
       "...         ...  \n",
       "7991  Q18031563  \n",
       "7992  Q18032295  \n",
       "7993  Q18036055  \n",
       "7994  Q18032294  \n",
       "7995  Q20800734  \n",
       "\n",
       "[7996 rows x 4 columns]"
      ],
      "text/html": "<div>\n<style scoped>\n    .dataframe tbody tr th:only-of-type {\n        vertical-align: middle;\n    }\n\n    .dataframe tbody tr th {\n        vertical-align: top;\n    }\n\n    .dataframe thead th {\n        text-align: right;\n    }\n</style>\n<table border=\"1\" class=\"dataframe\">\n  <thead>\n    <tr style=\"text-align: right;\">\n      <th></th>\n      <th>official gene symbol</th>\n      <th>cell type (general)</th>\n      <th>cell type id (human)</th>\n      <th>gene id</th>\n    </tr>\n  </thead>\n  <tbody>\n    <tr>\n      <th>0</th>\n      <td>CEBPA</td>\n      <td>Adipocyte progenitor cells</td>\n      <td>Q101404942</td>\n      <td>Q17861031</td>\n    </tr>\n    <tr>\n      <th>1</th>\n      <td>CEBPA</td>\n      <td>Adipocyte progenitor cells</td>\n      <td>Q101404943</td>\n      <td>Q17861031</td>\n    </tr>\n    <tr>\n      <th>2</th>\n      <td>CEBPA</td>\n      <td>Basophils</td>\n      <td>Q101405089</td>\n      <td>Q17861031</td>\n    </tr>\n    <tr>\n      <th>3</th>\n      <td>CEBPA</td>\n      <td>Hepatoblasts</td>\n      <td>Q101404910</td>\n      <td>Q17861031</td>\n    </tr>\n    <tr>\n      <th>4</th>\n      <td>CEBPA</td>\n      <td>Hepatocytes</td>\n      <td>Q101405101</td>\n      <td>Q17861031</td>\n    </tr>\n    <tr>\n      <th>...</th>\n      <td>...</td>\n      <td>...</td>\n      <td>...</td>\n      <td>...</td>\n    </tr>\n    <tr>\n      <th>7991</th>\n      <td>SLC14A1</td>\n      <td>Urothelial cells</td>\n      <td>Q101404883</td>\n      <td>Q18031563</td>\n    </tr>\n    <tr>\n      <th>7992</th>\n      <td>UPK3A</td>\n      <td>Urothelial cells</td>\n      <td>Q101404883</td>\n      <td>Q18032295</td>\n    </tr>\n    <tr>\n      <th>7993</th>\n      <td>UPK1A</td>\n      <td>Urothelial cells</td>\n      <td>Q101404883</td>\n      <td>Q18036055</td>\n    </tr>\n    <tr>\n      <th>7994</th>\n      <td>UPK2</td>\n      <td>Urothelial cells</td>\n      <td>Q101404883</td>\n      <td>Q18032294</td>\n    </tr>\n    <tr>\n      <th>7995</th>\n      <td>UPK3B</td>\n      <td>Urothelial cells</td>\n      <td>Q101404883</td>\n      <td>Q20800734</td>\n    </tr>\n  </tbody>\n</table>\n<p>7996 rows × 4 columns</p>\n</div>"
     },
     "metadata": {},
     "execution_count": 5
    }
   ],
   "source": [
    "human_markers_lean = human_markers_lean.merge(cell_type_reference, left_on=\"cell type\", right_on=\"panglao\")[[\"official gene symbol\", \"cell type\", \"item\"]]\n",
    "\n",
    "human_markers_lean.columns = [\"official gene symbol\", \"cell type\", \"cell type id\"]\n",
    "human_markers_lean = human_markers_lean.merge(gene_reference, left_on=\"official gene symbol\", right_on=\"panglao\")[[\"official gene symbol\", \"cell type\", \"cell type id\", \"wikidata\"]]\n",
    "\n",
    "human_markers_lean.columns = [\"official gene symbol\", \"cell type (general)\", \"cell type id (human)\", \"gene id\"]\n",
    "human_markers_lean = human_markers_lean.drop_duplicates()\n",
    "human_markers_lean"
   ]
  },
  {
   "cell_type": "code",
   "execution_count": 6,
   "metadata": {},
   "outputs": [],
   "source": [
    "human_markers_lean.to_csv(\"../src/human_markers_to_add_to_wikidata_27_11_2020.csv\")"
   ]
  },
  {
   "cell_type": "code",
   "execution_count": 10,
   "metadata": {
    "tags": []
   },
   "outputs": [],
   "source": [
    "with open(\"../quickstatements/markers_to_wikidata_27_11_2020.qs\", \"w+\") as f:\n",
    "    for i, row in human_markers_lean.iterrows():\n",
    "        s = row[\"cell type id (human)\"]\n",
    "        p = \"|P8872|\"\n",
    "        o = row[\"gene id\"]\n",
    "        r1 = \"|S813|\"\n",
    "        or1 = \"+2020-11-27T00:00:00Z/11\"\n",
    "        r2 = \"|S854|\"\n",
    "        or2 = '\"https://panglaodb.se/markers.html\"'\n",
    "        r3 = \"|S248|\"\n",
    "        or3 = \"Q99936939\"\n",
    "        f.write(s + p + o + r1 + or1 + r2 + or2 + r3 + or3)"
   ]
  }
 ]
}