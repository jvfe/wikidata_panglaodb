{
 "metadata": {
  "language_info": {
   "codemirror_mode": {
    "name": "ipython",
    "version": 3
   },
   "file_extension": ".py",
   "mimetype": "text/x-python",
   "name": "python",
   "nbconvert_exporter": "python",
   "pygments_lexer": "ipython3",
   "version": 3
  },
  "orig_nbformat": 2
 },
 "nbformat": 4,
 "nbformat_minor": 2,
 "cells": [
  {
   "source": [
    "Now that the entities are on Wikidata, while there is no has_positive_marker property there, we can make a local RDF file using Wikidata IDs. "
   ],
   "cell_type": "markdown",
   "metadata": {}
  },
  {
   "cell_type": "code",
   "execution_count": 1,
   "metadata": {},
   "outputs": [],
   "source": [
    "import pandas as pd \n",
    "\n",
    "gene_reference = pd.read_csv(\"../results/human_gene_reference_from_panglao_to_wikidata_04_11_2020.csv\")\n",
    "\n",
    "cell_type_reference = pd.read_csv(\"../results/cell_type_reference_from_panglao_to_wikidata_31_10_2020.csv\")\n",
    "\n",
    "markers = pd.read_csv(\"../data/PanglaoDB_markers_27_Mar_2020.tsv\", sep=\"\\t\")"
   ]
  },
  {
   "source": [
    "We want, though, the species specific cell types. Let's get them. "
   ],
   "cell_type": "markdown",
   "metadata": {}
  },
  {
   "cell_type": "code",
   "execution_count": 2,
   "metadata": {},
   "outputs": [],
   "source": [
    "from wikidata2df import wikidata2df\n",
    "\n",
    "# A SPARQL query to return all cats in Wikidata!\n",
    "\n",
    "query = \"\"\"\n",
    "SELECT ?item ?itemLabel ?superclass\n",
    "WHERE\n",
    "{\n",
    "?item wdt:P31 wd:Q189118. \n",
    "?item wdt:P361 ?superclass. \n",
    "?superclass  wdt:P31 wd:Q189118. # cell type\n",
    "?item wdt:P703 wd:Q15978631. # human cell type\n",
    "SERVICE wikibase:label { bd:serviceParam wikibase:language \"[AUTO_LANGUAGE],en\". }\n",
    "}\n",
    "\"\"\"\n",
    "\n",
    "dataframe_to_join = wikidata2df(query) "
   ]
  },
  {
   "cell_type": "code",
   "execution_count": 3,
   "metadata": {},
   "outputs": [],
   "source": [
    "cell_type_reference = cell_type_reference.merge(dataframe_to_join, left_on=\"wikidata\", right_on=\"superclass\")"
   ]
  },
  {
   "cell_type": "code",
   "execution_count": 4,
   "metadata": {},
   "outputs": [
    {
     "output_type": "execute_result",
     "data": {
      "text/plain": [
       "   Unnamed: 0              panglao   wikidata        item superclass  \\\n",
       "0          18       Decidual cells   Q5249153  Q101404881   Q5249153   \n",
       "1          36  Smooth muscle cells  Q66508979  Q101404901  Q66508979   \n",
       "2          55        Epsilon cells   Q4532277  Q101404922   Q4532277   \n",
       "3          72            Myoblasts   Q1956694  Q101404940   Q1956694   \n",
       "4          73        Stromal cells   Q4381253  Q101404941   Q4381253   \n",
       "\n",
       "                  itemLabel  \n",
       "0       human decidual cell  \n",
       "1  human smooth muscle cell  \n",
       "2        human epsilon cell  \n",
       "3            human myoblast  \n",
       "4        human stromal cell  "
      ],
      "text/html": "<div>\n<style scoped>\n    .dataframe tbody tr th:only-of-type {\n        vertical-align: middle;\n    }\n\n    .dataframe tbody tr th {\n        vertical-align: top;\n    }\n\n    .dataframe thead th {\n        text-align: right;\n    }\n</style>\n<table border=\"1\" class=\"dataframe\">\n  <thead>\n    <tr style=\"text-align: right;\">\n      <th></th>\n      <th>Unnamed: 0</th>\n      <th>panglao</th>\n      <th>wikidata</th>\n      <th>item</th>\n      <th>superclass</th>\n      <th>itemLabel</th>\n    </tr>\n  </thead>\n  <tbody>\n    <tr>\n      <th>0</th>\n      <td>18</td>\n      <td>Decidual cells</td>\n      <td>Q5249153</td>\n      <td>Q101404881</td>\n      <td>Q5249153</td>\n      <td>human decidual cell</td>\n    </tr>\n    <tr>\n      <th>1</th>\n      <td>36</td>\n      <td>Smooth muscle cells</td>\n      <td>Q66508979</td>\n      <td>Q101404901</td>\n      <td>Q66508979</td>\n      <td>human smooth muscle cell</td>\n    </tr>\n    <tr>\n      <th>2</th>\n      <td>55</td>\n      <td>Epsilon cells</td>\n      <td>Q4532277</td>\n      <td>Q101404922</td>\n      <td>Q4532277</td>\n      <td>human epsilon cell</td>\n    </tr>\n    <tr>\n      <th>3</th>\n      <td>72</td>\n      <td>Myoblasts</td>\n      <td>Q1956694</td>\n      <td>Q101404940</td>\n      <td>Q1956694</td>\n      <td>human myoblast</td>\n    </tr>\n    <tr>\n      <th>4</th>\n      <td>73</td>\n      <td>Stromal cells</td>\n      <td>Q4381253</td>\n      <td>Q101404941</td>\n      <td>Q4381253</td>\n      <td>human stromal cell</td>\n    </tr>\n  </tbody>\n</table>\n</div>"
     },
     "metadata": {},
     "execution_count": 4
    }
   ],
   "source": [
    "cell_type_reference.to_csv(\"../results/human_cell_type_reference_13_11_2020.csv\")\n",
    "cell_type_reference.head()"
   ]
  },
  {
   "cell_type": "code",
   "execution_count": 5,
   "metadata": {},
   "outputs": [],
   "source": [
    "human_markers = markers[[\"Hs\" in val for val in markers[\"species\"]]]"
   ]
  },
  {
   "cell_type": "code",
   "execution_count": 6,
   "metadata": {},
   "outputs": [
    {
     "output_type": "execute_result",
     "data": {
      "text/plain": [
       "  official gene symbol     cell type\n",
       "0                CTRB1  Acinar cells\n",
       "1                 KLK1  Acinar cells\n",
       "2                RBPJL  Acinar cells\n",
       "3                PTF1A  Acinar cells\n",
       "5               CELA3A  Acinar cells"
      ],
      "text/html": "<div>\n<style scoped>\n    .dataframe tbody tr th:only-of-type {\n        vertical-align: middle;\n    }\n\n    .dataframe tbody tr th {\n        vertical-align: top;\n    }\n\n    .dataframe thead th {\n        text-align: right;\n    }\n</style>\n<table border=\"1\" class=\"dataframe\">\n  <thead>\n    <tr style=\"text-align: right;\">\n      <th></th>\n      <th>official gene symbol</th>\n      <th>cell type</th>\n    </tr>\n  </thead>\n  <tbody>\n    <tr>\n      <th>0</th>\n      <td>CTRB1</td>\n      <td>Acinar cells</td>\n    </tr>\n    <tr>\n      <th>1</th>\n      <td>KLK1</td>\n      <td>Acinar cells</td>\n    </tr>\n    <tr>\n      <th>2</th>\n      <td>RBPJL</td>\n      <td>Acinar cells</td>\n    </tr>\n    <tr>\n      <th>3</th>\n      <td>PTF1A</td>\n      <td>Acinar cells</td>\n    </tr>\n    <tr>\n      <th>5</th>\n      <td>CELA3A</td>\n      <td>Acinar cells</td>\n    </tr>\n  </tbody>\n</table>\n</div>"
     },
     "metadata": {},
     "execution_count": 6
    }
   ],
   "source": [
    "human_markers_lean = human_markers[[\"official gene symbol\", \"cell type\"]]\n",
    "human_markers_lean.to_csv(\"../results/human_markers_reconciled_13_11_2020.csv\")\n",
    "human_markers_lean.head()"
   ]
  },
  {
   "cell_type": "code",
   "execution_count": 7,
   "metadata": {},
   "outputs": [],
   "source": [
    "human_markers_lean = human_markers_lean.merge(cell_type_reference, left_on=\"cell type\", right_on=\"panglao\")[[\"official gene symbol\", \"cell type\", \"item\"]]\n",
    "\n",
    "human_markers_lean.columns = [\"official gene symbol\", \"cell type\", \"cell type id\"]"
   ]
  },
  {
   "cell_type": "code",
   "execution_count": 8,
   "metadata": {},
   "outputs": [
    {
     "output_type": "execute_result",
     "data": {
      "text/plain": [
       "    official gene symbol       cell type cell type id    gene id\n",
       "0                   XCL1  Decidual cells   Q101404881   Q8041711\n",
       "1                 IGFBP1  Decidual cells   Q101404881  Q18027673\n",
       "2                   XCL2  Decidual cells   Q101404881   Q8041712\n",
       "3                   CTSW  Decidual cells   Q101404881   Q5052493\n",
       "4                   IL32  Decidual cells   Q101404881  Q18033933\n",
       "..                   ...             ...          ...        ...\n",
       "362              COL15A1   Stromal cells   Q101404941   Q5145899\n",
       "363                GDF10   Stromal cells   Q101404941  Q14912142\n",
       "364               COL4A1   Stromal cells   Q101404941   Q5145886\n",
       "365                 WNT2   Stromal cells   Q101404941  Q18032359\n",
       "366                 BMP5   Stromal cells   Q101404941  Q14903759\n",
       "\n",
       "[367 rows x 4 columns]"
      ],
      "text/html": "<div>\n<style scoped>\n    .dataframe tbody tr th:only-of-type {\n        vertical-align: middle;\n    }\n\n    .dataframe tbody tr th {\n        vertical-align: top;\n    }\n\n    .dataframe thead th {\n        text-align: right;\n    }\n</style>\n<table border=\"1\" class=\"dataframe\">\n  <thead>\n    <tr style=\"text-align: right;\">\n      <th></th>\n      <th>official gene symbol</th>\n      <th>cell type</th>\n      <th>cell type id</th>\n      <th>gene id</th>\n    </tr>\n  </thead>\n  <tbody>\n    <tr>\n      <th>0</th>\n      <td>XCL1</td>\n      <td>Decidual cells</td>\n      <td>Q101404881</td>\n      <td>Q8041711</td>\n    </tr>\n    <tr>\n      <th>1</th>\n      <td>IGFBP1</td>\n      <td>Decidual cells</td>\n      <td>Q101404881</td>\n      <td>Q18027673</td>\n    </tr>\n    <tr>\n      <th>2</th>\n      <td>XCL2</td>\n      <td>Decidual cells</td>\n      <td>Q101404881</td>\n      <td>Q8041712</td>\n    </tr>\n    <tr>\n      <th>3</th>\n      <td>CTSW</td>\n      <td>Decidual cells</td>\n      <td>Q101404881</td>\n      <td>Q5052493</td>\n    </tr>\n    <tr>\n      <th>4</th>\n      <td>IL32</td>\n      <td>Decidual cells</td>\n      <td>Q101404881</td>\n      <td>Q18033933</td>\n    </tr>\n    <tr>\n      <th>...</th>\n      <td>...</td>\n      <td>...</td>\n      <td>...</td>\n      <td>...</td>\n    </tr>\n    <tr>\n      <th>362</th>\n      <td>COL15A1</td>\n      <td>Stromal cells</td>\n      <td>Q101404941</td>\n      <td>Q5145899</td>\n    </tr>\n    <tr>\n      <th>363</th>\n      <td>GDF10</td>\n      <td>Stromal cells</td>\n      <td>Q101404941</td>\n      <td>Q14912142</td>\n    </tr>\n    <tr>\n      <th>364</th>\n      <td>COL4A1</td>\n      <td>Stromal cells</td>\n      <td>Q101404941</td>\n      <td>Q5145886</td>\n    </tr>\n    <tr>\n      <th>365</th>\n      <td>WNT2</td>\n      <td>Stromal cells</td>\n      <td>Q101404941</td>\n      <td>Q18032359</td>\n    </tr>\n    <tr>\n      <th>366</th>\n      <td>BMP5</td>\n      <td>Stromal cells</td>\n      <td>Q101404941</td>\n      <td>Q14903759</td>\n    </tr>\n  </tbody>\n</table>\n<p>367 rows × 4 columns</p>\n</div>"
     },
     "metadata": {},
     "execution_count": 8
    }
   ],
   "source": [
    "human_markers_lean = human_markers_lean.merge(gene_reference, left_on=\"official gene symbol\", right_on=\"panglao\")[[\"official gene symbol\", \"cell type\", \"cell type id\", \"wikidata\"]]\n",
    "\n",
    "human_markers_lean.columns = [\"official gene symbol\", \"cell type\", \"cell type id\", \"gene id\"]\n",
    "human_markers_lean"
   ]
  },
  {
   "cell_type": "code",
   "execution_count": 12,
   "metadata": {},
   "outputs": [],
   "source": [
    "import rdflib\n",
    "\n",
    "g = rdflib.Graph()\n",
    "\n",
    "for index, row in human_markers_lean.iterrows():\n",
    "\n",
    "    ctp = rdflib.Namespace(\"http://celltypes.wiki.opencura.com/entity/\")\n",
    "    wd = rdflib.Namespace(\"http://www.wikidata.org/entity/\")\n",
    "    wdt = rdflib.Namespace(\"http://www.wikidata.org/prop/direct/\")\n",
    "\n",
    "    s = rdflib.term.URIRef(wd+row[\"cell type id\"])\n",
    "    p1 = rdflib.term.URIRef(ctp+\"P9\")\n",
    "    o1 = rdflib.term.URIRef(wd+row[\"gene id\"])\n",
    "    \n",
    "    g.bind(\"ctp\", ctp)\n",
    "    g.bind(\"wd\", wd)\n",
    "    g.bind(\"wdt\", wdt)\n",
    "    g.add((s, p1, o1))\n",
    "\n",
    "g.serialize(destination='../results/human_cell_type_markers_13_11_2020.ttl', format='turtle')"
   ]
  },
  {
   "cell_type": "code",
   "execution_count": null,
   "metadata": {},
   "outputs": [],
   "source": []
  }
 ]
}