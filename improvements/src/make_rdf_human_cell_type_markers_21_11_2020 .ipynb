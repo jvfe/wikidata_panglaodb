{
 "metadata": {
  "language_info": {
   "codemirror_mode": {
    "name": "ipython",
    "version": 3
   },
   "file_extension": ".py",
   "mimetype": "text/x-python",
   "name": "python",
   "nbconvert_exporter": "python",
   "pygments_lexer": "ipython3",
   "version": 3
  },
  "orig_nbformat": 2
 },
 "nbformat": 4,
 "nbformat_minor": 2,
 "cells": [
  {
   "source": [
    "There was some problem in building the past .ttl file. I'll redo the steps and debug.\n",
    "\n",
    "Now that the entities are on Wikidata, while there is no has_positive_marker property there, we can make a local RDF file using Wikidata IDs. "
   ],
   "cell_type": "markdown",
   "metadata": {}
  },
  {
   "cell_type": "code",
   "execution_count": 7,
   "metadata": {},
   "outputs": [],
   "source": [
    "import pandas as pd \n",
    "\n",
    "gene_reference = pd.read_csv(\"../results/human_gene_reference_from_panglao_to_wikidata_04_11_2020.csv\")\n",
    "\n",
    "cell_type_reference = pd.read_csv(\"../results/cell_type_reference_from_panglao_to_wikidata_31_10_2020.csv\")\n",
    "\n",
    "markers = pd.read_csv(\"../data/PanglaoDB_markers_27_Mar_2020.tsv\", sep=\"\\t\")"
   ]
  },
  {
   "source": [
    "We want, though, the species specific cell types. Let's get them. "
   ],
   "cell_type": "markdown",
   "metadata": {}
  },
  {
   "cell_type": "code",
   "execution_count": 8,
   "metadata": {},
   "outputs": [],
   "source": [
    "from wikidata2df import wikidata2df\n",
    "\n",
    "# A SPARQL query to return all cats in Wikidata!\n",
    "\n",
    "query = \"\"\"\n",
    "SELECT ?item ?itemLabel ?superclass\n",
    "WHERE\n",
    "{\n",
    "?item wdt:P31 wd:Q189118. \n",
    "?item wdt:P361 ?superclass. \n",
    "?superclass  wdt:P31 wd:Q189118. # cell type\n",
    "?item wdt:P703 wd:Q15978631. # human cell type\n",
    "SERVICE wikibase:label { bd:serviceParam wikibase:language \"[AUTO_LANGUAGE],en\". }\n",
    "}\n",
    "\"\"\"\n",
    "\n",
    "dataframe_to_join = wikidata2df(query) "
   ]
  },
  {
   "cell_type": "code",
   "execution_count": 12,
   "metadata": {},
   "outputs": [
    {
     "output_type": "execute_result",
     "data": {
      "text/plain": [
       "  superclass        item                  itemLabel\n",
       "0    Q735343  Q101405096          human müller cell\n",
       "1   Q1467330  Q101404949        human myofibroblast\n",
       "2   Q1956694  Q101404940             human myoblast\n",
       "3   Q4381253  Q101404941         human stromal cell\n",
       "4   Q4532277  Q101404922         human epsilon cell\n",
       "5   Q5249153  Q101404881        human decidual cell\n",
       "6   Q5297290  Q101405098  human dopaminergic neuron\n",
       "7  Q10599959  Q101405206  human neuroendocrine cell\n",
       "8  Q28646122  Q101405078       human ependymal cell\n",
       "9  Q66508979  Q101404901   human smooth muscle cell"
      ],
      "text/html": "<div>\n<style scoped>\n    .dataframe tbody tr th:only-of-type {\n        vertical-align: middle;\n    }\n\n    .dataframe tbody tr th {\n        vertical-align: top;\n    }\n\n    .dataframe thead th {\n        text-align: right;\n    }\n</style>\n<table border=\"1\" class=\"dataframe\">\n  <thead>\n    <tr style=\"text-align: right;\">\n      <th></th>\n      <th>superclass</th>\n      <th>item</th>\n      <th>itemLabel</th>\n    </tr>\n  </thead>\n  <tbody>\n    <tr>\n      <th>0</th>\n      <td>Q735343</td>\n      <td>Q101405096</td>\n      <td>human müller cell</td>\n    </tr>\n    <tr>\n      <th>1</th>\n      <td>Q1467330</td>\n      <td>Q101404949</td>\n      <td>human myofibroblast</td>\n    </tr>\n    <tr>\n      <th>2</th>\n      <td>Q1956694</td>\n      <td>Q101404940</td>\n      <td>human myoblast</td>\n    </tr>\n    <tr>\n      <th>3</th>\n      <td>Q4381253</td>\n      <td>Q101404941</td>\n      <td>human stromal cell</td>\n    </tr>\n    <tr>\n      <th>4</th>\n      <td>Q4532277</td>\n      <td>Q101404922</td>\n      <td>human epsilon cell</td>\n    </tr>\n    <tr>\n      <th>5</th>\n      <td>Q5249153</td>\n      <td>Q101404881</td>\n      <td>human decidual cell</td>\n    </tr>\n    <tr>\n      <th>6</th>\n      <td>Q5297290</td>\n      <td>Q101405098</td>\n      <td>human dopaminergic neuron</td>\n    </tr>\n    <tr>\n      <th>7</th>\n      <td>Q10599959</td>\n      <td>Q101405206</td>\n      <td>human neuroendocrine cell</td>\n    </tr>\n    <tr>\n      <th>8</th>\n      <td>Q28646122</td>\n      <td>Q101405078</td>\n      <td>human ependymal cell</td>\n    </tr>\n    <tr>\n      <th>9</th>\n      <td>Q66508979</td>\n      <td>Q101404901</td>\n      <td>human smooth muscle cell</td>\n    </tr>\n  </tbody>\n</table>\n</div>"
     },
     "metadata": {},
     "execution_count": 12
    }
   ],
   "source": [
    "dataframe_to_join"
   ]
  },
  {
   "source": [
    "The query syntax is wrong! It is looking for \"part of\" while it should be looking for \"subclass of\"\n",
    "\n",
    "I'll fix the 9 items and re-do the query. "
   ],
   "cell_type": "markdown",
   "metadata": {}
  },
  {
   "cell_type": "code",
   "execution_count": 1,
   "metadata": {},
   "outputs": [],
   "source": [
    "from wikidata2df import wikidata2df\n",
    "\n",
    "# A SPARQL query to return all cats in Wikidata!\n",
    "\n",
    "query = \"\"\"\n",
    "SELECT ?item ?itemLabel ?superclass\n",
    "WHERE\n",
    "{\n",
    "?item wdt:P31 wd:Q189118. \n",
    "?item wdt:P279 ?superclass. \n",
    "?superclass  wdt:P31 wd:Q189118. # cell type\n",
    "?item wdt:P703 wd:Q15978631. # human cell type\n",
    "SERVICE wikibase:label { bd:serviceParam wikibase:language \"[AUTO_LANGUAGE],en\". }\n",
    "}\n",
    "\"\"\"\n",
    "\n",
    "dataframe_to_join = wikidata2df(query)"
   ]
  },
  {
   "cell_type": "code",
   "execution_count": 2,
   "metadata": {},
   "outputs": [
    {
     "output_type": "execute_result",
     "data": {
      "text/plain": [
       "     superclass                                        itemLabel        item\n",
       "0       Q502961                                  human astrocyte   Q67801129\n",
       "1     Q71292398                        Human MTG Oligodendrocyte   Q71307001\n",
       "2     Q71292660                        Human MTG Microglial cell   Q71307005\n",
       "3     Q71292831      human cerebral cortex GABAergic interneuron   Q71299560\n",
       "4     Q71299560  Human cerebral cortex MTG GABAergic interneuron   Q71307007\n",
       "..          ...                                              ...         ...\n",
       "283  Q101062629                       human red pulp macrophages  Q101404936\n",
       "284  Q101062659                       human salivary mucous cell  Q101404929\n",
       "285  Q101062667                                   human ionocyte  Q101404947\n",
       "286  Q101062687                       human noradrenergic neuron  Q101404932\n",
       "287  Q101062703                human trophoblast progenitor cell  Q101404873\n",
       "\n",
       "[288 rows x 3 columns]"
      ],
      "text/html": "<div>\n<style scoped>\n    .dataframe tbody tr th:only-of-type {\n        vertical-align: middle;\n    }\n\n    .dataframe tbody tr th {\n        vertical-align: top;\n    }\n\n    .dataframe thead th {\n        text-align: right;\n    }\n</style>\n<table border=\"1\" class=\"dataframe\">\n  <thead>\n    <tr style=\"text-align: right;\">\n      <th></th>\n      <th>superclass</th>\n      <th>itemLabel</th>\n      <th>item</th>\n    </tr>\n  </thead>\n  <tbody>\n    <tr>\n      <th>0</th>\n      <td>Q502961</td>\n      <td>human astrocyte</td>\n      <td>Q67801129</td>\n    </tr>\n    <tr>\n      <th>1</th>\n      <td>Q71292398</td>\n      <td>Human MTG Oligodendrocyte</td>\n      <td>Q71307001</td>\n    </tr>\n    <tr>\n      <th>2</th>\n      <td>Q71292660</td>\n      <td>Human MTG Microglial cell</td>\n      <td>Q71307005</td>\n    </tr>\n    <tr>\n      <th>3</th>\n      <td>Q71292831</td>\n      <td>human cerebral cortex GABAergic interneuron</td>\n      <td>Q71299560</td>\n    </tr>\n    <tr>\n      <th>4</th>\n      <td>Q71299560</td>\n      <td>Human cerebral cortex MTG GABAergic interneuron</td>\n      <td>Q71307007</td>\n    </tr>\n    <tr>\n      <th>...</th>\n      <td>...</td>\n      <td>...</td>\n      <td>...</td>\n    </tr>\n    <tr>\n      <th>283</th>\n      <td>Q101062629</td>\n      <td>human red pulp macrophages</td>\n      <td>Q101404936</td>\n    </tr>\n    <tr>\n      <th>284</th>\n      <td>Q101062659</td>\n      <td>human salivary mucous cell</td>\n      <td>Q101404929</td>\n    </tr>\n    <tr>\n      <th>285</th>\n      <td>Q101062667</td>\n      <td>human ionocyte</td>\n      <td>Q101404947</td>\n    </tr>\n    <tr>\n      <th>286</th>\n      <td>Q101062687</td>\n      <td>human noradrenergic neuron</td>\n      <td>Q101404932</td>\n    </tr>\n    <tr>\n      <th>287</th>\n      <td>Q101062703</td>\n      <td>human trophoblast progenitor cell</td>\n      <td>Q101404873</td>\n    </tr>\n  </tbody>\n</table>\n<p>288 rows × 3 columns</p>\n</div>"
     },
     "metadata": {},
     "execution_count": 2
    }
   ],
   "source": [
    "dataframe_to_join"
   ]
  },
  {
   "cell_type": "code",
   "execution_count": 3,
   "metadata": {},
   "outputs": [
    {
     "output_type": "error",
     "ename": "NameError",
     "evalue": "name 'cell_type_reference' is not defined",
     "traceback": [
      "\u001b[0;31m---------------------------------------------------------------------------\u001b[0m",
      "\u001b[0;31mNameError\u001b[0m                                 Traceback (most recent call last)",
      "\u001b[0;32m<ipython-input-3-85cc127e6049>\u001b[0m in \u001b[0;36m<module>\u001b[0;34m\u001b[0m\n\u001b[0;32m----> 1\u001b[0;31m \u001b[0mcell_type_reference\u001b[0m\u001b[0;34m\u001b[0m\u001b[0;34m\u001b[0m\u001b[0m\n\u001b[0m",
      "\u001b[0;31mNameError\u001b[0m: name 'cell_type_reference' is not defined"
     ]
    }
   ],
   "source": [
    "cell_type_reference"
   ]
  },
  {
   "cell_type": "code",
   "execution_count": 14,
   "metadata": {},
   "outputs": [
    {
     "output_type": "execute_result",
     "data": {
      "text/plain": [
       "     Unnamed: 0                       panglao    wikidata  superclass  \\\n",
       "0             0                   Basal cells  Q101062513  Q101062513   \n",
       "1             1            Trigeminal neurons  Q101062590  Q101062590   \n",
       "2             2         Juxtaglomerular cells    Q2596226    Q2596226   \n",
       "3             4                   Fibroblasts     Q463418     Q463418   \n",
       "4             5                 Motor neurons    Q1133903    Q1133903   \n",
       "..          ...                           ...         ...         ...   \n",
       "106         176        Enterochromaffin cells     Q568290     Q568290   \n",
       "107         177          Neuroendocrine cells   Q10599959   Q10599959   \n",
       "108         180  Spermatocyte and Spermatozoa  Q101003191  Q101003191   \n",
       "109         184         Cortical interneurons  Q101004030  Q101004030   \n",
       "110         188      Retinal epithelial cells   Q66572893   Q66572893   \n",
       "\n",
       "           item                           itemLabel  \n",
       "0    Q101404853                    human basal cell  \n",
       "1    Q101404857             human trigeminal neuron  \n",
       "2    Q101404858          human juxtaglomerular cell  \n",
       "3    Q101404861                    human fibroblast  \n",
       "4    Q101404862                  human motor neuron  \n",
       "..          ...                                 ...  \n",
       "106  Q101405125         human enterochromaffin cell  \n",
       "107  Q101405206           human neuroendocrine cell  \n",
       "108  Q101405207  human spermatocyte and spermatozoa  \n",
       "109  Q101405214          human cortical interneuron  \n",
       "110  Q101405213       human retinal epithelial cell  \n",
       "\n",
       "[111 rows x 6 columns]"
      ],
      "text/html": "<div>\n<style scoped>\n    .dataframe tbody tr th:only-of-type {\n        vertical-align: middle;\n    }\n\n    .dataframe tbody tr th {\n        vertical-align: top;\n    }\n\n    .dataframe thead th {\n        text-align: right;\n    }\n</style>\n<table border=\"1\" class=\"dataframe\">\n  <thead>\n    <tr style=\"text-align: right;\">\n      <th></th>\n      <th>Unnamed: 0</th>\n      <th>panglao</th>\n      <th>wikidata</th>\n      <th>superclass</th>\n      <th>item</th>\n      <th>itemLabel</th>\n    </tr>\n  </thead>\n  <tbody>\n    <tr>\n      <th>0</th>\n      <td>0</td>\n      <td>Basal cells</td>\n      <td>Q101062513</td>\n      <td>Q101062513</td>\n      <td>Q101404853</td>\n      <td>human basal cell</td>\n    </tr>\n    <tr>\n      <th>1</th>\n      <td>1</td>\n      <td>Trigeminal neurons</td>\n      <td>Q101062590</td>\n      <td>Q101062590</td>\n      <td>Q101404857</td>\n      <td>human trigeminal neuron</td>\n    </tr>\n    <tr>\n      <th>2</th>\n      <td>2</td>\n      <td>Juxtaglomerular cells</td>\n      <td>Q2596226</td>\n      <td>Q2596226</td>\n      <td>Q101404858</td>\n      <td>human juxtaglomerular cell</td>\n    </tr>\n    <tr>\n      <th>3</th>\n      <td>4</td>\n      <td>Fibroblasts</td>\n      <td>Q463418</td>\n      <td>Q463418</td>\n      <td>Q101404861</td>\n      <td>human fibroblast</td>\n    </tr>\n    <tr>\n      <th>4</th>\n      <td>5</td>\n      <td>Motor neurons</td>\n      <td>Q1133903</td>\n      <td>Q1133903</td>\n      <td>Q101404862</td>\n      <td>human motor neuron</td>\n    </tr>\n    <tr>\n      <th>...</th>\n      <td>...</td>\n      <td>...</td>\n      <td>...</td>\n      <td>...</td>\n      <td>...</td>\n      <td>...</td>\n    </tr>\n    <tr>\n      <th>106</th>\n      <td>176</td>\n      <td>Enterochromaffin cells</td>\n      <td>Q568290</td>\n      <td>Q568290</td>\n      <td>Q101405125</td>\n      <td>human enterochromaffin cell</td>\n    </tr>\n    <tr>\n      <th>107</th>\n      <td>177</td>\n      <td>Neuroendocrine cells</td>\n      <td>Q10599959</td>\n      <td>Q10599959</td>\n      <td>Q101405206</td>\n      <td>human neuroendocrine cell</td>\n    </tr>\n    <tr>\n      <th>108</th>\n      <td>180</td>\n      <td>Spermatocyte and Spermatozoa</td>\n      <td>Q101003191</td>\n      <td>Q101003191</td>\n      <td>Q101405207</td>\n      <td>human spermatocyte and spermatozoa</td>\n    </tr>\n    <tr>\n      <th>109</th>\n      <td>184</td>\n      <td>Cortical interneurons</td>\n      <td>Q101004030</td>\n      <td>Q101004030</td>\n      <td>Q101405214</td>\n      <td>human cortical interneuron</td>\n    </tr>\n    <tr>\n      <th>110</th>\n      <td>188</td>\n      <td>Retinal epithelial cells</td>\n      <td>Q66572893</td>\n      <td>Q66572893</td>\n      <td>Q101405213</td>\n      <td>human retinal epithelial cell</td>\n    </tr>\n  </tbody>\n</table>\n<p>111 rows × 6 columns</p>\n</div>"
     },
     "metadata": {},
     "execution_count": 14
    }
   ],
   "source": [
    "cell_type_reference.merge(dataframe_to_join, left_on=\"wikidata\", right_on=\"superclass\")"
   ]
  },
  {
   "source": [
    "Some rows are still being lost in the process. Let's understand why. \n",
    "\n",
    "Row 3 was lost: Pancreatic stellate cells\tQ1164962\n",
    "\n",
    "It is present in wikidata, but without a \"P279\" statement to the general cell type. \n",
    "\n",
    "Lets look for other cases. \n",
    "\n"
   ],
   "cell_type": "markdown",
   "metadata": {}
  },
  {
   "cell_type": "code",
   "execution_count": 26,
   "metadata": {},
   "outputs": [
    {
     "output_type": "execute_result",
     "data": {
      "text/plain": [
       "     Unnamed: 0                             panglao    wikidata\n",
       "3             3           Pancreatic stellate cells    Q1164962\n",
       "7             7                      Parietal cells    Q1640093\n",
       "8             8            Peri-islet Schwann cells  Q101062584\n",
       "10           10                     Dendritic cells     Q506253\n",
       "11           11                          Tuft cells   Q25325383\n",
       "..          ...                                 ...         ...\n",
       "178         178          Astrocyte progenitor cells  Q101001053\n",
       "179         179               Multinuclear myocytes  Q101003165\n",
       "181         181                        Granulocytes     Q223143\n",
       "182         182                         Theca cells  Q101003314\n",
       "186         186  Peripheral blood mononuclear cells     Q736033\n",
       "\n",
       "[82 rows x 3 columns]"
      ],
      "text/html": "<div>\n<style scoped>\n    .dataframe tbody tr th:only-of-type {\n        vertical-align: middle;\n    }\n\n    .dataframe tbody tr th {\n        vertical-align: top;\n    }\n\n    .dataframe thead th {\n        text-align: right;\n    }\n</style>\n<table border=\"1\" class=\"dataframe\">\n  <thead>\n    <tr style=\"text-align: right;\">\n      <th></th>\n      <th>Unnamed: 0</th>\n      <th>panglao</th>\n      <th>wikidata</th>\n    </tr>\n  </thead>\n  <tbody>\n    <tr>\n      <th>3</th>\n      <td>3</td>\n      <td>Pancreatic stellate cells</td>\n      <td>Q1164962</td>\n    </tr>\n    <tr>\n      <th>7</th>\n      <td>7</td>\n      <td>Parietal cells</td>\n      <td>Q1640093</td>\n    </tr>\n    <tr>\n      <th>8</th>\n      <td>8</td>\n      <td>Peri-islet Schwann cells</td>\n      <td>Q101062584</td>\n    </tr>\n    <tr>\n      <th>10</th>\n      <td>10</td>\n      <td>Dendritic cells</td>\n      <td>Q506253</td>\n    </tr>\n    <tr>\n      <th>11</th>\n      <td>11</td>\n      <td>Tuft cells</td>\n      <td>Q25325383</td>\n    </tr>\n    <tr>\n      <th>...</th>\n      <td>...</td>\n      <td>...</td>\n      <td>...</td>\n    </tr>\n    <tr>\n      <th>178</th>\n      <td>178</td>\n      <td>Astrocyte progenitor cells</td>\n      <td>Q101001053</td>\n    </tr>\n    <tr>\n      <th>179</th>\n      <td>179</td>\n      <td>Multinuclear myocytes</td>\n      <td>Q101003165</td>\n    </tr>\n    <tr>\n      <th>181</th>\n      <td>181</td>\n      <td>Granulocytes</td>\n      <td>Q223143</td>\n    </tr>\n    <tr>\n      <th>182</th>\n      <td>182</td>\n      <td>Theca cells</td>\n      <td>Q101003314</td>\n    </tr>\n    <tr>\n      <th>186</th>\n      <td>186</td>\n      <td>Peripheral blood mononuclear cells</td>\n      <td>Q736033</td>\n    </tr>\n  </tbody>\n</table>\n<p>82 rows × 3 columns</p>\n</div>"
     },
     "metadata": {},
     "execution_count": 26
    }
   ],
   "source": [
    "import numpy as np\n",
    "\n",
    "\n",
    "main_list = np.setdiff1d(cell_type_reference[\"wikidata\"].dropna(), dataframe_to_join[\"superclass\"].dropna())\n",
    "cell_type_reference[[a in main_list for a in cell_type_reference[\"wikidata\"]]]"
   ]
  },
  {
   "source": [
    "I will re-run the Quickstatements used for adding the P279 statesments originally and hope for a magic fix. \n",
    "\n",
    "(../quickstatements/P279_correction_08_11_2020.qs)\n"
   ],
   "cell_type": "markdown",
   "metadata": {}
  },
  {
   "cell_type": "code",
   "execution_count": 1,
   "metadata": {},
   "outputs": [],
   "source": [
    "from wikidata2df import wikidata2df\n",
    "\n",
    "# A SPARQL query to return all cats in Wikidata!\n",
    "\n",
    "query = \"\"\"\n",
    "SELECT ?item ?itemLabel ?superclass\n",
    "WHERE\n",
    "{\n",
    "?item wdt:P31 wd:Q189118. \n",
    "?item wdt:P279 ?superclass. \n",
    "?superclass  wdt:P31 wd:Q189118. # cell type\n",
    "?item wdt:P703 wd:Q15978631. # human cell type\n",
    "SERVICE wikibase:label { bd:serviceParam wikibase:language \"[AUTO_LANGUAGE],en\". }\n",
    "}\n",
    "\"\"\"\n",
    "\n",
    "dataframe_to_join = wikidata2df(query)\n"
   ]
  },
  {
   "cell_type": "code",
   "execution_count": 2,
   "metadata": {},
   "outputs": [
    {
     "output_type": "execute_result",
     "data": {
      "text/plain": [
       "     superclass                                        itemLabel        item\n",
       "0       Q502961                                  human astrocyte   Q67801129\n",
       "1     Q71292398                        Human MTG Oligodendrocyte   Q71307001\n",
       "2     Q71292660                        Human MTG Microglial cell   Q71307005\n",
       "3     Q71292831      human cerebral cortex GABAergic interneuron   Q71299560\n",
       "4     Q71299560  Human cerebral cortex MTG GABAergic interneuron   Q71307007\n",
       "..          ...                                              ...         ...\n",
       "283  Q101062629                       human red pulp macrophages  Q101404936\n",
       "284  Q101062659                       human salivary mucous cell  Q101404929\n",
       "285  Q101062667                                   human ionocyte  Q101404947\n",
       "286  Q101062687                       human noradrenergic neuron  Q101404932\n",
       "287  Q101062703                human trophoblast progenitor cell  Q101404873\n",
       "\n",
       "[288 rows x 3 columns]"
      ],
      "text/html": "<div>\n<style scoped>\n    .dataframe tbody tr th:only-of-type {\n        vertical-align: middle;\n    }\n\n    .dataframe tbody tr th {\n        vertical-align: top;\n    }\n\n    .dataframe thead th {\n        text-align: right;\n    }\n</style>\n<table border=\"1\" class=\"dataframe\">\n  <thead>\n    <tr style=\"text-align: right;\">\n      <th></th>\n      <th>superclass</th>\n      <th>itemLabel</th>\n      <th>item</th>\n    </tr>\n  </thead>\n  <tbody>\n    <tr>\n      <th>0</th>\n      <td>Q502961</td>\n      <td>human astrocyte</td>\n      <td>Q67801129</td>\n    </tr>\n    <tr>\n      <th>1</th>\n      <td>Q71292398</td>\n      <td>Human MTG Oligodendrocyte</td>\n      <td>Q71307001</td>\n    </tr>\n    <tr>\n      <th>2</th>\n      <td>Q71292660</td>\n      <td>Human MTG Microglial cell</td>\n      <td>Q71307005</td>\n    </tr>\n    <tr>\n      <th>3</th>\n      <td>Q71292831</td>\n      <td>human cerebral cortex GABAergic interneuron</td>\n      <td>Q71299560</td>\n    </tr>\n    <tr>\n      <th>4</th>\n      <td>Q71299560</td>\n      <td>Human cerebral cortex MTG GABAergic interneuron</td>\n      <td>Q71307007</td>\n    </tr>\n    <tr>\n      <th>...</th>\n      <td>...</td>\n      <td>...</td>\n      <td>...</td>\n    </tr>\n    <tr>\n      <th>283</th>\n      <td>Q101062629</td>\n      <td>human red pulp macrophages</td>\n      <td>Q101404936</td>\n    </tr>\n    <tr>\n      <th>284</th>\n      <td>Q101062659</td>\n      <td>human salivary mucous cell</td>\n      <td>Q101404929</td>\n    </tr>\n    <tr>\n      <th>285</th>\n      <td>Q101062667</td>\n      <td>human ionocyte</td>\n      <td>Q101404947</td>\n    </tr>\n    <tr>\n      <th>286</th>\n      <td>Q101062687</td>\n      <td>human noradrenergic neuron</td>\n      <td>Q101404932</td>\n    </tr>\n    <tr>\n      <th>287</th>\n      <td>Q101062703</td>\n      <td>human trophoblast progenitor cell</td>\n      <td>Q101404873</td>\n    </tr>\n  </tbody>\n</table>\n<p>288 rows × 3 columns</p>\n</div>"
     },
     "metadata": {},
     "execution_count": 2
    }
   ],
   "source": [
    "dataframe_to_join"
   ]
  },
  {
   "source": [
    "I had to restart the kernel so to clear the cache of the query. "
   ],
   "cell_type": "markdown",
   "metadata": {}
  },
  {
   "cell_type": "code",
   "execution_count": 3,
   "metadata": {},
   "outputs": [],
   "source": [
    "import pandas as pd \n",
    "\n",
    "gene_reference = pd.read_csv(\"../results/human_gene_reference_from_panglao_to_wikidata_04_11_2020.csv\")\n",
    "\n",
    "cell_type_reference = pd.read_csv(\"../results/cell_type_reference_from_panglao_to_wikidata_31_10_2020.csv\")\n",
    "\n",
    "markers = pd.read_csv(\"../data/PanglaoDB_markers_27_Mar_2020.tsv\", sep=\"\\t\")"
   ]
  },
  {
   "cell_type": "code",
   "execution_count": 4,
   "metadata": {},
   "outputs": [
    {
     "output_type": "execute_result",
     "data": {
      "text/plain": [
       "     Unnamed: 0                             panglao    wikidata  superclass  \\\n",
       "0             0                         Basal cells  Q101062513  Q101062513   \n",
       "1             1                  Trigeminal neurons  Q101062590  Q101062590   \n",
       "2             2               Juxtaglomerular cells    Q2596226    Q2596226   \n",
       "3             3           Pancreatic stellate cells    Q1164962    Q1164962   \n",
       "4             4                         Fibroblasts     Q463418     Q463418   \n",
       "..          ...                                 ...         ...         ...   \n",
       "183         181                        Granulocytes     Q223143     Q223143   \n",
       "184         182                         Theca cells  Q101003314  Q101003314   \n",
       "185         184               Cortical interneurons  Q101004030  Q101004030   \n",
       "186         186  Peripheral blood mononuclear cells     Q736033     Q736033   \n",
       "187         188            Retinal epithelial cells   Q66572893   Q66572893   \n",
       "\n",
       "                                   itemLabel        item  \n",
       "0                           human basal cell  Q101404853  \n",
       "1                    human trigeminal neuron  Q101404857  \n",
       "2                 human juxtaglomerular cell  Q101404858  \n",
       "3             human pancreatic stellate cell  Q101404859  \n",
       "4                           human fibroblast  Q101404861  \n",
       "..                                       ...         ...  \n",
       "183                        human granulocyte  Q101405212  \n",
       "184                         human theca cell  Q101405210  \n",
       "185               human cortical interneuron  Q101405214  \n",
       "186  human peripheral blood mononuclear cell  Q101405209  \n",
       "187            human retinal epithelial cell  Q101405213  \n",
       "\n",
       "[188 rows x 6 columns]"
      ],
      "text/html": "<div>\n<style scoped>\n    .dataframe tbody tr th:only-of-type {\n        vertical-align: middle;\n    }\n\n    .dataframe tbody tr th {\n        vertical-align: top;\n    }\n\n    .dataframe thead th {\n        text-align: right;\n    }\n</style>\n<table border=\"1\" class=\"dataframe\">\n  <thead>\n    <tr style=\"text-align: right;\">\n      <th></th>\n      <th>Unnamed: 0</th>\n      <th>panglao</th>\n      <th>wikidata</th>\n      <th>superclass</th>\n      <th>itemLabel</th>\n      <th>item</th>\n    </tr>\n  </thead>\n  <tbody>\n    <tr>\n      <th>0</th>\n      <td>0</td>\n      <td>Basal cells</td>\n      <td>Q101062513</td>\n      <td>Q101062513</td>\n      <td>human basal cell</td>\n      <td>Q101404853</td>\n    </tr>\n    <tr>\n      <th>1</th>\n      <td>1</td>\n      <td>Trigeminal neurons</td>\n      <td>Q101062590</td>\n      <td>Q101062590</td>\n      <td>human trigeminal neuron</td>\n      <td>Q101404857</td>\n    </tr>\n    <tr>\n      <th>2</th>\n      <td>2</td>\n      <td>Juxtaglomerular cells</td>\n      <td>Q2596226</td>\n      <td>Q2596226</td>\n      <td>human juxtaglomerular cell</td>\n      <td>Q101404858</td>\n    </tr>\n    <tr>\n      <th>3</th>\n      <td>3</td>\n      <td>Pancreatic stellate cells</td>\n      <td>Q1164962</td>\n      <td>Q1164962</td>\n      <td>human pancreatic stellate cell</td>\n      <td>Q101404859</td>\n    </tr>\n    <tr>\n      <th>4</th>\n      <td>4</td>\n      <td>Fibroblasts</td>\n      <td>Q463418</td>\n      <td>Q463418</td>\n      <td>human fibroblast</td>\n      <td>Q101404861</td>\n    </tr>\n    <tr>\n      <th>...</th>\n      <td>...</td>\n      <td>...</td>\n      <td>...</td>\n      <td>...</td>\n      <td>...</td>\n      <td>...</td>\n    </tr>\n    <tr>\n      <th>183</th>\n      <td>181</td>\n      <td>Granulocytes</td>\n      <td>Q223143</td>\n      <td>Q223143</td>\n      <td>human granulocyte</td>\n      <td>Q101405212</td>\n    </tr>\n    <tr>\n      <th>184</th>\n      <td>182</td>\n      <td>Theca cells</td>\n      <td>Q101003314</td>\n      <td>Q101003314</td>\n      <td>human theca cell</td>\n      <td>Q101405210</td>\n    </tr>\n    <tr>\n      <th>185</th>\n      <td>184</td>\n      <td>Cortical interneurons</td>\n      <td>Q101004030</td>\n      <td>Q101004030</td>\n      <td>human cortical interneuron</td>\n      <td>Q101405214</td>\n    </tr>\n    <tr>\n      <th>186</th>\n      <td>186</td>\n      <td>Peripheral blood mononuclear cells</td>\n      <td>Q736033</td>\n      <td>Q736033</td>\n      <td>human peripheral blood mononuclear cell</td>\n      <td>Q101405209</td>\n    </tr>\n    <tr>\n      <th>187</th>\n      <td>188</td>\n      <td>Retinal epithelial cells</td>\n      <td>Q66572893</td>\n      <td>Q66572893</td>\n      <td>human retinal epithelial cell</td>\n      <td>Q101405213</td>\n    </tr>\n  </tbody>\n</table>\n<p>188 rows × 6 columns</p>\n</div>"
     },
     "metadata": {},
     "execution_count": 4
    }
   ],
   "source": [
    "cell_type_reference.merge(dataframe_to_join, left_on=\"wikidata\", right_on=\"superclass\")"
   ]
  },
  {
   "cell_type": "code",
   "execution_count": 5,
   "metadata": {},
   "outputs": [
    {
     "output_type": "execute_result",
     "data": {
      "text/plain": [
       "     Unnamed: 0                panglao    wikidata\n",
       "7             7         Parietal cells    Q1640093\n",
       "21           21        Transient cells     EXCLUDE\n",
       "40           40   Serotonergic neurons   Q70220966\n",
       "53           53          Bergmann glia  Q101062516\n",
       "82           82  Satellite glial cells      Q63710\n",
       "113         113         Foveolar cells   Q66592466\n",
       "160         160           Acinar cells   Q66590269\n",
       "162         162            Clara cells     Q645712\n",
       "168         168           Glomus cells    Q4778753"
      ],
      "text/html": "<div>\n<style scoped>\n    .dataframe tbody tr th:only-of-type {\n        vertical-align: middle;\n    }\n\n    .dataframe tbody tr th {\n        vertical-align: top;\n    }\n\n    .dataframe thead th {\n        text-align: right;\n    }\n</style>\n<table border=\"1\" class=\"dataframe\">\n  <thead>\n    <tr style=\"text-align: right;\">\n      <th></th>\n      <th>Unnamed: 0</th>\n      <th>panglao</th>\n      <th>wikidata</th>\n    </tr>\n  </thead>\n  <tbody>\n    <tr>\n      <th>7</th>\n      <td>7</td>\n      <td>Parietal cells</td>\n      <td>Q1640093</td>\n    </tr>\n    <tr>\n      <th>21</th>\n      <td>21</td>\n      <td>Transient cells</td>\n      <td>EXCLUDE</td>\n    </tr>\n    <tr>\n      <th>40</th>\n      <td>40</td>\n      <td>Serotonergic neurons</td>\n      <td>Q70220966</td>\n    </tr>\n    <tr>\n      <th>53</th>\n      <td>53</td>\n      <td>Bergmann glia</td>\n      <td>Q101062516</td>\n    </tr>\n    <tr>\n      <th>82</th>\n      <td>82</td>\n      <td>Satellite glial cells</td>\n      <td>Q63710</td>\n    </tr>\n    <tr>\n      <th>113</th>\n      <td>113</td>\n      <td>Foveolar cells</td>\n      <td>Q66592466</td>\n    </tr>\n    <tr>\n      <th>160</th>\n      <td>160</td>\n      <td>Acinar cells</td>\n      <td>Q66590269</td>\n    </tr>\n    <tr>\n      <th>162</th>\n      <td>162</td>\n      <td>Clara cells</td>\n      <td>Q645712</td>\n    </tr>\n    <tr>\n      <th>168</th>\n      <td>168</td>\n      <td>Glomus cells</td>\n      <td>Q4778753</td>\n    </tr>\n  </tbody>\n</table>\n</div>"
     },
     "metadata": {},
     "execution_count": 5
    }
   ],
   "source": [
    "import numpy as np\n",
    "\n",
    "\n",
    "main_list = np.setdiff1d(cell_type_reference[\"wikidata\"], dataframe_to_join[\"superclass\"].dropna())\n",
    "cell_type_reference[[a in main_list for a in cell_type_reference[\"wikidata\"]]]"
   ]
  },
  {
   "source": [
    "I am fixing some of those manually. \n",
    "Satellite glial cells\tQ63710 has a typo, it should point to https://www.wikidata.org/wiki/Q637104\n",
    "\n",
    "The query seems to be buggy, though. \n",
    "I'll proceed and note down the problems. \n"
   ],
   "cell_type": "markdown",
   "metadata": {}
  },
  {
   "cell_type": "code",
   "execution_count": 7,
   "metadata": {},
   "outputs": [],
   "source": [
    "cell_type_reference = cell_type_reference.merge(dataframe_to_join, left_on=\"wikidata\", right_on=\"superclass\")"
   ]
  },
  {
   "cell_type": "code",
   "execution_count": 8,
   "metadata": {},
   "outputs": [
    {
     "output_type": "execute_result",
     "data": {
      "text/plain": [
       "   Unnamed: 0                    panglao    wikidata  superclass  \\\n",
       "0           0                Basal cells  Q101062513  Q101062513   \n",
       "1           1         Trigeminal neurons  Q101062590  Q101062590   \n",
       "2           2      Juxtaglomerular cells    Q2596226    Q2596226   \n",
       "3           3  Pancreatic stellate cells    Q1164962    Q1164962   \n",
       "4           4                Fibroblasts     Q463418     Q463418   \n",
       "\n",
       "                        itemLabel        item  \n",
       "0                human basal cell  Q101404853  \n",
       "1         human trigeminal neuron  Q101404857  \n",
       "2      human juxtaglomerular cell  Q101404858  \n",
       "3  human pancreatic stellate cell  Q101404859  \n",
       "4                human fibroblast  Q101404861  "
      ],
      "text/html": "<div>\n<style scoped>\n    .dataframe tbody tr th:only-of-type {\n        vertical-align: middle;\n    }\n\n    .dataframe tbody tr th {\n        vertical-align: top;\n    }\n\n    .dataframe thead th {\n        text-align: right;\n    }\n</style>\n<table border=\"1\" class=\"dataframe\">\n  <thead>\n    <tr style=\"text-align: right;\">\n      <th></th>\n      <th>Unnamed: 0</th>\n      <th>panglao</th>\n      <th>wikidata</th>\n      <th>superclass</th>\n      <th>itemLabel</th>\n      <th>item</th>\n    </tr>\n  </thead>\n  <tbody>\n    <tr>\n      <th>0</th>\n      <td>0</td>\n      <td>Basal cells</td>\n      <td>Q101062513</td>\n      <td>Q101062513</td>\n      <td>human basal cell</td>\n      <td>Q101404853</td>\n    </tr>\n    <tr>\n      <th>1</th>\n      <td>1</td>\n      <td>Trigeminal neurons</td>\n      <td>Q101062590</td>\n      <td>Q101062590</td>\n      <td>human trigeminal neuron</td>\n      <td>Q101404857</td>\n    </tr>\n    <tr>\n      <th>2</th>\n      <td>2</td>\n      <td>Juxtaglomerular cells</td>\n      <td>Q2596226</td>\n      <td>Q2596226</td>\n      <td>human juxtaglomerular cell</td>\n      <td>Q101404858</td>\n    </tr>\n    <tr>\n      <th>3</th>\n      <td>3</td>\n      <td>Pancreatic stellate cells</td>\n      <td>Q1164962</td>\n      <td>Q1164962</td>\n      <td>human pancreatic stellate cell</td>\n      <td>Q101404859</td>\n    </tr>\n    <tr>\n      <th>4</th>\n      <td>4</td>\n      <td>Fibroblasts</td>\n      <td>Q463418</td>\n      <td>Q463418</td>\n      <td>human fibroblast</td>\n      <td>Q101404861</td>\n    </tr>\n  </tbody>\n</table>\n</div>"
     },
     "metadata": {},
     "execution_count": 8
    }
   ],
   "source": [
    "cell_type_reference.to_csv(\"../results/human_cell_type_reference_21_11_2020.csv\")\n",
    "cell_type_reference.head()"
   ]
  },
  {
   "cell_type": "code",
   "execution_count": 9,
   "metadata": {},
   "outputs": [],
   "source": [
    "human_markers = markers[[\"Hs\" in val for val in markers[\"species\"]]]"
   ]
  },
  {
   "cell_type": "code",
   "execution_count": 10,
   "metadata": {},
   "outputs": [
    {
     "output_type": "execute_result",
     "data": {
      "text/plain": [
       "  official gene symbol     cell type\n",
       "0                CTRB1  Acinar cells\n",
       "1                 KLK1  Acinar cells\n",
       "2                RBPJL  Acinar cells\n",
       "3                PTF1A  Acinar cells\n",
       "5               CELA3A  Acinar cells"
      ],
      "text/html": "<div>\n<style scoped>\n    .dataframe tbody tr th:only-of-type {\n        vertical-align: middle;\n    }\n\n    .dataframe tbody tr th {\n        vertical-align: top;\n    }\n\n    .dataframe thead th {\n        text-align: right;\n    }\n</style>\n<table border=\"1\" class=\"dataframe\">\n  <thead>\n    <tr style=\"text-align: right;\">\n      <th></th>\n      <th>official gene symbol</th>\n      <th>cell type</th>\n    </tr>\n  </thead>\n  <tbody>\n    <tr>\n      <th>0</th>\n      <td>CTRB1</td>\n      <td>Acinar cells</td>\n    </tr>\n    <tr>\n      <th>1</th>\n      <td>KLK1</td>\n      <td>Acinar cells</td>\n    </tr>\n    <tr>\n      <th>2</th>\n      <td>RBPJL</td>\n      <td>Acinar cells</td>\n    </tr>\n    <tr>\n      <th>3</th>\n      <td>PTF1A</td>\n      <td>Acinar cells</td>\n    </tr>\n    <tr>\n      <th>5</th>\n      <td>CELA3A</td>\n      <td>Acinar cells</td>\n    </tr>\n  </tbody>\n</table>\n</div>"
     },
     "metadata": {},
     "execution_count": 10
    }
   ],
   "source": [
    "human_markers_lean = human_markers[[\"official gene symbol\", \"cell type\"]]\n",
    "human_markers_lean.to_csv(\"../results/human_markers_reconciled_13_11_2020.csv\")\n",
    "human_markers_lean.head()"
   ]
  },
  {
   "cell_type": "code",
   "execution_count": 11,
   "metadata": {},
   "outputs": [],
   "source": [
    "human_markers_lean = human_markers_lean.merge(cell_type_reference, left_on=\"cell type\", right_on=\"panglao\")[[\"official gene symbol\", \"cell type\", \"item\"]]\n",
    "\n",
    "human_markers_lean.columns = [\"official gene symbol\", \"cell type\", \"cell type id\"]"
   ]
  },
  {
   "cell_type": "code",
   "execution_count": 12,
   "metadata": {},
   "outputs": [
    {
     "output_type": "execute_result",
     "data": {
      "text/plain": [
       "     official gene symbol                   cell type cell type id    gene id\n",
       "0                   CEBPA  Adipocyte progenitor cells   Q101404942  Q17861031\n",
       "1                   CEBPA  Adipocyte progenitor cells   Q101404943  Q17861031\n",
       "2                   CEBPA                   Basophils   Q101405089  Q17861031\n",
       "3                   CEBPA                Hepatoblasts   Q101404910  Q17861031\n",
       "4                   CEBPA                 Hepatocytes   Q101405101  Q17861031\n",
       "...                   ...                         ...          ...        ...\n",
       "7896              SLC14A1            Urothelial cells   Q101404883  Q18031563\n",
       "7897                UPK3A            Urothelial cells   Q101404883  Q18032295\n",
       "7898                UPK1A            Urothelial cells   Q101404883  Q18036055\n",
       "7899                 UPK2            Urothelial cells   Q101404883  Q18032294\n",
       "7900                UPK3B            Urothelial cells   Q101404883  Q20800734\n",
       "\n",
       "[7901 rows x 4 columns]"
      ],
      "text/html": "<div>\n<style scoped>\n    .dataframe tbody tr th:only-of-type {\n        vertical-align: middle;\n    }\n\n    .dataframe tbody tr th {\n        vertical-align: top;\n    }\n\n    .dataframe thead th {\n        text-align: right;\n    }\n</style>\n<table border=\"1\" class=\"dataframe\">\n  <thead>\n    <tr style=\"text-align: right;\">\n      <th></th>\n      <th>official gene symbol</th>\n      <th>cell type</th>\n      <th>cell type id</th>\n      <th>gene id</th>\n    </tr>\n  </thead>\n  <tbody>\n    <tr>\n      <th>0</th>\n      <td>CEBPA</td>\n      <td>Adipocyte progenitor cells</td>\n      <td>Q101404942</td>\n      <td>Q17861031</td>\n    </tr>\n    <tr>\n      <th>1</th>\n      <td>CEBPA</td>\n      <td>Adipocyte progenitor cells</td>\n      <td>Q101404943</td>\n      <td>Q17861031</td>\n    </tr>\n    <tr>\n      <th>2</th>\n      <td>CEBPA</td>\n      <td>Basophils</td>\n      <td>Q101405089</td>\n      <td>Q17861031</td>\n    </tr>\n    <tr>\n      <th>3</th>\n      <td>CEBPA</td>\n      <td>Hepatoblasts</td>\n      <td>Q101404910</td>\n      <td>Q17861031</td>\n    </tr>\n    <tr>\n      <th>4</th>\n      <td>CEBPA</td>\n      <td>Hepatocytes</td>\n      <td>Q101405101</td>\n      <td>Q17861031</td>\n    </tr>\n    <tr>\n      <th>...</th>\n      <td>...</td>\n      <td>...</td>\n      <td>...</td>\n      <td>...</td>\n    </tr>\n    <tr>\n      <th>7896</th>\n      <td>SLC14A1</td>\n      <td>Urothelial cells</td>\n      <td>Q101404883</td>\n      <td>Q18031563</td>\n    </tr>\n    <tr>\n      <th>7897</th>\n      <td>UPK3A</td>\n      <td>Urothelial cells</td>\n      <td>Q101404883</td>\n      <td>Q18032295</td>\n    </tr>\n    <tr>\n      <th>7898</th>\n      <td>UPK1A</td>\n      <td>Urothelial cells</td>\n      <td>Q101404883</td>\n      <td>Q18036055</td>\n    </tr>\n    <tr>\n      <th>7899</th>\n      <td>UPK2</td>\n      <td>Urothelial cells</td>\n      <td>Q101404883</td>\n      <td>Q18032294</td>\n    </tr>\n    <tr>\n      <th>7900</th>\n      <td>UPK3B</td>\n      <td>Urothelial cells</td>\n      <td>Q101404883</td>\n      <td>Q20800734</td>\n    </tr>\n  </tbody>\n</table>\n<p>7901 rows × 4 columns</p>\n</div>"
     },
     "metadata": {},
     "execution_count": 12
    }
   ],
   "source": [
    "human_markers_lean = human_markers_lean.merge(gene_reference, left_on=\"official gene symbol\", right_on=\"panglao\")[[\"official gene symbol\", \"cell type\", \"cell type id\", \"wikidata\"]]\n",
    "\n",
    "human_markers_lean.columns = [\"official gene symbol\", \"cell type\", \"cell type id\", \"gene id\"]\n",
    "human_markers_lean"
   ]
  },
  {
   "cell_type": "code",
   "execution_count": 13,
   "metadata": {},
   "outputs": [],
   "source": [
    "import rdflib\n",
    "\n",
    "g = rdflib.Graph()\n",
    "\n",
    "for index, row in human_markers_lean.iterrows():\n",
    "\n",
    "    ctp = rdflib.Namespace(\"http://celltypes.wiki.opencura.com/entity/\")\n",
    "    wd = rdflib.Namespace(\"http://www.wikidata.org/entity/\")\n",
    "    wdt = rdflib.Namespace(\"http://www.wikidata.org/prop/direct/\")\n",
    "\n",
    "    s = rdflib.term.URIRef(wd+row[\"cell type id\"])\n",
    "    p1 = rdflib.term.URIRef(ctp+\"P9\")\n",
    "    o1 = rdflib.term.URIRef(wd+row[\"gene id\"])\n",
    "    \n",
    "    g.bind(\"ctp\", ctp)\n",
    "    g.bind(\"wd\", wd)\n",
    "    g.bind(\"wdt\", wdt)\n",
    "    g.add((s, p1, o1))\n",
    "\n",
    "g.serialize(destination='../results/human_cell_type_markers_21_11_2020.ttl', format='turtle')"
   ]
  },
  {
   "source": [
    "There we go. Now we have an _almost_ complete .ttl file."
   ],
   "cell_type": "markdown",
   "metadata": {}
  },
  {
   "cell_type": "code",
   "execution_count": null,
   "metadata": {},
   "outputs": [],
   "source": []
  }
 ]
}