{
 "metadata": {
  "language_info": {
   "codemirror_mode": {
    "name": "ipython",
    "version": 3
   },
   "file_extension": ".py",
   "mimetype": "text/x-python",
   "name": "python",
   "nbconvert_exporter": "python",
   "pygments_lexer": "ipython3",
   "version": 3
  },
  "orig_nbformat": 2
 },
 "nbformat": 4,
 "nbformat_minor": 2,
 "cells": [
  {
   "cell_type": "code",
   "execution_count": 1,
   "metadata": {},
   "outputs": [
    {
     "output_type": "execute_result",
     "data": {
      "text/plain": [
       "          cell_type germ_layer  organ\n",
       "0  Purkinje neurons   Ectoderm  Brain\n",
       "1     Schwann cells   Ectoderm  Brain\n",
       "2  Oligodendrocytes   Ectoderm  Brain\n",
       "3         Microglia   Ectoderm  Brain\n",
       "4        Astrocytes   Ectoderm  Brain"
      ],
      "text/html": "<div>\n<style scoped>\n    .dataframe tbody tr th:only-of-type {\n        vertical-align: middle;\n    }\n\n    .dataframe tbody tr th {\n        vertical-align: top;\n    }\n\n    .dataframe thead th {\n        text-align: right;\n    }\n</style>\n<table border=\"1\" class=\"dataframe\">\n  <thead>\n    <tr style=\"text-align: right;\">\n      <th></th>\n      <th>cell_type</th>\n      <th>germ_layer</th>\n      <th>organ</th>\n    </tr>\n  </thead>\n  <tbody>\n    <tr>\n      <th>0</th>\n      <td>Purkinje neurons</td>\n      <td>Ectoderm</td>\n      <td>Brain</td>\n    </tr>\n    <tr>\n      <th>1</th>\n      <td>Schwann cells</td>\n      <td>Ectoderm</td>\n      <td>Brain</td>\n    </tr>\n    <tr>\n      <th>2</th>\n      <td>Oligodendrocytes</td>\n      <td>Ectoderm</td>\n      <td>Brain</td>\n    </tr>\n    <tr>\n      <th>3</th>\n      <td>Microglia</td>\n      <td>Ectoderm</td>\n      <td>Brain</td>\n    </tr>\n    <tr>\n      <th>4</th>\n      <td>Astrocytes</td>\n      <td>Ectoderm</td>\n      <td>Brain</td>\n    </tr>\n  </tbody>\n</table>\n</div>"
     },
     "metadata": {},
     "execution_count": 1
    }
   ],
   "source": [
    "from reconciler import reconcile\n",
    "import pandas as pd\n",
    "\n",
    "\n",
    "original_data = \"../../analysis/data/panglaodb/\"\n",
    "results_path = \"../../analysis/results/true_matches/\"\n",
    "\n",
    "original_cells_organs = pd.read_csv(f\"{original_data}cells_organs_germlayers.csv\")\n",
    "original_cells_organs.head()"
   ]
  },
  {
   "cell_type": "code",
   "execution_count": 2,
   "metadata": {},
   "outputs": [
    {
     "output_type": "stream",
     "name": "stderr",
     "text": [
      "100%|██████████| 21/21 [02:07<00:00,  6.05s/it]\n"
     ]
    }
   ],
   "source": [
    "cell_types = original_cells_organs[\"cell_type\"]\n",
    "# Reconcile against cell types on Wikidata\n",
    "reconciled = reconcile(cell_types, type_id=\"Q189118\")"
   ]
  },
  {
   "source": [
    "Now I`ll check the matches labeled as \"true\" for false positives."
   ],
   "cell_type": "markdown",
   "metadata": {}
  },
  {
   "cell_type": "code",
   "execution_count": 15,
   "metadata": {},
   "outputs": [],
   "source": [
    "cell_type_matches_considered_true = reconciled[reconciled[\"match\"] == True]\n",
    "cell_type_matches_considered_true.to_csv(\"../results/cell_type_matches_considered_true_29_10_2020.csv\")"
   ]
  },
  {
   "source": [
    "I have saved the file as a csv and opened on LibreOffice. I am looking at each match for inconsistencies and will note down any inconsistencies found.\n",
    "\n",
    "- Dopaminergic neuron is matched to \"dopaminergic cell group\", and the item is a bit weird, it uses info from the Foundational Model of Anatomy (FMA). There is an item for \"dopaminergic neuron\" on Wikitada (Q66591220) with a different FMA identifier. Arguably is a better match, so I`ll use that instead. \n",
    "\n",
    "\n",
    "Modifications to make:\n",
    "\n",
    "- Dopaminergic neurons: Q66591220\n",
    "\n",
    "\n",
    "I`ll prepare a verified dict for name to qid reconciliation of cell types.\n",
    "\n"
   ],
   "cell_type": "markdown",
   "metadata": {}
  },
  {
   "cell_type": "code",
   "execution_count": 16,
   "metadata": {},
   "outputs": [],
   "source": [
    "panglao_cell_type_to_qid = {}\n",
    "\n",
    "for i, row in cell_type_matches_considered_true.iterrows():\n",
    "    name = row[\"input_value\"]\n",
    "    qid = row[\"id\"]\n",
    "    \n",
    "    panglao_cell_type_to_qid[name] = qid\n",
    "\n",
    "# Fix manually false positive match\n",
    "\n",
    "panglao_cell_type_to_qid[\"Dopaminergic neurons\"] = \"Q66591220\""
   ]
  },
  {
   "source": [
    "Nice. Now let`s look at the matches that were found, but considered false. "
   ],
   "cell_type": "markdown",
   "metadata": {}
  },
  {
   "cell_type": "code",
   "execution_count": 29,
   "metadata": {},
   "outputs": [],
   "source": [
    "cell_type_matches_considered_false = reconciled[reconciled[\"match\"] == False]\n",
    "cell_type_matches_considered_false = cell_type_matches_considered_false[cell_type_matches_considered_false[\"id\"].notna()]\n",
    "\n",
    "cell_type_matches_considered_false.to_csv(\"../results/cell_type_matches_considered_false_29_10_2020.csv\")"
   ]
  },
  {
   "source": [
    "Once again I open it with LibreOffice. Now I will have to correc most of them. \n",
    "\n",
    "- Perisynaptic Schwann cells (Q17157019) seems to be too specific. Schwann cell (Q465621) is the better match. \n",
    "- radial glial cell (Q4387286) is similar, but different of Astrocyte progenitor cells. I have created an item for astrocyte progenitor cells (Q101001053).\n",
    "- Adaptive NK cells (Q49000020) is too specific. natural killer cell (Q332181) is the better match. \n",
    "- Endoplasmic Reticulum Stress in Beta Cells (Q5376385) is just a topic. beta cell (Q1767180) is the better match.\n",
    "- Perineuronal satellite cells (Q70068158) is a wrong match. Satellite cells in PanglaoDB are \"precursors to skeletal muscle cells, able to give rise to satellite cells or differentiated skeletal muscle cells.\" There is a \"Satellite cell (Q66592694)\" but I am not sure  if that is what we want. I`ll create a new term.\n",
    "- subependymal glioma (Q18556497) is a wrong match for \"Ependymal cells.\" ependymal cell (Q28646122) is the better match.\n",
    "- cardiomyocyte (Q1047227) is too specific for \"Myocytes\". myocyte (Q428914) is a better match. \n",
    "- natural killer T cell (Q224930) is similar, but different from \"T cells\". T-lymphocytes (Q193529) is a better match. \n",
    "\n",
    "\n",
    "\n",
    "As there is a large number of mismatches, I`ll plainly add the ones that need modification to the list below. I`ll note any case that is different from the ones above and any creation of new \n",
    "\n",
    "\n",
    "\n",
    "\n",
    "\n",
    "Modifications to make:\n",
    "\n",
    "- Schwann cells: Q465621\n",
    "- Astrocyte progenitor cells: Q101001053\n",
    "- NK cells: Q332181\n",
    "- Beta cells: Q1767180\n",
    "- Satellite cells: Q101001061\n",
    "- Ependymal cells: Q28646122\n",
    "- Myocytes: Q428914\n",
    "- T cells: Q193529\n",
    "\n",
    "\n",
    "\n"
   ],
   "cell_type": "markdown",
   "metadata": {}
  },
  {
   "cell_type": "code",
   "execution_count": null,
   "metadata": {},
   "outputs": [],
   "source": []
  }
 ]
}