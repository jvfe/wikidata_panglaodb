{
 "metadata": {
  "language_info": {
   "codemirror_mode": {
    "name": "ipython",
    "version": 3
   },
   "file_extension": ".py",
   "mimetype": "text/x-python",
   "name": "python",
   "nbconvert_exporter": "python",
   "pygments_lexer": "ipython3",
   "version": 3
  },
  "orig_nbformat": 2
 },
 "nbformat": 4,
 "nbformat_minor": 2,
 "cells": [
  {
   "source": [
    "After noting which cell types need to be created on wikidada, now I`ll populate a spreadsheet with the information I need. \n",
    "\n",
    "I can only reference the P31 (instance of) statement, but that is ok.\n",
    "\n",
    "As mentioned in the previous notebook, I`ll:\n",
    "\n",
    "    - Set a table for manual edits with following columns:\n",
    "        - Len (label)\n",
    "        - Den (description)\n",
    "        - Aen (aliases)\n",
    "        - P31 (instance of, referenced to PanglaoDB)\n",
    "        - P279 (subclass of)\n",
    "        - P361 (part of)\n",
    "        - P703 (found in taxon)\n",
    "\n",
    "    - Add the items to Wikidata\n",
    "\n",
    "    Notes:\n",
    "\n",
    "    - T follicular helper cell already existed, but as \"Follicular B helper T cells\"\n",
    "\n",
    "    Changes to make:\n",
    "\n",
    "    - T follicular helper cells: Q5464650\n",
    "    - Retinal precursor cells: Q7316768\n",
    "\n",
    "I have made the table, now I`ll proceed with the QuickStatements commands\n"
   ],
   "cell_type": "markdown",
   "metadata": {}
  },
  {
   "cell_type": "code",
   "execution_count": 1,
   "metadata": {},
   "outputs": [],
   "source": [
    "import pandas as pd\n",
    "\n",
    "df = pd.read_csv(\"../data/cell_types_to_add_31_10_2020.csv\")"
   ]
  },
  {
   "cell_type": "code",
   "execution_count": 4,
   "metadata": {},
   "outputs": [],
   "source": [
    "df = df.fillna(\"\")"
   ]
  },
  {
   "cell_type": "code",
   "execution_count": 15,
   "metadata": {},
   "outputs": [
    {
     "output_type": "execute_result",
     "data": {
      "text/plain": [
       "                                      Len  \\\n",
       "0                    Proximal tubule cell   \n",
       "1   Human myeloid-derived suppressor cell   \n",
       "2   Mouse myeloid-derived suppressor cell   \n",
       "3                  Myeloid dendritic cell   \n",
       "4             Plasmacytoid dendritic cell   \n",
       "..                                    ...   \n",
       "57                   Noradrenergic neuron   \n",
       "58                     Glycinergic neuron   \n",
       "59                               Sebocyte   \n",
       "60                  Trophoblast stem cell   \n",
       "61            Trophoblast progenitor cell   \n",
       "\n",
       "                                       Aen        Den      P31       P279  \\\n",
       "0                    Proximal tubule cells  cell type  Q189118              \n",
       "1   Human myeloid-derived suppressor cells  cell type  Q189118  Q15220362   \n",
       "2   Mouse myeloid-derived suppressor cells  cell type  Q189118  Q15220362   \n",
       "3                  Myeloid dendritic cells  cell type  Q189118    Q506253   \n",
       "4             Plasmacytoid dendritic cells  cell type  Q189118    Q506253   \n",
       "..                                     ...        ...      ...        ...   \n",
       "57                   Noradrenergic neurons  cell type  Q189118     Q43054   \n",
       "58                     Glycinergic neurons  cell type  Q189118     Q43054   \n",
       "59                               Sebocytes  cell type  Q189118              \n",
       "60                  Trophoblast stem cells  cell type  Q189118              \n",
       "61            Trophoblast progenitor cells  cell type  Q189118              \n",
       "\n",
       "         P703      P361 Aen.1  \n",
       "0              Q2916078        \n",
       "1   Q15978631                  \n",
       "2      Q83310                  \n",
       "3                              \n",
       "4                              \n",
       "..        ...       ...   ...  \n",
       "57                             \n",
       "58                             \n",
       "59              Q212328        \n",
       "60                             \n",
       "61                             \n",
       "\n",
       "[62 rows x 8 columns]"
      ],
      "text/html": "<div>\n<style scoped>\n    .dataframe tbody tr th:only-of-type {\n        vertical-align: middle;\n    }\n\n    .dataframe tbody tr th {\n        vertical-align: top;\n    }\n\n    .dataframe thead th {\n        text-align: right;\n    }\n</style>\n<table border=\"1\" class=\"dataframe\">\n  <thead>\n    <tr style=\"text-align: right;\">\n      <th></th>\n      <th>Len</th>\n      <th>Aen</th>\n      <th>Den</th>\n      <th>P31</th>\n      <th>P279</th>\n      <th>P703</th>\n      <th>P361</th>\n      <th>Aen.1</th>\n    </tr>\n  </thead>\n  <tbody>\n    <tr>\n      <th>0</th>\n      <td>Proximal tubule cell</td>\n      <td>Proximal tubule cells</td>\n      <td>cell type</td>\n      <td>Q189118</td>\n      <td></td>\n      <td></td>\n      <td>Q2916078</td>\n      <td></td>\n    </tr>\n    <tr>\n      <th>1</th>\n      <td>Human myeloid-derived suppressor cell</td>\n      <td>Human myeloid-derived suppressor cells</td>\n      <td>cell type</td>\n      <td>Q189118</td>\n      <td>Q15220362</td>\n      <td>Q15978631</td>\n      <td></td>\n      <td></td>\n    </tr>\n    <tr>\n      <th>2</th>\n      <td>Mouse myeloid-derived suppressor cell</td>\n      <td>Mouse myeloid-derived suppressor cells</td>\n      <td>cell type</td>\n      <td>Q189118</td>\n      <td>Q15220362</td>\n      <td>Q83310</td>\n      <td></td>\n      <td></td>\n    </tr>\n    <tr>\n      <th>3</th>\n      <td>Myeloid dendritic cell</td>\n      <td>Myeloid dendritic cells</td>\n      <td>cell type</td>\n      <td>Q189118</td>\n      <td>Q506253</td>\n      <td></td>\n      <td></td>\n      <td></td>\n    </tr>\n    <tr>\n      <th>4</th>\n      <td>Plasmacytoid dendritic cell</td>\n      <td>Plasmacytoid dendritic cells</td>\n      <td>cell type</td>\n      <td>Q189118</td>\n      <td>Q506253</td>\n      <td></td>\n      <td></td>\n      <td></td>\n    </tr>\n    <tr>\n      <th>...</th>\n      <td>...</td>\n      <td>...</td>\n      <td>...</td>\n      <td>...</td>\n      <td>...</td>\n      <td>...</td>\n      <td>...</td>\n      <td>...</td>\n    </tr>\n    <tr>\n      <th>57</th>\n      <td>Noradrenergic neuron</td>\n      <td>Noradrenergic neurons</td>\n      <td>cell type</td>\n      <td>Q189118</td>\n      <td>Q43054</td>\n      <td></td>\n      <td></td>\n      <td></td>\n    </tr>\n    <tr>\n      <th>58</th>\n      <td>Glycinergic neuron</td>\n      <td>Glycinergic neurons</td>\n      <td>cell type</td>\n      <td>Q189118</td>\n      <td>Q43054</td>\n      <td></td>\n      <td></td>\n      <td></td>\n    </tr>\n    <tr>\n      <th>59</th>\n      <td>Sebocyte</td>\n      <td>Sebocytes</td>\n      <td>cell type</td>\n      <td>Q189118</td>\n      <td></td>\n      <td></td>\n      <td>Q212328</td>\n      <td></td>\n    </tr>\n    <tr>\n      <th>60</th>\n      <td>Trophoblast stem cell</td>\n      <td>Trophoblast stem cells</td>\n      <td>cell type</td>\n      <td>Q189118</td>\n      <td></td>\n      <td></td>\n      <td></td>\n      <td></td>\n    </tr>\n    <tr>\n      <th>61</th>\n      <td>Trophoblast progenitor cell</td>\n      <td>Trophoblast progenitor cells</td>\n      <td>cell type</td>\n      <td>Q189118</td>\n      <td></td>\n      <td></td>\n      <td></td>\n      <td></td>\n    </tr>\n  </tbody>\n</table>\n<p>62 rows × 8 columns</p>\n</div>"
     },
     "metadata": {},
     "execution_count": 15
    }
   ],
   "source": [
    "df"
   ]
  },
  {
   "cell_type": "code",
   "execution_count": 17,
   "metadata": {},
   "outputs": [],
   "source": [
    "\n",
    "with open(\"../quickstatements/add_cell_types_30_10_2020.qs\", \"w+\") as qs:\n",
    "\n",
    "    for i, row in df.iterrows():\n",
    "\n",
    "        s = \"LAST\"\n",
    "\n",
    "        Len = s + \"|Len|\" + '\"' + row[\"Len\"] + '\"' + \"\\n\"\n",
    "        Den = s +\"|Den|\" + '\"' + row[\"Den\"] + '\"' + \"\\n\"\n",
    "        Aen = s +\"|Aen|\" + '\"' + row[\"Aen\"] + '\"' + \"\\n\"\n",
    "        Aen_2 = s +\"|Aen|\" + '\"' + row[\"Aen.1\"] + '\"' + \"\\n\"\n",
    "        P31 = s + \"|P31|\" + row[\"P31\"] + \"|S248|\" + \"Q99936939\" +   \"\\n\" \n",
    "        P279 = s + \"|P279|\" + row[\"P279\"] + \"\\n\"\n",
    "        P703 = s + \"|P703|\" + row[\"P703\"] + \"\\n\"\n",
    "        P361 = s + \"|P361|\" + row[\"P361\"] + \"\\n\"\n",
    "\n",
    "        qs.write('CREATE \\n')\n",
    "        qs.write(Len)\n",
    "        qs.write(Den)\n",
    "        qs.write(Aen)\n",
    "        qs.write(Aen_2)\n",
    "        qs.write(P31)\n",
    "        qs.write(P279)\n",
    "        qs.write(P703)\n",
    "        qs.write(P361)\n",
    "        qs.write('\\n')\n",
    "  \n",
    "    \n"
   ]
  },
  {
   "source": [
    "Now I have prepared the table and the quickstatements V1 commands. Nice. What I`ll do now is create a dict with all the manually curated PanglaoDB to Wikidata conversions. It will be overlaid upon the checked automatic matches of a few days ago. \n",
    "\n"
   ],
   "cell_type": "markdown",
   "metadata": {}
  }
 ]
}