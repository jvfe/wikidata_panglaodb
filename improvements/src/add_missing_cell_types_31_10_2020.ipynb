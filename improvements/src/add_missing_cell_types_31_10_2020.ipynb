{
 "metadata": {
  "language_info": {
   "codemirror_mode": {
    "name": "ipython",
    "version": 3
   },
   "file_extension": ".py",
   "mimetype": "text/x-python",
   "name": "python",
   "nbconvert_exporter": "python",
   "pygments_lexer": "ipython3",
   "version": 3
  },
  "orig_nbformat": 2
 },
 "nbformat": 4,
 "nbformat_minor": 2,
 "cells": [
  {
   "source": [
    "After noting which cell types need to be created on wikidada, now I`ll populate a spreadsheet with the information I need. \n",
    "\n",
    "I can only reference the P31 (instance of) statement, but that is ok.\n",
    "\n",
    "As mentioned in the previous notebook, I`ll:\n",
    "\n",
    "    - Set a table for manual edits with following columns:\n",
    "        - Len (label)\n",
    "        - Den (description)\n",
    "        - Aen (aliases)\n",
    "        - P31 (instance of, referenced to PanglaoDB)\n",
    "        - P279 (subclass of)\n",
    "        - P361 (part of)\n",
    "        - P703 (found in taxon)\n",
    "\n",
    "    - Add the items to Wikidata\n",
    "\n",
    "    Notes:\n",
    "\n",
    "    - T follicular helper cell already existed, but as \"Follicular B helper T cells\"\n",
    "\n",
    "    Changes to make:\n",
    "\n",
    "    - T follicular helper cells: Q5464650\n",
    "    - Retinal precursor cells: Q7316768\n",
    "\n",
    "I have made the table, now I`ll proceed with the QuickStatements commands\n"
   ],
   "cell_type": "markdown",
   "metadata": {}
  },
  {
   "cell_type": "code",
   "execution_count": 1,
   "metadata": {},
   "outputs": [],
   "source": [
    "import pandas as pd\n",
    "\n",
    "df = pd.read_csv(\"../data/cell_types_to_add_31_10_2020.csv\")"
   ]
  },
  {
   "cell_type": "code",
   "execution_count": 4,
   "metadata": {},
   "outputs": [],
   "source": [
    "df = df.fillna(\"\")"
   ]
  },
  {
   "cell_type": "code",
   "execution_count": 15,
   "metadata": {},
   "outputs": [
    {
     "output_type": "execute_result",
     "data": {
      "text/plain": [
       "                                      Len  \\\n",
       "0                    Proximal tubule cell   \n",
       "1   Human myeloid-derived suppressor cell   \n",
       "2   Mouse myeloid-derived suppressor cell   \n",
       "3                  Myeloid dendritic cell   \n",
       "4             Plasmacytoid dendritic cell   \n",
       "..                                    ...   \n",
       "57                   Noradrenergic neuron   \n",
       "58                     Glycinergic neuron   \n",
       "59                               Sebocyte   \n",
       "60                  Trophoblast stem cell   \n",
       "61            Trophoblast progenitor cell   \n",
       "\n",
       "                                       Aen        Den      P31       P279  \\\n",
       "0                    Proximal tubule cells  cell type  Q189118              \n",
       "1   Human myeloid-derived suppressor cells  cell type  Q189118  Q15220362   \n",
       "2   Mouse myeloid-derived suppressor cells  cell type  Q189118  Q15220362   \n",
       "3                  Myeloid dendritic cells  cell type  Q189118    Q506253   \n",
       "4             Plasmacytoid dendritic cells  cell type  Q189118    Q506253   \n",
       "..                                     ...        ...      ...        ...   \n",
       "57                   Noradrenergic neurons  cell type  Q189118     Q43054   \n",
       "58                     Glycinergic neurons  cell type  Q189118     Q43054   \n",
       "59                               Sebocytes  cell type  Q189118              \n",
       "60                  Trophoblast stem cells  cell type  Q189118              \n",
       "61            Trophoblast progenitor cells  cell type  Q189118              \n",
       "\n",
       "         P703      P361 Aen.1  \n",
       "0              Q2916078        \n",
       "1   Q15978631                  \n",
       "2      Q83310                  \n",
       "3                              \n",
       "4                              \n",
       "..        ...       ...   ...  \n",
       "57                             \n",
       "58                             \n",
       "59              Q212328        \n",
       "60                             \n",
       "61                             \n",
       "\n",
       "[62 rows x 8 columns]"
      ],
      "text/html": "<div>\n<style scoped>\n    .dataframe tbody tr th:only-of-type {\n        vertical-align: middle;\n    }\n\n    .dataframe tbody tr th {\n        vertical-align: top;\n    }\n\n    .dataframe thead th {\n        text-align: right;\n    }\n</style>\n<table border=\"1\" class=\"dataframe\">\n  <thead>\n    <tr style=\"text-align: right;\">\n      <th></th>\n      <th>Len</th>\n      <th>Aen</th>\n      <th>Den</th>\n      <th>P31</th>\n      <th>P279</th>\n      <th>P703</th>\n      <th>P361</th>\n      <th>Aen.1</th>\n    </tr>\n  </thead>\n  <tbody>\n    <tr>\n      <th>0</th>\n      <td>Proximal tubule cell</td>\n      <td>Proximal tubule cells</td>\n      <td>cell type</td>\n      <td>Q189118</td>\n      <td></td>\n      <td></td>\n      <td>Q2916078</td>\n      <td></td>\n    </tr>\n    <tr>\n      <th>1</th>\n      <td>Human myeloid-derived suppressor cell</td>\n      <td>Human myeloid-derived suppressor cells</td>\n      <td>cell type</td>\n      <td>Q189118</td>\n      <td>Q15220362</td>\n      <td>Q15978631</td>\n      <td></td>\n      <td></td>\n    </tr>\n    <tr>\n      <th>2</th>\n      <td>Mouse myeloid-derived suppressor cell</td>\n      <td>Mouse myeloid-derived suppressor cells</td>\n      <td>cell type</td>\n      <td>Q189118</td>\n      <td>Q15220362</td>\n      <td>Q83310</td>\n      <td></td>\n      <td></td>\n    </tr>\n    <tr>\n      <th>3</th>\n      <td>Myeloid dendritic cell</td>\n      <td>Myeloid dendritic cells</td>\n      <td>cell type</td>\n      <td>Q189118</td>\n      <td>Q506253</td>\n      <td></td>\n      <td></td>\n      <td></td>\n    </tr>\n    <tr>\n      <th>4</th>\n      <td>Plasmacytoid dendritic cell</td>\n      <td>Plasmacytoid dendritic cells</td>\n      <td>cell type</td>\n      <td>Q189118</td>\n      <td>Q506253</td>\n      <td></td>\n      <td></td>\n      <td></td>\n    </tr>\n    <tr>\n      <th>...</th>\n      <td>...</td>\n      <td>...</td>\n      <td>...</td>\n      <td>...</td>\n      <td>...</td>\n      <td>...</td>\n      <td>...</td>\n      <td>...</td>\n    </tr>\n    <tr>\n      <th>57</th>\n      <td>Noradrenergic neuron</td>\n      <td>Noradrenergic neurons</td>\n      <td>cell type</td>\n      <td>Q189118</td>\n      <td>Q43054</td>\n      <td></td>\n      <td></td>\n      <td></td>\n    </tr>\n    <tr>\n      <th>58</th>\n      <td>Glycinergic neuron</td>\n      <td>Glycinergic neurons</td>\n      <td>cell type</td>\n      <td>Q189118</td>\n      <td>Q43054</td>\n      <td></td>\n      <td></td>\n      <td></td>\n    </tr>\n    <tr>\n      <th>59</th>\n      <td>Sebocyte</td>\n      <td>Sebocytes</td>\n      <td>cell type</td>\n      <td>Q189118</td>\n      <td></td>\n      <td></td>\n      <td>Q212328</td>\n      <td></td>\n    </tr>\n    <tr>\n      <th>60</th>\n      <td>Trophoblast stem cell</td>\n      <td>Trophoblast stem cells</td>\n      <td>cell type</td>\n      <td>Q189118</td>\n      <td></td>\n      <td></td>\n      <td></td>\n      <td></td>\n    </tr>\n    <tr>\n      <th>61</th>\n      <td>Trophoblast progenitor cell</td>\n      <td>Trophoblast progenitor cells</td>\n      <td>cell type</td>\n      <td>Q189118</td>\n      <td></td>\n      <td></td>\n      <td></td>\n      <td></td>\n    </tr>\n  </tbody>\n</table>\n<p>62 rows × 8 columns</p>\n</div>"
     },
     "metadata": {},
     "execution_count": 15
    }
   ],
   "source": [
    "df"
   ]
  },
  {
   "cell_type": "code",
   "execution_count": 26,
   "metadata": {},
   "outputs": [],
   "source": [
    "\n",
    "with open(\"../quickstatements/add_cell_types_30_10_2020.qs\", \"w+\") as qs:\n",
    "\n",
    "    for i, row in df.iterrows():\n",
    "\n",
    "        s = \"LAST\"\n",
    "\n",
    "        Len = s + \"|Len|\" + '\"' + row[\"Len\"] + '\"' + \"\\n\"\n",
    "        Den = s +\"|Den|\" + '\"' + row[\"Den\"] + '\"' + \"\\n\"\n",
    "        Aen = s +\"|Aen|\" + '\"' + row[\"Aen\"] + '\"' + \"\\n\"\n",
    "        if row[\"Aen.1\"] != \"\":\n",
    "            Aen_2 = s +\"|Aen|\" + '\"' + row[\"Aen.1\"] + '\"' + \"\\n\"\n",
    "        else:\n",
    "            Aen_2 = \"\"      \n",
    "        P31 = s + \"|P31|\" + row[\"P31\"] + \"|S248|\" + \"Q99936939\" +   \"\\n\" \n",
    "        P279 = s + \"|P279|\" + row[\"P279\"] + \"\\n\"\n",
    "        P703 = s + \"|P703|\" + row[\"P703\"] + \"\\n\"\n",
    "        P361 = s + \"|P361|\" + row[\"P361\"] + \"\\n\"\n",
    "\n",
    "        qs.write('CREATE \\n')\n",
    "        qs.write(Len)\n",
    "        qs.write(Den)\n",
    "        qs.write(Aen)\n",
    "        qs.write(Aen_2)\n",
    "        qs.write(P31)\n",
    "        qs.write(P279)\n",
    "        qs.write(P703)\n",
    "        qs.write(P361)\n",
    "        qs.write('\\n')"
   ]
  },
  {
   "source": [
    "Now I have prepared the table and the quickstatements V1 commands. Nice. What I`ll do now is create a dict with all the manually curated PanglaoDB to Wikidata conversions. It will be overlaid upon the checked automatic matches of a few days ago. \n",
    "\n",
    "First, the previously curated matches:\n"
   ],
   "cell_type": "markdown",
   "metadata": {}
  },
  {
   "cell_type": "code",
   "execution_count": 19,
   "metadata": {},
   "outputs": [],
   "source": [
    "\n",
    "previous_matches = {\n",
    "\"Schwann cells\" : \"Q465621\",\n",
    "\"Astrocyte progenitor cells\" : \"Q101001053\",\n",
    "\"NK cells\" : \"Q332181\",\n",
    "\"Beta cells\" : \"Q1767180\",\n",
    "\"Satellite cells\" : \"Q101001061\",\n",
    "\"Ependymal cells\" : \"Q28646122\",\n",
    "\"Myocytes\" : \"Q428914\",\n",
    "\"T cells\" : \"Q193529\",\n",
    "\"Multinuclear myocytes\" : \"Q101003165\",\n",
    "\"His bundle cells\" : \"Q101003168\",\n",
    "\"Transient cells\" : \"EXCLUDE\",\n",
    "\"Spermatocyte and Spermatozoa\" : \"Q101003191\",\n",
    "\"Granulocytes\" : \"Q223143\",\n",
    "\"Theca cells\" : \"Q101003314\",\n",
    "\"Acinar cells\" : \"Q66590269\",\n",
    "\"Neuroendocrine cells\" : \"Q10599959\",\n",
    "\"Epiblast cells\" : \"Q101003525\",\n",
    "\"Immature neurons \" : \"Q101003994\",\n",
    "\"Cortical interneurons\" : \"Q101004030\",\n",
    "\"Neural stem/precursor cells\" : \"Q2944097\",\n",
    "\"Oligodendrocyte progenitor cells\" : \"Q7086819\",\n",
    "\"T cell naive\" : \"Q6959842\",\n",
    "\"Cardiomyocytes\" : \"Q1047227\",\n",
    "\"T memory cells\" : \"Q2304808\",\n",
    "\"Clara cells\" : \"Q645712\",\n",
    "\"Peripheral blood mononuclear cells\" : \"Q736033\",\n",
    "\"Juxtaglomerular cells\" : \"Q2596226\",\n",
    "\"Cardiac stem and precursor cells\" : \"Q5376332\",\n",
    "\"Thymocytes\" : \"Q7799635\",\n",
    "\"Tuft cells\" : \"Q25325383\",\n",
    "\"Paneth Cells\" : \"Q2004084\",\n",
    "\"Parietal cells\" : \"Q1640093\",\n",
    "\"Mesangial cells\" : \"Q3331086\",\n",
    "\"Trophoblast cells\" : \"Q66589800\",\n",
    "\"Hemangioblasts\" : \"Q1642030\",\n",
    "\"Pancreatic progenitor cells\" : \"Q25325366\",\n",
    "\"Cholangiocytes\" : \"Q5104283\",\n",
    "\"Mesothelial cells\" : \"Q66562849\",\n",
    "\"Myoepithelial cells\" : \"Q1476681\",\n",
    "\"Retinal epithelial cells\" : \"Q66572893\",\n",
    "\"Neuroblasts\" : \"Q2927095\",\n",
    "\"Pulmonary alveolar type I cells\" : \"Q3296912\",\n",
    "\"Pulmonary alveolar type II cells\" : \"Q3272858\",\n",
    "\"Cajal-Retzius cells\" : \"Q2299284\",\n",
    "\"Reticulocytes\" : \"Q1404923\",\n",
    "\"tanycyte\" : \"Q1419042\",\n",
    "\"Gamma delta T cells\" : \"Q3077796\",\n",
    "\"Pinealocytes\" : \"Q3241787\",\n",
    "\"Satellite glial cells\" : \"Q63710\"\n",
    "}"
   ]
  },
  {
   "source": [
    "However, I decided not to do it for the new matches. Instead, I will run the reconciliation code again, and manually check all matches, to be extra sure.\n",
    "\n",
    "As I am ultimately interested in the markers table, I have downloaded it from https://panglaodb.se/markers.html and stored it in ../data/PanglaoDB_markers_27_Mar_2020.tsv . This was the name of the file in the database, leading me to infer it was last updated in 27 March 2020. \n",
    "\n"
   ],
   "cell_type": "markdown",
   "metadata": {}
  },
  {
   "cell_type": "code",
   "execution_count": 28,
   "metadata": {},
   "outputs": [
    {
     "output_type": "execute_result",
     "data": {
      "text/plain": [
       "  species official gene symbol     cell type           nicknames  \\\n",
       "0   Mm Hs                CTRB1  Acinar cells                CTRB   \n",
       "1   Mm Hs                 KLK1  Acinar cells                Klk6   \n",
       "2   Mm Hs                RBPJL  Acinar cells  RBP-L|SUHL|RBPSUHL   \n",
       "3   Mm Hs                PTF1A  Acinar cells    PTF1-p48|bHLHa29   \n",
       "4      Mm                 TRY4  Acinar cells                 NaN   \n",
       "\n",
       "   ubiquitousness index                                product description  \\\n",
       "0                 0.017                                chymotrypsinogen B1   \n",
       "1                 0.013                                       kallikrein 1   \n",
       "2                 0.001  recombination signal binding protein for immun...   \n",
       "3                 0.001        pancreas associated transcription factor 1a   \n",
       "4                 0.007                                          trypsin 4   \n",
       "\n",
       "             gene type  canonical marker germ layer     organ  \\\n",
       "0  protein-coding gene               1.0   Endoderm  Pancreas   \n",
       "1  protein-coding gene               1.0   Endoderm  Pancreas   \n",
       "2  protein-coding gene               1.0   Endoderm  Pancreas   \n",
       "3  protein-coding gene               1.0   Endoderm  Pancreas   \n",
       "4  protein coding gene               1.0   Endoderm  Pancreas   \n",
       "\n",
       "   sensitivity_human  sensitivity_mouse  specificity_human  specificity_mouse  \n",
       "0           1.000000           0.957143           0.000629           0.015920  \n",
       "1           0.833333           0.314286           0.005031           0.012826  \n",
       "2           0.000000           0.000000           0.000000           0.000000  \n",
       "3           0.000000           0.157143           0.000629           0.000773  \n",
       "4                NaN                NaN                NaN                NaN  "
      ],
      "text/html": "<div>\n<style scoped>\n    .dataframe tbody tr th:only-of-type {\n        vertical-align: middle;\n    }\n\n    .dataframe tbody tr th {\n        vertical-align: top;\n    }\n\n    .dataframe thead th {\n        text-align: right;\n    }\n</style>\n<table border=\"1\" class=\"dataframe\">\n  <thead>\n    <tr style=\"text-align: right;\">\n      <th></th>\n      <th>species</th>\n      <th>official gene symbol</th>\n      <th>cell type</th>\n      <th>nicknames</th>\n      <th>ubiquitousness index</th>\n      <th>product description</th>\n      <th>gene type</th>\n      <th>canonical marker</th>\n      <th>germ layer</th>\n      <th>organ</th>\n      <th>sensitivity_human</th>\n      <th>sensitivity_mouse</th>\n      <th>specificity_human</th>\n      <th>specificity_mouse</th>\n    </tr>\n  </thead>\n  <tbody>\n    <tr>\n      <th>0</th>\n      <td>Mm Hs</td>\n      <td>CTRB1</td>\n      <td>Acinar cells</td>\n      <td>CTRB</td>\n      <td>0.017</td>\n      <td>chymotrypsinogen B1</td>\n      <td>protein-coding gene</td>\n      <td>1.0</td>\n      <td>Endoderm</td>\n      <td>Pancreas</td>\n      <td>1.000000</td>\n      <td>0.957143</td>\n      <td>0.000629</td>\n      <td>0.015920</td>\n    </tr>\n    <tr>\n      <th>1</th>\n      <td>Mm Hs</td>\n      <td>KLK1</td>\n      <td>Acinar cells</td>\n      <td>Klk6</td>\n      <td>0.013</td>\n      <td>kallikrein 1</td>\n      <td>protein-coding gene</td>\n      <td>1.0</td>\n      <td>Endoderm</td>\n      <td>Pancreas</td>\n      <td>0.833333</td>\n      <td>0.314286</td>\n      <td>0.005031</td>\n      <td>0.012826</td>\n    </tr>\n    <tr>\n      <th>2</th>\n      <td>Mm Hs</td>\n      <td>RBPJL</td>\n      <td>Acinar cells</td>\n      <td>RBP-L|SUHL|RBPSUHL</td>\n      <td>0.001</td>\n      <td>recombination signal binding protein for immun...</td>\n      <td>protein-coding gene</td>\n      <td>1.0</td>\n      <td>Endoderm</td>\n      <td>Pancreas</td>\n      <td>0.000000</td>\n      <td>0.000000</td>\n      <td>0.000000</td>\n      <td>0.000000</td>\n    </tr>\n    <tr>\n      <th>3</th>\n      <td>Mm Hs</td>\n      <td>PTF1A</td>\n      <td>Acinar cells</td>\n      <td>PTF1-p48|bHLHa29</td>\n      <td>0.001</td>\n      <td>pancreas associated transcription factor 1a</td>\n      <td>protein-coding gene</td>\n      <td>1.0</td>\n      <td>Endoderm</td>\n      <td>Pancreas</td>\n      <td>0.000000</td>\n      <td>0.157143</td>\n      <td>0.000629</td>\n      <td>0.000773</td>\n    </tr>\n    <tr>\n      <th>4</th>\n      <td>Mm</td>\n      <td>TRY4</td>\n      <td>Acinar cells</td>\n      <td>NaN</td>\n      <td>0.007</td>\n      <td>trypsin 4</td>\n      <td>protein coding gene</td>\n      <td>1.0</td>\n      <td>Endoderm</td>\n      <td>Pancreas</td>\n      <td>NaN</td>\n      <td>NaN</td>\n      <td>NaN</td>\n      <td>NaN</td>\n    </tr>\n  </tbody>\n</table>\n</div>"
     },
     "metadata": {},
     "execution_count": 28
    }
   ],
   "source": [
    "import pandas as pd\n",
    "\n",
    "markers = pd.read_csv(\"../data/PanglaoDB_markers_27_Mar_2020.tsv\", sep=\"\\t\")\n",
    "markers.head()"
   ]
  },
  {
   "cell_type": "code",
   "execution_count": 37,
   "metadata": {},
   "outputs": [
    {
     "output_type": "stream",
     "name": "stderr",
     "text": [
      "100%|██████████| 17/17 [02:51<00:00, 10.11s/it]\n"
     ]
    }
   ],
   "source": [
    "from reconciler import reconcile\n",
    "import pandas as pd\n",
    "\n",
    "\n",
    "cell_types = pd.Series(list(set(markers[\"cell type\"])))\n",
    "reconciled = reconcile(cell_types, type_id=\"Q189118\")"
   ]
  },
  {
   "cell_type": "code",
   "execution_count": 40,
   "metadata": {},
   "outputs": [
    {
     "output_type": "execute_result",
     "data": {
      "text/plain": [
       "True     133\n",
       "False     45\n",
       "Name: match, dtype: int64"
      ]
     },
     "metadata": {},
     "execution_count": 40
    }
   ],
   "source": [
    "reconciled[\"match\"].value_counts()"
   ]
  },
  {
   "source": [
    "Nice, the percentage of true matches is quite high now. I`ll save the table and manually check."
   ],
   "cell_type": "markdown",
   "metadata": {}
  }
 ]
}