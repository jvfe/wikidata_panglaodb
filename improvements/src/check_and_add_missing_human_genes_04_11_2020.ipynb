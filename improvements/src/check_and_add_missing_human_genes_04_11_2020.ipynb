{
 "metadata": {
  "language_info": {
   "codemirror_mode": {
    "name": "ipython",
    "version": 3
   },
   "file_extension": ".py",
   "mimetype": "text/x-python",
   "name": "python",
   "nbconvert_exporter": "python",
   "pygments_lexer": "ipython3",
   "version": 3
  },
  "orig_nbformat": 2
 },
 "nbformat": 4,
 "nbformat_minor": 2,
 "cells": [
  {
   "cell_type": "code",
   "execution_count": 5,
   "metadata": {},
   "outputs": [],
   "source": [
    "import pandas as pd \n",
    "from wikidata2df import wikidata2df\n",
    "\n",
    "with open(\"../queries/human_genes.rq\", \"r\") as f:\n",
    "    query = f.read()\n",
    "\n",
    "df = wikidata2df(query)"
   ]
  },
  {
   "cell_type": "code",
   "execution_count": 7,
   "metadata": {},
   "outputs": [],
   "source": [
    "markers = pd.read_csv(\"../data/PanglaoDB_markers_27_Mar_2020.tsv\", sep = \"\\t\")"
   ]
  },
  {
   "cell_type": "code",
   "execution_count": 11,
   "metadata": {},
   "outputs": [],
   "source": [
    "human_markers = markers[[\"Hs\" in val for val in markers[\"species\"]]]"
   ]
  },
  {
   "cell_type": "code",
   "execution_count": 12,
   "metadata": {},
   "outputs": [
    {
     "output_type": "display_data",
     "data": {
      "text/plain": "<Figure size 432x288 with 1 Axes>",
      "image/svg+xml": "<?xml version=\"1.0\" encoding=\"utf-8\" standalone=\"no\"?>\n<!DOCTYPE svg PUBLIC \"-//W3C//DTD SVG 1.1//EN\"\n  \"http://www.w3.org/Graphics/SVG/1.1/DTD/svg11.dtd\">\n<!-- Created with matplotlib (https://matplotlib.org/) -->\n<svg height=\"233.174239pt\" version=\"1.1\" viewBox=\"0 0 234.075999 233.174239\" width=\"234.075999pt\" xmlns=\"http://www.w3.org/2000/svg\" xmlns:xlink=\"http://www.w3.org/1999/xlink\">\n <metadata>\n  <rdf:RDF xmlns:cc=\"http://creativecommons.org/ns#\" xmlns:dc=\"http://purl.org/dc/elements/1.1/\" xmlns:rdf=\"http://www.w3.org/1999/02/22-rdf-syntax-ns#\">\n   <cc:Work>\n    <dc:type rdf:resource=\"http://purl.org/dc/dcmitype/StillImage\"/>\n    <dc:date>2020-11-04T13:57:45.728413</dc:date>\n    <dc:format>image/svg+xml</dc:format>\n    <dc:creator>\n     <cc:Agent>\n      <dc:title>Matplotlib v3.3.2, https://matplotlib.org/</dc:title>\n     </cc:Agent>\n    </dc:creator>\n   </cc:Work>\n  </rdf:RDF>\n </metadata>\n <defs>\n  <style type=\"text/css\">*{stroke-linecap:butt;stroke-linejoin:round;}</style>\n </defs>\n <g id=\"figure_1\">\n  <g id=\"patch_1\">\n   <path d=\"M 0 233.174239 \nL 234.075999 233.174239 \nL 234.075999 0 \nL 0 0 \nz\n\" style=\"fill:none;\"/>\n  </g>\n  <g id=\"axes_1\">\n   <g id=\"patch_2\">\n    <path clip-path=\"url(#pc1ae1ef6b3)\" d=\"M 207.27768 129.357438 \nC 205.778542 132.306949 203.796327 134.984898 201.413296 137.280153 \nC 199.030265 139.575408 196.279845 141.455774 193.276175 142.843216 \nC 190.272505 144.230659 187.057717 145.105717 183.765222 145.432077 \nC 180.472728 145.758437 177.14871 145.53152 173.931112 144.760744 \nC 170.713514 143.989968 167.64747 142.686144 164.860216 140.90338 \nC 162.072962 139.120615 159.603596 136.883917 157.554594 134.286106 \nC 155.505592 131.688295 153.905695 128.765811 152.821298 125.639933 \nC 151.7369 122.514055 151.183212 119.22863 151.183212 115.92 \nC 151.183212 112.61137 151.7369 109.325945 152.821298 106.200067 \nC 153.905695 103.074189 155.505592 100.151705 157.554594 97.553894 \nC 159.603596 94.956083 162.072962 92.719385 164.860216 90.93662 \nC 167.64747 89.153856 170.713514 87.850032 173.931112 87.079256 \nC 177.14871 86.30848 180.472728 86.081563 183.765222 86.407923 \nC 187.057717 86.734283 190.272505 87.609341 193.276175 88.996784 \nC 196.279845 90.384226 199.030265 92.264592 201.413296 94.559847 \nC 203.796327 96.855102 205.778542 99.533051 207.27768 102.482562 \nC 205.595606 91.046573 201.781086 80.027444 196.032788 69.999071 \nC 190.284489 59.970697 182.703968 51.110253 173.686032 43.879206 \nC 164.668096 36.648159 154.372067 31.174261 143.334181 27.742604 \nC 132.296294 24.310946 120.711559 22.982157 109.183329 23.825441 \nC 97.6551 24.668725 86.387047 27.669185 75.966032 32.67055 \nC 65.545017 37.671915 56.15515 44.585826 48.285472 53.052194 \nC 40.415794 61.518561 34.20534 71.387808 29.977563 82.145927 \nC 25.749786 92.904045 23.579378 104.360968 23.579378 115.92 \nC 23.579378 127.479032 25.749786 138.935955 29.977563 149.694073 \nC 34.20534 160.452192 40.415794 170.321439 48.285472 178.787806 \nC 56.15515 187.254174 65.545017 194.168085 75.966032 199.16945 \nC 86.387047 204.170815 97.6551 207.171275 109.183329 208.014559 \nC 120.711559 208.857843 132.296294 207.529054 143.334181 204.097396 \nC 154.372067 200.665739 164.668096 195.191841 173.686032 187.960794 \nC 182.703968 180.729747 190.284489 171.869303 196.032788 161.840929 \nC 201.781086 151.812556 205.595606 140.793427 207.27768 129.357438 \n\" style=\"fill:#ff0000;opacity:0.4;\"/>\n   </g>\n   <g id=\"patch_3\">\n    <path clip-path=\"url(#pc1ae1ef6b3)\" d=\"M 207.27768 102.482562 \nC 207.9321 106.931795 208.260622 111.422896 208.260622 115.92 \nC 208.260622 120.417104 207.9321 124.908205 207.27768 129.357438 \nC 209.393605 125.194419 210.496621 120.58989 210.496621 115.92 \nC 210.496621 111.25011 209.393605 106.645581 207.27768 102.482562 \n\" style=\"fill:#008000;opacity:0.4;\"/>\n   </g>\n   <g id=\"patch_4\">\n    <path clip-path=\"url(#pc1ae1ef6b3)\" d=\"M 207.27768 129.357438 \nC 207.9321 124.908205 208.260622 120.417104 208.260622 115.92 \nC 208.260622 111.422896 207.9321 106.931795 207.27768 102.482562 \nC 205.778542 99.533051 203.796327 96.855102 201.413296 94.559847 \nC 199.030265 92.264592 196.279845 90.384226 193.276175 88.996784 \nC 190.272505 87.609341 187.057717 86.734283 183.765222 86.407923 \nC 180.472728 86.081563 177.14871 86.30848 173.931112 87.079256 \nC 170.713514 87.850032 167.64747 89.153856 164.860216 90.93662 \nC 162.072962 92.719385 159.603596 94.956083 157.554594 97.553894 \nC 155.505592 100.151705 153.905695 103.074189 152.821298 106.200067 \nC 151.7369 109.325945 151.183212 112.61137 151.183212 115.92 \nC 151.183212 119.22863 151.7369 122.514055 152.821298 125.639933 \nC 153.905695 128.765811 155.505592 131.688295 157.554594 134.286106 \nC 159.603596 136.883917 162.072962 139.120615 164.860216 140.90338 \nC 167.64747 142.686144 170.713514 143.989968 173.931112 144.760744 \nC 177.14871 145.53152 180.472728 145.758437 183.765222 145.432077 \nC 187.057717 145.105717 190.272505 144.230659 193.276175 142.843216 \nC 196.279845 141.455774 199.030265 139.575408 201.413296 137.280153 \nC 203.796327 134.984898 205.778542 132.306949 207.27768 129.357438 \n\" style=\"fill:#b25900;opacity:0.4;\"/>\n   </g>\n   <g id=\"text_1\">\n    <!-- 37843 -->\n    <g transform=\"translate(71.475045 118.679375)scale(0.1 -0.1)\">\n     <defs>\n      <path d=\"M 40.578125 39.3125 \nQ 47.65625 37.796875 51.625 33 \nQ 55.609375 28.21875 55.609375 21.1875 \nQ 55.609375 10.40625 48.1875 4.484375 \nQ 40.765625 -1.421875 27.09375 -1.421875 \nQ 22.515625 -1.421875 17.65625 -0.515625 \nQ 12.796875 0.390625 7.625 2.203125 \nL 7.625 11.71875 \nQ 11.71875 9.328125 16.59375 8.109375 \nQ 21.484375 6.890625 26.8125 6.890625 \nQ 36.078125 6.890625 40.9375 10.546875 \nQ 45.796875 14.203125 45.796875 21.1875 \nQ 45.796875 27.640625 41.28125 31.265625 \nQ 36.765625 34.90625 28.71875 34.90625 \nL 20.21875 34.90625 \nL 20.21875 43.015625 \nL 29.109375 43.015625 \nQ 36.375 43.015625 40.234375 45.921875 \nQ 44.09375 48.828125 44.09375 54.296875 \nQ 44.09375 59.90625 40.109375 62.90625 \nQ 36.140625 65.921875 28.71875 65.921875 \nQ 24.65625 65.921875 20.015625 65.03125 \nQ 15.375 64.15625 9.8125 62.3125 \nL 9.8125 71.09375 \nQ 15.4375 72.65625 20.34375 73.4375 \nQ 25.25 74.21875 29.59375 74.21875 \nQ 40.828125 74.21875 47.359375 69.109375 \nQ 53.90625 64.015625 53.90625 55.328125 \nQ 53.90625 49.265625 50.4375 45.09375 \nQ 46.96875 40.921875 40.578125 39.3125 \nz\n\" id=\"DejaVuSans-51\"/>\n      <path d=\"M 8.203125 72.90625 \nL 55.078125 72.90625 \nL 55.078125 68.703125 \nL 28.609375 0 \nL 18.3125 0 \nL 43.21875 64.59375 \nL 8.203125 64.59375 \nz\n\" id=\"DejaVuSans-55\"/>\n      <path d=\"M 31.78125 34.625 \nQ 24.75 34.625 20.71875 30.859375 \nQ 16.703125 27.09375 16.703125 20.515625 \nQ 16.703125 13.921875 20.71875 10.15625 \nQ 24.75 6.390625 31.78125 6.390625 \nQ 38.8125 6.390625 42.859375 10.171875 \nQ 46.921875 13.96875 46.921875 20.515625 \nQ 46.921875 27.09375 42.890625 30.859375 \nQ 38.875 34.625 31.78125 34.625 \nz\nM 21.921875 38.8125 \nQ 15.578125 40.375 12.03125 44.71875 \nQ 8.5 49.078125 8.5 55.328125 \nQ 8.5 64.0625 14.71875 69.140625 \nQ 20.953125 74.21875 31.78125 74.21875 \nQ 42.671875 74.21875 48.875 69.140625 \nQ 55.078125 64.0625 55.078125 55.328125 \nQ 55.078125 49.078125 51.53125 44.71875 \nQ 48 40.375 41.703125 38.8125 \nQ 48.828125 37.15625 52.796875 32.3125 \nQ 56.78125 27.484375 56.78125 20.515625 \nQ 56.78125 9.90625 50.3125 4.234375 \nQ 43.84375 -1.421875 31.78125 -1.421875 \nQ 19.734375 -1.421875 13.25 4.234375 \nQ 6.78125 9.90625 6.78125 20.515625 \nQ 6.78125 27.484375 10.78125 32.3125 \nQ 14.796875 37.15625 21.921875 38.8125 \nz\nM 18.3125 54.390625 \nQ 18.3125 48.734375 21.84375 45.5625 \nQ 25.390625 42.390625 31.78125 42.390625 \nQ 38.140625 42.390625 41.71875 45.5625 \nQ 45.3125 48.734375 45.3125 54.390625 \nQ 45.3125 60.0625 41.71875 63.234375 \nQ 38.140625 66.40625 31.78125 66.40625 \nQ 25.390625 66.40625 21.84375 63.234375 \nQ 18.3125 60.0625 18.3125 54.390625 \nz\n\" id=\"DejaVuSans-56\"/>\n      <path d=\"M 37.796875 64.3125 \nL 12.890625 25.390625 \nL 37.796875 25.390625 \nz\nM 35.203125 72.90625 \nL 47.609375 72.90625 \nL 47.609375 25.390625 \nL 58.015625 25.390625 \nL 58.015625 17.1875 \nL 47.609375 17.1875 \nL 47.609375 0 \nL 37.796875 0 \nL 37.796875 17.1875 \nL 4.890625 17.1875 \nL 4.890625 26.703125 \nz\n\" id=\"DejaVuSans-52\"/>\n     </defs>\n     <use xlink:href=\"#DejaVuSans-51\"/>\n     <use x=\"63.623047\" xlink:href=\"#DejaVuSans-55\"/>\n     <use x=\"127.246094\" xlink:href=\"#DejaVuSans-56\"/>\n     <use x=\"190.869141\" xlink:href=\"#DejaVuSans-52\"/>\n     <use x=\"254.492188\" xlink:href=\"#DejaVuSans-51\"/>\n    </g>\n   </g>\n   <g id=\"text_2\">\n    <!-- 64 -->\n    <g transform=\"translate(203.016121 118.679375)scale(0.1 -0.1)\">\n     <defs>\n      <path d=\"M 33.015625 40.375 \nQ 26.375 40.375 22.484375 35.828125 \nQ 18.609375 31.296875 18.609375 23.390625 \nQ 18.609375 15.53125 22.484375 10.953125 \nQ 26.375 6.390625 33.015625 6.390625 \nQ 39.65625 6.390625 43.53125 10.953125 \nQ 47.40625 15.53125 47.40625 23.390625 \nQ 47.40625 31.296875 43.53125 35.828125 \nQ 39.65625 40.375 33.015625 40.375 \nz\nM 52.59375 71.296875 \nL 52.59375 62.3125 \nQ 48.875 64.0625 45.09375 64.984375 \nQ 41.3125 65.921875 37.59375 65.921875 \nQ 27.828125 65.921875 22.671875 59.328125 \nQ 17.53125 52.734375 16.796875 39.40625 \nQ 19.671875 43.65625 24.015625 45.921875 \nQ 28.375 48.1875 33.59375 48.1875 \nQ 44.578125 48.1875 50.953125 41.515625 \nQ 57.328125 34.859375 57.328125 23.390625 \nQ 57.328125 12.15625 50.6875 5.359375 \nQ 44.046875 -1.421875 33.015625 -1.421875 \nQ 20.359375 -1.421875 13.671875 8.265625 \nQ 6.984375 17.96875 6.984375 36.375 \nQ 6.984375 53.65625 15.1875 63.9375 \nQ 23.390625 74.21875 37.203125 74.21875 \nQ 40.921875 74.21875 44.703125 73.484375 \nQ 48.484375 72.75 52.59375 71.296875 \nz\n\" id=\"DejaVuSans-54\"/>\n     </defs>\n     <use xlink:href=\"#DejaVuSans-54\"/>\n     <use x=\"63.623047\" xlink:href=\"#DejaVuSans-52\"/>\n    </g>\n   </g>\n   <g id=\"text_3\">\n    <!-- 4281 -->\n    <g transform=\"translate(166.996917 118.679375)scale(0.1 -0.1)\">\n     <defs>\n      <path d=\"M 19.1875 8.296875 \nL 53.609375 8.296875 \nL 53.609375 0 \nL 7.328125 0 \nL 7.328125 8.296875 \nQ 12.9375 14.109375 22.625 23.890625 \nQ 32.328125 33.6875 34.8125 36.53125 \nQ 39.546875 41.84375 41.421875 45.53125 \nQ 43.3125 49.21875 43.3125 52.78125 \nQ 43.3125 58.59375 39.234375 62.25 \nQ 35.15625 65.921875 28.609375 65.921875 \nQ 23.96875 65.921875 18.8125 64.3125 \nQ 13.671875 62.703125 7.8125 59.421875 \nL 7.8125 69.390625 \nQ 13.765625 71.78125 18.9375 73 \nQ 24.125 74.21875 28.421875 74.21875 \nQ 39.75 74.21875 46.484375 68.546875 \nQ 53.21875 62.890625 53.21875 53.421875 \nQ 53.21875 48.921875 51.53125 44.890625 \nQ 49.859375 40.875 45.40625 35.40625 \nQ 44.1875 33.984375 37.640625 27.21875 \nQ 31.109375 20.453125 19.1875 8.296875 \nz\n\" id=\"DejaVuSans-50\"/>\n      <path d=\"M 12.40625 8.296875 \nL 28.515625 8.296875 \nL 28.515625 63.921875 \nL 10.984375 60.40625 \nL 10.984375 69.390625 \nL 28.421875 72.90625 \nL 38.28125 72.90625 \nL 38.28125 8.296875 \nL 54.390625 8.296875 \nL 54.390625 0 \nL 12.40625 0 \nz\n\" id=\"DejaVuSans-49\"/>\n     </defs>\n     <use xlink:href=\"#DejaVuSans-52\"/>\n     <use x=\"63.623047\" xlink:href=\"#DejaVuSans-50\"/>\n     <use x=\"127.246094\" xlink:href=\"#DejaVuSans-56\"/>\n     <use x=\"190.869141\" xlink:href=\"#DejaVuSans-49\"/>\n    </g>\n   </g>\n   <g id=\"text_4\">\n    <!-- A -->\n    <g transform=\"translate(107.71125 223.478614)scale(0.12 -0.12)\">\n     <defs>\n      <path d=\"M 34.1875 63.1875 \nL 20.796875 26.90625 \nL 47.609375 26.90625 \nz\nM 28.609375 72.90625 \nL 39.796875 72.90625 \nL 67.578125 0 \nL 57.328125 0 \nL 50.6875 18.703125 \nL 17.828125 18.703125 \nL 11.1875 0 \nL 0.78125 0 \nz\n\" id=\"DejaVuSans-65\"/>\n     </defs>\n     <use xlink:href=\"#DejaVuSans-65\"/>\n    </g>\n   </g>\n   <g id=\"text_5\">\n    <!-- B -->\n    <g transform=\"translate(180.839917 160.794695)scale(0.12 -0.12)\">\n     <defs>\n      <path d=\"M 19.671875 34.8125 \nL 19.671875 8.109375 \nL 35.5 8.109375 \nQ 43.453125 8.109375 47.28125 11.40625 \nQ 51.125 14.703125 51.125 21.484375 \nQ 51.125 28.328125 47.28125 31.5625 \nQ 43.453125 34.8125 35.5 34.8125 \nz\nM 19.671875 64.796875 \nL 19.671875 42.828125 \nL 34.28125 42.828125 \nQ 41.5 42.828125 45.03125 45.53125 \nQ 48.578125 48.25 48.578125 53.8125 \nQ 48.578125 59.328125 45.03125 62.0625 \nQ 41.5 64.796875 34.28125 64.796875 \nz\nM 9.8125 72.90625 \nL 35.015625 72.90625 \nQ 46.296875 72.90625 52.390625 68.21875 \nQ 58.5 63.53125 58.5 54.890625 \nQ 58.5 48.1875 55.375 44.234375 \nQ 52.25 40.28125 46.1875 39.3125 \nQ 53.46875 37.75 57.5 32.78125 \nQ 61.53125 27.828125 61.53125 20.40625 \nQ 61.53125 10.640625 54.890625 5.3125 \nQ 48.25 0 35.984375 0 \nL 9.8125 0 \nz\n\" id=\"DejaVuSans-66\"/>\n     </defs>\n     <use xlink:href=\"#DejaVuSans-66\"/>\n    </g>\n   </g>\n  </g>\n </g>\n <defs>\n  <clipPath id=\"pc1ae1ef6b3\">\n   <rect height=\"217.44\" width=\"219.675999\" x=\"7.2\" y=\"7.2\"/>\n  </clipPath>\n </defs>\n</svg>\n",
      "image/png": "[encoded data removed]"
     },
     "metadata": {}
    }
   ],
   "source": [
    "from matplotlib_venn import venn2, venn2_circles, venn2_unweighted\n",
    "from matplotlib_venn import venn3, venn3_circles\n",
    "from matplotlib import pyplot as plt\n",
    "%matplotlib inline\n",
    "\n",
    "unique_genes_wikidata = set(df[\"hgnc\"].values)\n",
    "unique_genes_panglao = set(human_markers[\"official gene symbol\"].values)\n",
    "\n",
    "venn2([unique_genes_wikidata, unique_genes_panglao])\n",
    "plt.show()\n"
   ]
  },
  {
   "cell_type": "code",
   "execution_count": 13,
   "metadata": {},
   "outputs": [
    {
     "output_type": "execute_result",
     "data": {
      "text/plain": [
       "{'AAED1',\n",
       " 'ALCAM ',\n",
       " 'C11ORF80',\n",
       " 'C15ORF48',\n",
       " 'C1ORF53',\n",
       " 'C1ORF54',\n",
       " 'C2ORF54',\n",
       " 'C2ORF88',\n",
       " 'CLCA3P',\n",
       " 'CTGF',\n",
       " 'CYR61',\n",
       " 'FAM129B',\n",
       " 'FAM129C',\n",
       " 'FAM196A',\n",
       " 'FAM198B',\n",
       " 'FAM19A1',\n",
       " 'FAM19A5',\n",
       " 'FAM69B',\n",
       " 'FAM84A',\n",
       " 'FAM92B',\n",
       " 'GGNBP1',\n",
       " 'GLYCAM1',\n",
       " 'GRASP',\n",
       " 'GUSBP11',\n",
       " 'H1FNT',\n",
       " 'H2AFB1',\n",
       " 'H2AFX',\n",
       " 'H2AFY',\n",
       " 'H2AFZ',\n",
       " 'HILS1',\n",
       " 'HIST1H1D',\n",
       " 'HIST1H2AC',\n",
       " 'HIST1H2AE',\n",
       " 'HIST1H2BC',\n",
       " 'HIST1H2BG',\n",
       " 'HIST1H2BK',\n",
       " 'HIST1H3H',\n",
       " 'HIST2H2BE',\n",
       " 'HLA-DRB6',\n",
       " 'HRASLS5',\n",
       " 'KIF1BP',\n",
       " 'MARCH1',\n",
       " 'MARCH11',\n",
       " 'MKL2',\n",
       " 'MRVI1',\n",
       " 'MT1L',\n",
       " 'MUM1',\n",
       " 'NOV',\n",
       " 'PPY2P',\n",
       " 'PTGDS ',\n",
       " 'SEPT1',\n",
       " 'SEPT6',\n",
       " 'SEPT9',\n",
       " 'SIX3OS1',\n",
       " 'SPERT',\n",
       " 'SSPO',\n",
       " 'T',\n",
       " 'TMEM173',\n",
       " 'UPK3B',\n",
       " 'USMG5',\n",
       " 'WDR60',\n",
       " 'WISP1',\n",
       " 'WISP2',\n",
       " 'ZRSR1'}"
      ]
     },
     "metadata": {},
     "execution_count": 13
    }
   ],
   "source": [
    "unique_genes_panglao - unique_genes_wikidata"
   ]
  },
  {
   "source": [
    "For these cases, it is likely that panglao is not using the hgnc. Let`s check on Wikidata what are the likely best options. \n",
    "\n",
    "Most cases are issues regargind aliases. I'll note down any extraordinary cases.\n",
    "\n",
    "- 'ALCAM ' : \"ALCAM\" failure was motivated by a space. 'PTGDS ' : \"PTGDS\" too. \n",
    "\n",
    "- C11ORF80' : \"C11orf80\" was motivated by capitalization\n",
    "\n",
    "- CLCA3P is an instance of pseudogene on Wikidata. It will be added manually. GGNBP1 is too. GLYCAM1 is too. GUSBP11 is too. HLA-DRB6 is too. MT1L is too. PPY2P is too.\n",
    "\n",
    "-  'HIST1H2BC and HIST1H2BG are associated alias of multiple genes.\n",
    "\n",
    "- NOV is has also multiple references.\n",
    "\n",
    "- SIX3OS1 is present as a human marker in panglao, but it has no reported homolog in humans.\n",
    "\n",
    "- ZRSR1 is double listed as a gene and a pseudogene.\n",
    "\n"
   ],
   "cell_type": "markdown",
   "metadata": {}
  },
  {
   "cell_type": "code",
   "execution_count": 14,
   "metadata": {},
   "outputs": [],
   "source": [
    "gene_retification = {\n",
    " 'AAED1' : \"PRXL2C\",\n",
    " 'ALCAM ' : \"ALCAM\",\n",
    " 'C11ORF80' : \"C11orf80\",\n",
    " 'C15ORF48' : \"C15orf48\",\n",
    " 'C1ORF53' : \"C1orf53\",\n",
    " 'C1ORF54' : \"C1orf54\",\n",
    " 'C2ORF54' : \"MAB21L4\",\n",
    " 'C2ORF88' : \"C2orf88\",\n",
    " 'CLCA3P' : \"CLCA3P\",\n",
    " 'CTGF' : \"CCN2\",\n",
    " 'CYR61' : \"CCN1\",\n",
    " 'FAM129B' : \"NIBAN2\",\n",
    " 'FAM129C' : \"NIBAN3\",\n",
    " 'FAM196A' : \"INSYN2A\",\n",
    " 'FAM198B' : \"GASK1B\",\n",
    " 'FAM19A1' : \"TAFA1\",\n",
    " 'FAM19A5' : \"TAFA5\",\n",
    " 'FAM69B' : \"DIPK1B\",\n",
    " 'FAM84A' : \"LRATD1\",\n",
    " 'FAM92B' : \"CIBAR2\",\n",
    " 'GGNBP1' : \"GGNBP1\",\n",
    " 'GLYCAM1' : \"GLYCAM1\",\n",
    " 'GRASP' : \"TAMALIN\",\n",
    " 'GUSBP11' : \"GUSBP11\",\n",
    " 'H1FNT' : \"H1-7\",\n",
    " 'H2AFB1' : \"H2AB1\",\n",
    " 'H2AFX' : \"H2AX\",\n",
    " 'H2AFY' : \"MACROH2A1\",\n",
    " 'H2AFZ' : \"H2AZ1\",\n",
    " 'HILS1' : \"H1-9P\",\n",
    " 'HIST1H1D' : \"H1-3\",\n",
    " 'HIST1H2AC' : \"H2AC6\",\n",
    " 'HIST1H2AE' : \"H2AC8\",\n",
    " 'HIST1H2BC' : \"AMBIGUOUS\",\n",
    " 'HIST1H2BG' : \"AMBIGUOUS\",\n",
    " 'HIST1H2BK' : \"H2BC12\",\n",
    " 'HIST1H3H' : \"H3C10\",\n",
    " 'HIST2H2BE' : \"H2BC21\",\n",
    " 'HLA-DRB6' : \"HLA-DRB6\",\n",
    " 'HRASLS5' : \"PLAAT5\",\n",
    " 'KIF1BP' : \"KIFBP\",\n",
    " 'MARCH1' : \"MARCHF1\",\n",
    " 'MARCH11' : \"MARCHF11\",\n",
    " 'MKL2' : \"MRTFB\",\n",
    " 'MRVI1' : \"IRAG1\",\n",
    " 'MT1L' : \"MT1L\",\n",
    " 'MUM1' : \"IRF4\",\n",
    " 'NOV' : \"AMBIGUOUS\",\n",
    " 'PPY2P' : \"PPY2P\",\n",
    " 'PTGDS ' : \"PTGDS\",\n",
    " 'SEPT1' : \"SEPTIN1\",\n",
    " 'SEPT6' : \"SEPTIN6\",\n",
    " 'SEPT9' : \"SEPTIN9\",\n",
    " 'SIX3OS1' : \"NO HOMOLOG IN HUMANS\",\n",
    " 'SPERT' : \"CBY2\",\n",
    " 'SSPO' : \"SSPOP\",\n",
    " 'T' : \"TBXT\",\n",
    " 'TMEM173' : \"STING1\",\n",
    " 'UPK3B' : \"LOC105375355\",\n",
    " 'USMG5' : \"ATP5MD\",\n",
    " 'WDR60' : \"DYNC2I1\",\n",
    " 'WISP1' : \"CCN4\",\n",
    " 'WISP2' : \"CCN5\",\n",
    " 'ZRSR1' : \"ZRSR2P1\"}"
   ]
  },
  {
   "cell_type": "code",
   "execution_count": null,
   "metadata": {},
   "outputs": [],
   "source": [
    "human_marker"
   ]
  }
 ]
}