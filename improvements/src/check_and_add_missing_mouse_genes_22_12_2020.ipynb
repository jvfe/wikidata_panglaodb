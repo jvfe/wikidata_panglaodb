{
 "metadata": {
  "language_info": {
   "codemirror_mode": {
    "name": "ipython",
    "version": 3
   },
   "file_extension": ".py",
   "mimetype": "text/x-python",
   "name": "python",
   "nbconvert_exporter": "python",
   "pygments_lexer": "ipython3",
   "version": 3
  },
  "orig_nbformat": 2
 },
 "nbformat": 4,
 "nbformat_minor": 2,
 "cells": [
  {
   "cell_type": "code",
   "execution_count": 11,
   "metadata": {},
   "outputs": [],
   "source": [
    "import pandas as pd \n",
    "from wikidata2df import wikidata2df\n",
    "\n",
    "with open(\"../queries/mouse_genes_and_pseudogenes.rq\", \"r\") as f:\n",
    "    query = f.read()\n",
    "\n",
    "df = wikidata2df(query)"
   ]
  },
  {
   "cell_type": "code",
   "execution_count": 12,
   "metadata": {},
   "outputs": [],
   "source": [
    "markers = pd.read_csv(\"../data/PanglaoDB_markers_27_Mar_2020.tsv\", sep = \"\\t\")"
   ]
  },
  {
   "cell_type": "code",
   "execution_count": 13,
   "metadata": {},
   "outputs": [],
   "source": [
    "mouse_markers = markers[[\"Mm\" in val for val in markers[\"species\"]]]"
   ]
  },
  {
   "cell_type": "code",
   "execution_count": 14,
   "metadata": {},
   "outputs": [
    {
     "output_type": "execute_result",
     "data": {
      "text/plain": [
       "  species official gene symbol     cell type           nicknames  \\\n",
       "0   Mm Hs                CTRB1  Acinar cells                CTRB   \n",
       "1   Mm Hs                 KLK1  Acinar cells                Klk6   \n",
       "2   Mm Hs                RBPJL  Acinar cells  RBP-L|SUHL|RBPSUHL   \n",
       "3   Mm Hs                PTF1A  Acinar cells    PTF1-p48|bHLHa29   \n",
       "4      Mm                 TRY4  Acinar cells                 NaN   \n",
       "\n",
       "   ubiquitousness index                                product description  \\\n",
       "0                 0.017                                chymotrypsinogen B1   \n",
       "1                 0.013                                       kallikrein 1   \n",
       "2                 0.001  recombination signal binding protein for immun...   \n",
       "3                 0.001        pancreas associated transcription factor 1a   \n",
       "4                 0.007                                          trypsin 4   \n",
       "\n",
       "             gene type  canonical marker germ layer     organ  \\\n",
       "0  protein-coding gene               1.0   Endoderm  Pancreas   \n",
       "1  protein-coding gene               1.0   Endoderm  Pancreas   \n",
       "2  protein-coding gene               1.0   Endoderm  Pancreas   \n",
       "3  protein-coding gene               1.0   Endoderm  Pancreas   \n",
       "4  protein coding gene               1.0   Endoderm  Pancreas   \n",
       "\n",
       "   sensitivity_human  sensitivity_mouse  specificity_human  specificity_mouse  \n",
       "0           1.000000           0.957143           0.000629           0.015920  \n",
       "1           0.833333           0.314286           0.005031           0.012826  \n",
       "2           0.000000           0.000000           0.000000           0.000000  \n",
       "3           0.000000           0.157143           0.000629           0.000773  \n",
       "4                NaN                NaN                NaN                NaN  "
      ],
      "text/html": "<div>\n<style scoped>\n    .dataframe tbody tr th:only-of-type {\n        vertical-align: middle;\n    }\n\n    .dataframe tbody tr th {\n        vertical-align: top;\n    }\n\n    .dataframe thead th {\n        text-align: right;\n    }\n</style>\n<table border=\"1\" class=\"dataframe\">\n  <thead>\n    <tr style=\"text-align: right;\">\n      <th></th>\n      <th>species</th>\n      <th>official gene symbol</th>\n      <th>cell type</th>\n      <th>nicknames</th>\n      <th>ubiquitousness index</th>\n      <th>product description</th>\n      <th>gene type</th>\n      <th>canonical marker</th>\n      <th>germ layer</th>\n      <th>organ</th>\n      <th>sensitivity_human</th>\n      <th>sensitivity_mouse</th>\n      <th>specificity_human</th>\n      <th>specificity_mouse</th>\n    </tr>\n  </thead>\n  <tbody>\n    <tr>\n      <th>0</th>\n      <td>Mm Hs</td>\n      <td>CTRB1</td>\n      <td>Acinar cells</td>\n      <td>CTRB</td>\n      <td>0.017</td>\n      <td>chymotrypsinogen B1</td>\n      <td>protein-coding gene</td>\n      <td>1.0</td>\n      <td>Endoderm</td>\n      <td>Pancreas</td>\n      <td>1.000000</td>\n      <td>0.957143</td>\n      <td>0.000629</td>\n      <td>0.015920</td>\n    </tr>\n    <tr>\n      <th>1</th>\n      <td>Mm Hs</td>\n      <td>KLK1</td>\n      <td>Acinar cells</td>\n      <td>Klk6</td>\n      <td>0.013</td>\n      <td>kallikrein 1</td>\n      <td>protein-coding gene</td>\n      <td>1.0</td>\n      <td>Endoderm</td>\n      <td>Pancreas</td>\n      <td>0.833333</td>\n      <td>0.314286</td>\n      <td>0.005031</td>\n      <td>0.012826</td>\n    </tr>\n    <tr>\n      <th>2</th>\n      <td>Mm Hs</td>\n      <td>RBPJL</td>\n      <td>Acinar cells</td>\n      <td>RBP-L|SUHL|RBPSUHL</td>\n      <td>0.001</td>\n      <td>recombination signal binding protein for immun...</td>\n      <td>protein-coding gene</td>\n      <td>1.0</td>\n      <td>Endoderm</td>\n      <td>Pancreas</td>\n      <td>0.000000</td>\n      <td>0.000000</td>\n      <td>0.000000</td>\n      <td>0.000000</td>\n    </tr>\n    <tr>\n      <th>3</th>\n      <td>Mm Hs</td>\n      <td>PTF1A</td>\n      <td>Acinar cells</td>\n      <td>PTF1-p48|bHLHa29</td>\n      <td>0.001</td>\n      <td>pancreas associated transcription factor 1a</td>\n      <td>protein-coding gene</td>\n      <td>1.0</td>\n      <td>Endoderm</td>\n      <td>Pancreas</td>\n      <td>0.000000</td>\n      <td>0.157143</td>\n      <td>0.000629</td>\n      <td>0.000773</td>\n    </tr>\n    <tr>\n      <th>4</th>\n      <td>Mm</td>\n      <td>TRY4</td>\n      <td>Acinar cells</td>\n      <td>NaN</td>\n      <td>0.007</td>\n      <td>trypsin 4</td>\n      <td>protein coding gene</td>\n      <td>1.0</td>\n      <td>Endoderm</td>\n      <td>Pancreas</td>\n      <td>NaN</td>\n      <td>NaN</td>\n      <td>NaN</td>\n      <td>NaN</td>\n    </tr>\n  </tbody>\n</table>\n</div>"
     },
     "metadata": {},
     "execution_count": 14
    }
   ],
   "source": [
    "mouse_markers.head()"
   ]
  },
  {
   "source": [
    "\n",
    "As official gene symbols from Mouse Genome Informatics are _not_ all caps, we will use an heuristic and ignore case for the match. \n",
    "To be precise, we will transform the MGI symbol to all caps.\n",
    "\n",
    "This is what can be assumed from the original source. "
   ],
   "cell_type": "markdown",
   "metadata": {}
  },
  {
   "cell_type": "code",
   "execution_count": 23,
   "metadata": {},
   "outputs": [
    {
     "output_type": "display_data",
     "data": {
      "text/plain": "<Figure size 432x288 with 1 Axes>",
      "image/svg+xml": "<?xml version=\"1.0\" encoding=\"utf-8\" standalone=\"no\"?>\n<!DOCTYPE svg PUBLIC \"-//W3C//DTD SVG 1.1//EN\"\n  \"http://www.w3.org/Graphics/SVG/1.1/DTD/svg11.dtd\">\n<!-- Created with matplotlib (https://matplotlib.org/) -->\n<svg height=\"232.829464pt\" version=\"1.1\" viewBox=\"0 0 233.8262 232.829464\" width=\"233.8262pt\" xmlns=\"http://www.w3.org/2000/svg\" xmlns:xlink=\"http://www.w3.org/1999/xlink\">\n <defs>\n  <style type=\"text/css\">\n*{stroke-linecap:butt;stroke-linejoin:round;}\n  </style>\n </defs>\n <g id=\"figure_1\">\n  <g id=\"patch_1\">\n   <path d=\"M 0 232.829464 \nL 233.8262 232.829464 \nL 233.8262 0 \nL 0 0 \nz\n\" style=\"fill:none;\"/>\n  </g>\n  <g id=\"axes_1\">\n   <g id=\"patch_2\">\n    <path clip-path=\"url(#pa0632be397)\" d=\"M 207.662164 126.444242 \nC 206.493327 128.677221 204.960617 130.699962 203.127074 132.429268 \nC 201.293531 134.158574 199.184643 135.570407 196.887148 136.606698 \nC 194.589654 137.642988 192.13549 138.289332 189.625597 138.519145 \nC 187.115704 138.748958 184.58497 138.559044 182.137485 137.957217 \nC 179.69 137.355389 177.359786 136.350012 175.242684 134.982438 \nC 173.125583 133.614863 171.251023 131.904102 169.696105 129.920517 \nC 168.141188 127.936931 166.927527 125.708095 166.105042 123.325682 \nC 165.282556 120.943268 164.862678 118.440393 164.862678 115.92 \nC 164.862678 113.399607 165.282556 110.896732 166.105042 108.514318 \nC 166.927527 106.131905 168.141188 103.903069 169.696105 101.919483 \nC 171.251023 99.935898 173.125583 98.225137 175.242684 96.857562 \nC 177.359786 95.489988 179.69 94.484611 182.137485 93.882783 \nC 184.58497 93.280956 187.115704 93.091042 189.625597 93.320855 \nC 192.13549 93.550668 194.589654 94.197012 196.887148 95.233302 \nC 199.184643 96.269593 201.293531 97.681426 203.127074 99.410732 \nC 204.960617 101.140038 206.493327 103.162779 207.662164 105.395758 \nC 206.330681 93.788924 202.808541 82.539508 197.283063 72.245794 \nC 191.757586 61.95208 184.328493 52.799845 175.390889 45.275837 \nC 166.453285 37.751829 156.168474 31.991839 145.083437 28.302203 \nC 133.9984 24.612567 122.313197 23.059875 110.649287 23.726703 \nC 98.985377 24.393532 87.553267 27.267847 76.960956 32.196782 \nC 66.368644 37.125717 56.807299 44.020317 48.785425 52.513902 \nC 40.763551 61.007488 34.425925 70.946769 30.109602 81.803141 \nC 25.79328 92.659514 23.576162 104.237044 23.576162 115.92 \nC 23.576162 127.602956 25.79328 139.180486 30.109602 150.036859 \nC 34.425925 160.893231 40.763551 170.832512 48.785425 179.326098 \nC 56.807299 187.819683 66.368644 194.714283 76.960956 199.643218 \nC 87.553267 204.572153 98.985377 207.446468 110.649287 208.113297 \nC 122.313197 208.780125 133.9984 207.227433 145.083437 203.537797 \nC 156.168474 199.848161 166.453285 194.088171 175.390889 186.564163 \nC 184.328493 179.040155 191.757586 169.88792 197.283063 159.594206 \nC 202.808541 149.300492 206.330681 138.051076 207.662164 126.444242 \n\" style=\"fill:#ff0000;opacity:0.4;\"/>\n   </g>\n   <g id=\"patch_3\">\n    <path clip-path=\"url(#pa0632be397)\" d=\"M 207.662164 105.395758 \nC 208.062953 108.88952 208.263838 112.403325 208.263838 115.92 \nC 208.263838 119.436675 208.062953 122.95048 207.662164 126.444242 \nC 209.362003 123.196822 210.250038 119.585404 210.250038 115.92 \nC 210.250038 112.254596 209.362003 108.643178 207.662164 105.395758 \n\" style=\"fill:#008000;opacity:0.4;\"/>\n   </g>\n   <g id=\"patch_4\">\n    <path clip-path=\"url(#pa0632be397)\" d=\"M 207.662164 126.444242 \nC 208.062953 122.95048 208.263838 119.436675 208.263838 115.92 \nC 208.263838 112.403325 208.062953 108.88952 207.662164 105.395758 \nC 206.493327 103.162779 204.960617 101.140038 203.127074 99.410732 \nC 201.293531 97.681426 199.184643 96.269593 196.887148 95.233302 \nC 194.589654 94.197012 192.13549 93.550668 189.625597 93.320855 \nC 187.115704 93.091042 184.58497 93.280956 182.137485 93.882783 \nC 179.69 94.484611 177.359786 95.489988 175.242684 96.857562 \nC 173.125583 98.225137 171.251023 99.935898 169.696105 101.919483 \nC 168.141188 103.903069 166.927527 106.131905 166.105042 108.514318 \nC 165.282556 110.896732 164.862678 113.399607 164.862678 115.92 \nC 164.862678 118.440393 165.282556 120.943268 166.105042 123.325682 \nC 166.927527 125.708095 168.141188 127.936931 169.696105 129.920517 \nC 171.251023 131.904102 173.125583 133.614863 175.242684 134.982438 \nC 177.359786 136.350012 179.69 137.355389 182.137485 137.957217 \nC 184.58497 138.559044 187.115704 138.748958 189.625597 138.519145 \nC 192.13549 138.289332 194.589654 137.642988 196.887148 136.606698 \nC 199.184643 135.570407 201.293531 134.158574 203.127074 132.429268 \nC 204.960617 130.699962 206.493327 128.677221 207.662164 126.444242 \n\" style=\"fill:#b25900;opacity:0.4;\"/>\n   </g>\n   <g id=\"text_1\">\n    <!-- 68563 -->\n    <defs>\n     <path d=\"M 33.015625 40.375 \nQ 26.375 40.375 22.484375 35.828125 \nQ 18.609375 31.296875 18.609375 23.390625 \nQ 18.609375 15.53125 22.484375 10.953125 \nQ 26.375 6.390625 33.015625 6.390625 \nQ 39.65625 6.390625 43.53125 10.953125 \nQ 47.40625 15.53125 47.40625 23.390625 \nQ 47.40625 31.296875 43.53125 35.828125 \nQ 39.65625 40.375 33.015625 40.375 \nz\nM 52.59375 71.296875 \nL 52.59375 62.3125 \nQ 48.875 64.0625 45.09375 64.984375 \nQ 41.3125 65.921875 37.59375 65.921875 \nQ 27.828125 65.921875 22.671875 59.328125 \nQ 17.53125 52.734375 16.796875 39.40625 \nQ 19.671875 43.65625 24.015625 45.921875 \nQ 28.375 48.1875 33.59375 48.1875 \nQ 44.578125 48.1875 50.953125 41.515625 \nQ 57.328125 34.859375 57.328125 23.390625 \nQ 57.328125 12.15625 50.6875 5.359375 \nQ 44.046875 -1.421875 33.015625 -1.421875 \nQ 20.359375 -1.421875 13.671875 8.265625 \nQ 6.984375 17.96875 6.984375 36.375 \nQ 6.984375 53.65625 15.1875 63.9375 \nQ 23.390625 74.21875 37.203125 74.21875 \nQ 40.921875 74.21875 44.703125 73.484375 \nQ 48.484375 72.75 52.59375 71.296875 \nz\n\" id=\"DejaVuSans-54\"/>\n     <path d=\"M 31.78125 34.625 \nQ 24.75 34.625 20.71875 30.859375 \nQ 16.703125 27.09375 16.703125 20.515625 \nQ 16.703125 13.921875 20.71875 10.15625 \nQ 24.75 6.390625 31.78125 6.390625 \nQ 38.8125 6.390625 42.859375 10.171875 \nQ 46.921875 13.96875 46.921875 20.515625 \nQ 46.921875 27.09375 42.890625 30.859375 \nQ 38.875 34.625 31.78125 34.625 \nz\nM 21.921875 38.8125 \nQ 15.578125 40.375 12.03125 44.71875 \nQ 8.5 49.078125 8.5 55.328125 \nQ 8.5 64.0625 14.71875 69.140625 \nQ 20.953125 74.21875 31.78125 74.21875 \nQ 42.671875 74.21875 48.875 69.140625 \nQ 55.078125 64.0625 55.078125 55.328125 \nQ 55.078125 49.078125 51.53125 44.71875 \nQ 48 40.375 41.703125 38.8125 \nQ 48.828125 37.15625 52.796875 32.3125 \nQ 56.78125 27.484375 56.78125 20.515625 \nQ 56.78125 9.90625 50.3125 4.234375 \nQ 43.84375 -1.421875 31.78125 -1.421875 \nQ 19.734375 -1.421875 13.25 4.234375 \nQ 6.78125 9.90625 6.78125 20.515625 \nQ 6.78125 27.484375 10.78125 32.3125 \nQ 14.796875 37.15625 21.921875 38.8125 \nz\nM 18.3125 54.390625 \nQ 18.3125 48.734375 21.84375 45.5625 \nQ 25.390625 42.390625 31.78125 42.390625 \nQ 38.140625 42.390625 41.71875 45.5625 \nQ 45.3125 48.734375 45.3125 54.390625 \nQ 45.3125 60.0625 41.71875 63.234375 \nQ 38.140625 66.40625 31.78125 66.40625 \nQ 25.390625 66.40625 21.84375 63.234375 \nQ 18.3125 60.0625 18.3125 54.390625 \nz\n\" id=\"DejaVuSans-56\"/>\n     <path d=\"M 10.796875 72.90625 \nL 49.515625 72.90625 \nL 49.515625 64.59375 \nL 19.828125 64.59375 \nL 19.828125 46.734375 \nQ 21.96875 47.46875 24.109375 47.828125 \nQ 26.265625 48.1875 28.421875 48.1875 \nQ 40.625 48.1875 47.75 41.5 \nQ 54.890625 34.8125 54.890625 23.390625 \nQ 54.890625 11.625 47.5625 5.09375 \nQ 40.234375 -1.421875 26.90625 -1.421875 \nQ 22.3125 -1.421875 17.546875 -0.640625 \nQ 12.796875 0.140625 7.71875 1.703125 \nL 7.71875 11.625 \nQ 12.109375 9.234375 16.796875 8.0625 \nQ 21.484375 6.890625 26.703125 6.890625 \nQ 35.15625 6.890625 40.078125 11.328125 \nQ 45.015625 15.765625 45.015625 23.390625 \nQ 45.015625 31 40.078125 35.4375 \nQ 35.15625 39.890625 26.703125 39.890625 \nQ 22.75 39.890625 18.8125 39.015625 \nQ 14.890625 38.140625 10.796875 36.28125 \nz\n\" id=\"DejaVuSans-53\"/>\n     <path d=\"M 40.578125 39.3125 \nQ 47.65625 37.796875 51.625 33 \nQ 55.609375 28.21875 55.609375 21.1875 \nQ 55.609375 10.40625 48.1875 4.484375 \nQ 40.765625 -1.421875 27.09375 -1.421875 \nQ 22.515625 -1.421875 17.65625 -0.515625 \nQ 12.796875 0.390625 7.625 2.203125 \nL 7.625 11.71875 \nQ 11.71875 9.328125 16.59375 8.109375 \nQ 21.484375 6.890625 26.8125 6.890625 \nQ 36.078125 6.890625 40.9375 10.546875 \nQ 45.796875 14.203125 45.796875 21.1875 \nQ 45.796875 27.640625 41.28125 31.265625 \nQ 36.765625 34.90625 28.71875 34.90625 \nL 20.21875 34.90625 \nL 20.21875 43.015625 \nL 29.109375 43.015625 \nQ 36.375 43.015625 40.234375 45.921875 \nQ 44.09375 48.828125 44.09375 54.296875 \nQ 44.09375 59.90625 40.109375 62.90625 \nQ 36.140625 65.921875 28.71875 65.921875 \nQ 24.65625 65.921875 20.015625 65.03125 \nQ 15.375 64.15625 9.8125 62.3125 \nL 9.8125 71.09375 \nQ 15.4375 72.65625 20.34375 73.4375 \nQ 25.25 74.21875 29.59375 74.21875 \nQ 40.828125 74.21875 47.359375 69.109375 \nQ 53.90625 64.015625 53.90625 55.328125 \nQ 53.90625 49.265625 50.4375 45.09375 \nQ 46.96875 40.921875 40.578125 39.3125 \nz\n\" id=\"DejaVuSans-51\"/>\n    </defs>\n    <g transform=\"translate(78.31317 118.679375)scale(0.1 -0.1)\">\n     <use xlink:href=\"#DejaVuSans-54\"/>\n     <use x=\"63.623047\" xlink:href=\"#DejaVuSans-56\"/>\n     <use x=\"127.246094\" xlink:href=\"#DejaVuSans-53\"/>\n     <use x=\"190.869141\" xlink:href=\"#DejaVuSans-54\"/>\n     <use x=\"254.492188\" xlink:href=\"#DejaVuSans-51\"/>\n    </g>\n   </g>\n   <g id=\"text_2\">\n    <!-- 77 -->\n    <defs>\n     <path d=\"M 8.203125 72.90625 \nL 55.078125 72.90625 \nL 55.078125 68.703125 \nL 28.609375 0 \nL 18.3125 0 \nL 43.21875 64.59375 \nL 8.203125 64.59375 \nz\n\" id=\"DejaVuSans-55\"/>\n    </defs>\n    <g transform=\"translate(202.894438 118.679375)scale(0.1 -0.1)\">\n     <use xlink:href=\"#DejaVuSans-55\"/>\n     <use x=\"63.623047\" xlink:href=\"#DejaVuSans-55\"/>\n    </g>\n   </g>\n   <g id=\"text_3\">\n    <!-- 4325 -->\n    <defs>\n     <path d=\"M 37.796875 64.3125 \nL 12.890625 25.390625 \nL 37.796875 25.390625 \nz\nM 35.203125 72.90625 \nL 47.609375 72.90625 \nL 47.609375 25.390625 \nL 58.015625 25.390625 \nL 58.015625 17.1875 \nL 47.609375 17.1875 \nL 47.609375 0 \nL 37.796875 0 \nL 37.796875 17.1875 \nL 4.890625 17.1875 \nL 4.890625 26.703125 \nz\n\" id=\"DejaVuSans-52\"/>\n     <path d=\"M 19.1875 8.296875 \nL 53.609375 8.296875 \nL 53.609375 0 \nL 7.328125 0 \nL 7.328125 8.296875 \nQ 12.9375 14.109375 22.625 23.890625 \nQ 32.328125 33.6875 34.8125 36.53125 \nQ 39.546875 41.84375 41.421875 45.53125 \nQ 43.3125 49.21875 43.3125 52.78125 \nQ 43.3125 58.59375 39.234375 62.25 \nQ 35.15625 65.921875 28.609375 65.921875 \nQ 23.96875 65.921875 18.8125 64.3125 \nQ 13.671875 62.703125 7.8125 59.421875 \nL 7.8125 69.390625 \nQ 13.765625 71.78125 18.9375 73 \nQ 24.125 74.21875 28.421875 74.21875 \nQ 39.75 74.21875 46.484375 68.546875 \nQ 53.21875 62.890625 53.21875 53.421875 \nQ 53.21875 48.921875 51.53125 44.890625 \nQ 49.859375 40.875 45.40625 35.40625 \nQ 44.1875 33.984375 37.640625 27.21875 \nQ 31.109375 20.453125 19.1875 8.296875 \nz\n\" id=\"DejaVuSans-50\"/>\n    </defs>\n    <g transform=\"translate(173.838258 118.679375)scale(0.1 -0.1)\">\n     <use xlink:href=\"#DejaVuSans-52\"/>\n     <use x=\"63.623047\" xlink:href=\"#DejaVuSans-51\"/>\n     <use x=\"127.246094\" xlink:href=\"#DejaVuSans-50\"/>\n     <use x=\"190.869141\" xlink:href=\"#DejaVuSans-53\"/>\n    </g>\n   </g>\n   <g id=\"text_4\">\n    <!-- A -->\n    <defs>\n     <path d=\"M 34.1875 63.1875 \nL 20.796875 26.90625 \nL 47.609375 26.90625 \nz\nM 28.609375 72.90625 \nL 39.796875 72.90625 \nL 67.578125 0 \nL 57.328125 0 \nL 50.6875 18.703125 \nL 17.828125 18.703125 \nL 11.1875 0 \nL 0.78125 0 \nz\n\" id=\"DejaVuSans-65\"/>\n    </defs>\n    <g transform=\"translate(107.71125 223.133839)scale(0.12 -0.12)\">\n     <use xlink:href=\"#DejaVuSans-65\"/>\n    </g>\n   </g>\n   <g id=\"text_5\">\n    <!-- B -->\n    <defs>\n     <path d=\"M 19.671875 34.8125 \nL 19.671875 8.109375 \nL 35.5 8.109375 \nQ 43.453125 8.109375 47.28125 11.40625 \nQ 51.125 14.703125 51.125 21.484375 \nQ 51.125 28.328125 47.28125 31.5625 \nQ 43.453125 34.8125 35.5 34.8125 \nz\nM 19.671875 64.796875 \nL 19.671875 42.828125 \nL 34.28125 42.828125 \nQ 41.5 42.828125 45.03125 45.53125 \nQ 48.578125 48.25 48.578125 53.8125 \nQ 48.578125 59.328125 45.03125 62.0625 \nQ 41.5 64.796875 34.28125 64.796875 \nz\nM 9.8125 72.90625 \nL 35.015625 72.90625 \nQ 46.296875 72.90625 52.390625 68.21875 \nQ 58.5 63.53125 58.5 54.890625 \nQ 58.5 48.1875 55.375 44.234375 \nQ 52.25 40.28125 46.1875 39.3125 \nQ 53.46875 37.75 57.5 32.78125 \nQ 61.53125 27.828125 61.53125 20.40625 \nQ 61.53125 10.640625 54.890625 5.3125 \nQ 48.25 0 35.984375 0 \nL 9.8125 0 \nz\n\" id=\"DejaVuSans-66\"/>\n    </defs>\n    <g transform=\"translate(187.556358 153.483681)scale(0.12 -0.12)\">\n     <use xlink:href=\"#DejaVuSans-66\"/>\n    </g>\n   </g>\n  </g>\n </g>\n <defs>\n  <clipPath id=\"pa0632be397\">\n   <rect height=\"217.44\" width=\"219.4262\" x=\"7.2\" y=\"7.2\"/>\n  </clipPath>\n </defs>\n</svg>\n",
      "image/png": "[encoded data removed]"
     },
     "metadata": {}
    }
   ],
   "source": [
    "from matplotlib_venn import venn2, venn2_circles, venn2_unweighted\n",
    "from matplotlib_venn import venn3, venn3_circles\n",
    "from matplotlib import pyplot as plt\n",
    "%matplotlib inline\n",
    "\n",
    "\n",
    "mouse_genes_wikidata = [symbol.upper() for symbol in df[\"mgi_symbol\"].values]\n",
    "unique_genes_wikidata = set(mouse_genes_wikidata)\n",
    "\n",
    "unique_genes_panglao = set(human_markers[\"official gene symbol\"].values)\n",
    "\n",
    "venn2([unique_genes_wikidata, unique_genes_panglao])\n",
    "plt.show()\n"
   ]
  },
  {
   "cell_type": "code",
   "execution_count": 24,
   "metadata": {},
   "outputs": [],
   "source": [
    "# unique_genes_panglao - unique_genes_wikidata"
   ]
  },
  {
   "source": [
    "For these 77 cases, it is likely that panglao is not compatible with MGI upper case. Let`s check on Wikidata what are the likely best options. \n",
    "\n",
    "Some of the cases might be the same of the human genes. In that ocasion, most cases were due to issues regargind aliases. Once more, I'll note down any extraordinary cases.\n",
    "\n",
    "In fact, let's check which of those were not covered by the human correction\n"
   ],
   "cell_type": "markdown",
   "metadata": {}
  },
  {
   "cell_type": "code",
   "execution_count": 25,
   "metadata": {},
   "outputs": [],
   "source": [
    "gene_retification = {\n",
    " 'AAED1' : \"PRXL2C\",\n",
    " 'ALCAM ' : \"ALCAM\",\n",
    " 'C11ORF80' : \"C11orf80\",\n",
    " 'C15ORF48' : \"C15orf48\",\n",
    " 'C1ORF53' : \"C1orf53\",\n",
    " 'C1ORF54' : \"C1orf54\",\n",
    " 'C2ORF54' : \"MAB21L4\",\n",
    " 'C2ORF88' : \"C2orf88\",\n",
    " 'CLCA3P' : \"CLCA3P\",\n",
    " 'CTGF' : \"CCN2\",\n",
    " 'CYR61' : \"CCN1\",\n",
    " 'FAM129B' : \"NIBAN2\",\n",
    " 'FAM129C' : \"NIBAN3\",\n",
    " 'FAM196A' : \"INSYN2A\",\n",
    " 'FAM198B' : \"GASK1B\",\n",
    " 'FAM19A1' : \"TAFA1\",\n",
    " 'FAM19A5' : \"TAFA5\",\n",
    " 'FAM69B' : \"DIPK1B\",\n",
    " 'FAM84A' : \"LRATD1\",\n",
    " 'FAM92B' : \"CIBAR2\",\n",
    " 'GGNBP1' : \"GGNBP1\",\n",
    " 'GLYCAM1' : \"GLYCAM1\",\n",
    " 'GRASP' : \"TAMALIN\",\n",
    " 'GUSBP11' : \"GUSBP11\",\n",
    " 'H1FNT' : \"H1-7\",\n",
    " 'H2AFB1' : \"H2AB1\",\n",
    " 'H2AFX' : \"H2AX\",\n",
    " 'H2AFY' : \"MACROH2A1\",\n",
    " 'H2AFZ' : \"H2AZ1\",\n",
    " 'HILS1' : \"H1-9P\",\n",
    " 'HIST1H1D' : \"H1-3\",\n",
    " 'HIST1H2AC' : \"H2AC6\",\n",
    " 'HIST1H2AE' : \"H2AC8\",\n",
    " 'HIST1H2BC' : \"AMBIGUOUS\",\n",
    " 'HIST1H2BG' : \"AMBIGUOUS\",\n",
    " 'HIST1H2BK' : \"H2BC12\",\n",
    " 'HIST1H3H' : \"H3C10\",\n",
    " 'HIST2H2BE' : \"H2BC21\",\n",
    " 'HLA-DRB6' : \"HLA-DRB6\",\n",
    " 'HRASLS5' : \"PLAAT5\",\n",
    " 'KIF1BP' : \"KIFBP\",\n",
    " 'MARCH1' : \"MARCHF1\",\n",
    " 'MARCH11' : \"MARCHF11\",\n",
    " 'MKL2' : \"MRTFB\",\n",
    " 'MRVI1' : \"IRAG1\",\n",
    " 'MT1L' : \"MT1L\",\n",
    " 'MUM1' : \"IRF4\",\n",
    " 'NOV' : \"AMBIGUOUS\",\n",
    " 'PPY2P' : \"PPY2P\",\n",
    " 'PTGDS ' : \"PTGDS\",\n",
    " 'SEPT1' : \"SEPTIN1\",\n",
    " 'SEPT6' : \"SEPTIN6\",\n",
    " 'SEPT9' : \"SEPTIN9\",\n",
    " 'SIX3OS1' : \"NO HOMOLOG IN HUMANS\",\n",
    " 'SPERT' : \"CBY2\",\n",
    " 'SSPO' : \"SSPOP\",\n",
    " 'T' : \"TBXT\",\n",
    " 'TMEM173' : \"STING1\",\n",
    " 'UPK3B' : \"LOC105375355\",\n",
    " 'USMG5' : \"ATP5MD\",\n",
    " 'WDR60' : \"DYNC2I1\",\n",
    " 'WISP1' : \"CCN4\",\n",
    " 'WISP2' : \"CCN5\",\n",
    " 'ZRSR1' : \"ZRSR2P1\"}"
   ]
  },
  {
   "cell_type": "code",
   "execution_count": 26,
   "metadata": {},
   "outputs": [
    {
     "output_type": "error",
     "ename": "AttributeError",
     "evalue": "'list' object has no attribute 'map'",
     "traceback": [
      "\u001b[0;31m---------------------------------------------------------------------------\u001b[0m",
      "\u001b[0;31mAttributeError\u001b[0m                            Traceback (most recent call last)",
      "\u001b[0;32m<ipython-input-26-1fae455a1495>\u001b[0m in \u001b[0;36m<module>\u001b[0;34m\u001b[0m\n\u001b[0;32m----> 1\u001b[0;31m \u001b[0mmouse_genes_wikidata\u001b[0m\u001b[0;34m.\u001b[0m\u001b[0mmap\u001b[0m\u001b[0;34m(\u001b[0m\u001b[0mgene_retification\u001b[0m\u001b[0;34m)\u001b[0m\u001b[0;34m\u001b[0m\u001b[0;34m\u001b[0m\u001b[0m\n\u001b[0m",
      "\u001b[0;31mAttributeError\u001b[0m: 'list' object has no attribute 'map'"
     ]
    }
   ],
   "source": [
    "mouse_genes_wikidata.map(gene_retification)"
   ]
  },
  {
   "cell_type": "code",
   "execution_count": null,
   "metadata": {},
   "outputs": [],
   "source": []
  }
 ]
}