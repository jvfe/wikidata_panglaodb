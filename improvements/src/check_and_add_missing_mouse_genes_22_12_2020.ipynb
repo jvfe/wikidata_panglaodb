{
 "metadata": {
  "language_info": {
   "codemirror_mode": {
    "name": "ipython",
    "version": 3
   },
   "file_extension": ".py",
   "mimetype": "text/x-python",
   "name": "python",
   "nbconvert_exporter": "python",
   "pygments_lexer": "ipython3",
   "version": 3
  },
  "orig_nbformat": 2
 },
 "nbformat": 4,
 "nbformat_minor": 2,
 "cells": [
  {
   "cell_type": "code",
   "execution_count": 1,
   "metadata": {},
   "outputs": [],
   "source": [
    "import pandas as pd \n",
    "from wikidata2df import wikidata2df\n",
    "\n",
    "with open(\"../queries/mouse_genes_and_pseudogenes.rq\", \"r\") as f:\n",
    "    query = f.read()\n",
    "\n",
    "df = wikidata2df(query)"
   ]
  },
  {
   "cell_type": "code",
   "execution_count": 2,
   "metadata": {},
   "outputs": [],
   "source": [
    "markers = pd.read_csv(\"../data/PanglaoDB_markers_27_Mar_2020.tsv\", sep = \"\\t\")"
   ]
  },
  {
   "cell_type": "code",
   "execution_count": 3,
   "metadata": {},
   "outputs": [],
   "source": [
    "mouse_markers = markers[[\"Mm\" in val for val in markers[\"species\"]]]"
   ]
  },
  {
   "cell_type": "code",
   "execution_count": 4,
   "metadata": {},
   "outputs": [
    {
     "output_type": "execute_result",
     "data": {
      "text/plain": [
       "  species official gene symbol     cell type           nicknames  \\\n",
       "0   Mm Hs                CTRB1  Acinar cells                CTRB   \n",
       "1   Mm Hs                 KLK1  Acinar cells                Klk6   \n",
       "2   Mm Hs                RBPJL  Acinar cells  RBP-L|SUHL|RBPSUHL   \n",
       "3   Mm Hs                PTF1A  Acinar cells    PTF1-p48|bHLHa29   \n",
       "4      Mm                 TRY4  Acinar cells                 NaN   \n",
       "\n",
       "   ubiquitousness index                                product description  \\\n",
       "0                 0.017                                chymotrypsinogen B1   \n",
       "1                 0.013                                       kallikrein 1   \n",
       "2                 0.001  recombination signal binding protein for immun...   \n",
       "3                 0.001        pancreas associated transcription factor 1a   \n",
       "4                 0.007                                          trypsin 4   \n",
       "\n",
       "             gene type  canonical marker germ layer     organ  \\\n",
       "0  protein-coding gene               1.0   Endoderm  Pancreas   \n",
       "1  protein-coding gene               1.0   Endoderm  Pancreas   \n",
       "2  protein-coding gene               1.0   Endoderm  Pancreas   \n",
       "3  protein-coding gene               1.0   Endoderm  Pancreas   \n",
       "4  protein coding gene               1.0   Endoderm  Pancreas   \n",
       "\n",
       "   sensitivity_human  sensitivity_mouse  specificity_human  specificity_mouse  \n",
       "0           1.000000           0.957143           0.000629           0.015920  \n",
       "1           0.833333           0.314286           0.005031           0.012826  \n",
       "2           0.000000           0.000000           0.000000           0.000000  \n",
       "3           0.000000           0.157143           0.000629           0.000773  \n",
       "4                NaN                NaN                NaN                NaN  "
      ],
      "text/html": "<div>\n<style scoped>\n    .dataframe tbody tr th:only-of-type {\n        vertical-align: middle;\n    }\n\n    .dataframe tbody tr th {\n        vertical-align: top;\n    }\n\n    .dataframe thead th {\n        text-align: right;\n    }\n</style>\n<table border=\"1\" class=\"dataframe\">\n  <thead>\n    <tr style=\"text-align: right;\">\n      <th></th>\n      <th>species</th>\n      <th>official gene symbol</th>\n      <th>cell type</th>\n      <th>nicknames</th>\n      <th>ubiquitousness index</th>\n      <th>product description</th>\n      <th>gene type</th>\n      <th>canonical marker</th>\n      <th>germ layer</th>\n      <th>organ</th>\n      <th>sensitivity_human</th>\n      <th>sensitivity_mouse</th>\n      <th>specificity_human</th>\n      <th>specificity_mouse</th>\n    </tr>\n  </thead>\n  <tbody>\n    <tr>\n      <th>0</th>\n      <td>Mm Hs</td>\n      <td>CTRB1</td>\n      <td>Acinar cells</td>\n      <td>CTRB</td>\n      <td>0.017</td>\n      <td>chymotrypsinogen B1</td>\n      <td>protein-coding gene</td>\n      <td>1.0</td>\n      <td>Endoderm</td>\n      <td>Pancreas</td>\n      <td>1.000000</td>\n      <td>0.957143</td>\n      <td>0.000629</td>\n      <td>0.015920</td>\n    </tr>\n    <tr>\n      <th>1</th>\n      <td>Mm Hs</td>\n      <td>KLK1</td>\n      <td>Acinar cells</td>\n      <td>Klk6</td>\n      <td>0.013</td>\n      <td>kallikrein 1</td>\n      <td>protein-coding gene</td>\n      <td>1.0</td>\n      <td>Endoderm</td>\n      <td>Pancreas</td>\n      <td>0.833333</td>\n      <td>0.314286</td>\n      <td>0.005031</td>\n      <td>0.012826</td>\n    </tr>\n    <tr>\n      <th>2</th>\n      <td>Mm Hs</td>\n      <td>RBPJL</td>\n      <td>Acinar cells</td>\n      <td>RBP-L|SUHL|RBPSUHL</td>\n      <td>0.001</td>\n      <td>recombination signal binding protein for immun...</td>\n      <td>protein-coding gene</td>\n      <td>1.0</td>\n      <td>Endoderm</td>\n      <td>Pancreas</td>\n      <td>0.000000</td>\n      <td>0.000000</td>\n      <td>0.000000</td>\n      <td>0.000000</td>\n    </tr>\n    <tr>\n      <th>3</th>\n      <td>Mm Hs</td>\n      <td>PTF1A</td>\n      <td>Acinar cells</td>\n      <td>PTF1-p48|bHLHa29</td>\n      <td>0.001</td>\n      <td>pancreas associated transcription factor 1a</td>\n      <td>protein-coding gene</td>\n      <td>1.0</td>\n      <td>Endoderm</td>\n      <td>Pancreas</td>\n      <td>0.000000</td>\n      <td>0.157143</td>\n      <td>0.000629</td>\n      <td>0.000773</td>\n    </tr>\n    <tr>\n      <th>4</th>\n      <td>Mm</td>\n      <td>TRY4</td>\n      <td>Acinar cells</td>\n      <td>NaN</td>\n      <td>0.007</td>\n      <td>trypsin 4</td>\n      <td>protein coding gene</td>\n      <td>1.0</td>\n      <td>Endoderm</td>\n      <td>Pancreas</td>\n      <td>NaN</td>\n      <td>NaN</td>\n      <td>NaN</td>\n      <td>NaN</td>\n    </tr>\n  </tbody>\n</table>\n</div>"
     },
     "metadata": {},
     "execution_count": 4
    }
   ],
   "source": [
    "mouse_markers.head()"
   ]
  },
  {
   "source": [
    "\n",
    "As official gene symbols from Mouse Genome Informatics are _not_ all caps, we will use an heuristic and ignore case for the match. \n",
    "To be precise, we will transform the MGI symbol to all caps.\n",
    "\n",
    "This is what can be assumed from the original source. "
   ],
   "cell_type": "markdown",
   "metadata": {}
  },
  {
   "cell_type": "code",
   "execution_count": 5,
   "metadata": {},
   "outputs": [
    {
     "output_type": "display_data",
     "data": {
      "text/plain": "<Figure size 432x288 with 1 Axes>",
      "image/svg+xml": "<?xml version=\"1.0\" encoding=\"utf-8\" standalone=\"no\"?>\n<!DOCTYPE svg PUBLIC \"-//W3C//DTD SVG 1.1//EN\"\n  \"http://www.w3.org/Graphics/SVG/1.1/DTD/svg11.dtd\">\n<!-- Created with matplotlib (https://matplotlib.org/) -->\n<svg height=\"232.832083pt\" version=\"1.1\" viewBox=\"0 0 233.303398 232.832083\" width=\"233.303398pt\" xmlns=\"http://www.w3.org/2000/svg\" xmlns:xlink=\"http://www.w3.org/1999/xlink\">\n <defs>\n  <style type=\"text/css\">\n*{stroke-linecap:butt;stroke-linejoin:round;}\n  </style>\n </defs>\n <g id=\"figure_1\">\n  <g id=\"patch_1\">\n   <path d=\"M 0 232.832083 \nL 233.303398 232.832083 \nL 233.303398 0 \nL 0 0 \nz\n\" style=\"fill:none;\"/>\n  </g>\n  <g id=\"axes_1\">\n   <g id=\"patch_2\">\n    <path clip-path=\"url(#p58de673cd2)\" d=\"M 207.814684 125.04385 \nC 206.775188 127.410756 205.338796 129.5827 203.567643 131.465732 \nC 201.79649 133.348764 199.716486 134.915336 197.417607 136.097684 \nC 195.118727 137.280031 192.634603 138.060857 190.072688 138.406385 \nC 187.510774 138.751912 184.90855 138.657087 182.378579 138.126011 \nC 179.848608 137.594935 177.427904 136.635378 175.221176 135.288846 \nC 173.014448 133.942314 171.053982 132.228508 169.42458 130.221559 \nC 167.795177 128.214611 166.520677 125.943882 165.656208 123.507596 \nC 164.79174 121.07131 164.34995 118.50511 164.34995 115.92 \nC 164.34995 113.33489 164.79174 110.76869 165.656208 108.332404 \nC 166.520677 105.896118 167.795177 103.625389 169.42458 101.618441 \nC 171.053982 99.611492 173.014448 97.897686 175.221176 96.551154 \nC 177.427904 95.204622 179.848608 94.245065 182.378579 93.713989 \nC 184.90855 93.182913 187.510774 93.088088 190.072688 93.433615 \nC 192.634603 93.779143 195.118727 94.559969 197.417607 95.742316 \nC 199.716486 96.924664 201.79649 98.491236 203.567643 100.374268 \nC 205.338796 102.2573 206.775188 104.429244 207.814684 106.79615 \nC 206.654522 95.111088 203.276177 83.753828 197.86112 73.334432 \nC 192.446062 62.915037 185.093017 53.623466 176.196956 45.958823 \nC 167.300895 38.29418 157.024008 32.396202 145.918322 28.581702 \nC 134.812637 24.767202 123.080628 23.105724 111.352485 23.686517 \nC 99.624342 24.267309 88.113888 27.079781 77.439412 31.972862 \nC 66.764937 36.865942 57.121053 43.750421 49.025786 52.256496 \nC 40.930519 60.76257 34.531458 70.735162 30.172333 81.638587 \nC 25.813208 92.542012 23.573491 104.177485 23.573491 115.92 \nC 23.573491 127.662515 25.813208 139.297988 30.172333 150.201413 \nC 34.531458 161.104838 40.930519 171.07743 49.025786 179.583504 \nC 57.121053 188.089579 66.764937 194.974058 77.439412 199.867138 \nC 88.113888 204.760219 99.624342 207.572691 111.352485 208.153483 \nC 123.080628 208.734276 134.812637 207.072798 145.918322 203.258298 \nC 157.024008 199.443798 167.300895 193.54582 176.196956 185.881177 \nC 185.093017 178.216534 192.446062 168.924963 197.86112 158.505568 \nC 203.276177 148.086172 206.654522 136.728912 207.814684 125.04385 \n\" style=\"fill:#ff0000;opacity:0.4;\"/>\n   </g>\n   <g id=\"patch_3\">\n    <path clip-path=\"url(#p58de673cd2)\" d=\"M 207.814684 106.79615 \nC 208.115716 109.828117 208.266509 112.873125 208.266509 115.92 \nC 208.266509 118.966875 208.115716 122.011883 207.814684 125.04385 \nC 209.077699 122.168 209.729907 119.060974 209.729907 115.92 \nC 209.729907 112.779026 209.077699 109.672 207.814684 106.79615 \n\" style=\"fill:#008000;opacity:0.4;\"/>\n   </g>\n   <g id=\"patch_4\">\n    <path clip-path=\"url(#p58de673cd2)\" d=\"M 207.814684 125.04385 \nC 208.115716 122.011883 208.266509 118.966875 208.266509 115.92 \nC 208.266509 112.873125 208.115716 109.828117 207.814684 106.79615 \nC 206.775188 104.429244 205.338796 102.2573 203.567643 100.374268 \nC 201.79649 98.491236 199.716486 96.924664 197.417607 95.742316 \nC 195.118727 94.559969 192.634603 93.779143 190.072688 93.433615 \nC 187.510774 93.088088 184.90855 93.182913 182.378579 93.713989 \nC 179.848608 94.245065 177.427904 95.204622 175.221176 96.551154 \nC 173.014448 97.897686 171.053982 99.611492 169.42458 101.618441 \nC 167.795177 103.625389 166.520677 105.896118 165.656208 108.332404 \nC 164.79174 110.76869 164.34995 113.33489 164.34995 115.92 \nC 164.34995 118.50511 164.79174 121.07131 165.656208 123.507596 \nC 166.520677 125.943882 167.795177 128.214611 169.42458 130.221559 \nC 171.053982 132.228508 173.014448 133.942314 175.221176 135.288846 \nC 177.427904 136.635378 179.848608 137.594935 182.378579 138.126011 \nC 184.90855 138.657087 187.510774 138.751912 190.072688 138.406385 \nC 192.634603 138.060857 195.118727 137.280031 197.417607 136.097684 \nC 199.716486 134.915336 201.79649 133.348764 203.567643 131.465732 \nC 205.338796 129.5827 206.775188 127.410756 207.814684 125.04385 \n\" style=\"fill:#b25900;opacity:0.4;\"/>\n   </g>\n   <g id=\"text_1\">\n    <!-- 68563 -->\n    <defs>\n     <path d=\"M 33.015625 40.375 \nQ 26.375 40.375 22.484375 35.828125 \nQ 18.609375 31.296875 18.609375 23.390625 \nQ 18.609375 15.53125 22.484375 10.953125 \nQ 26.375 6.390625 33.015625 6.390625 \nQ 39.65625 6.390625 43.53125 10.953125 \nQ 47.40625 15.53125 47.40625 23.390625 \nQ 47.40625 31.296875 43.53125 35.828125 \nQ 39.65625 40.375 33.015625 40.375 \nz\nM 52.59375 71.296875 \nL 52.59375 62.3125 \nQ 48.875 64.0625 45.09375 64.984375 \nQ 41.3125 65.921875 37.59375 65.921875 \nQ 27.828125 65.921875 22.671875 59.328125 \nQ 17.53125 52.734375 16.796875 39.40625 \nQ 19.671875 43.65625 24.015625 45.921875 \nQ 28.375 48.1875 33.59375 48.1875 \nQ 44.578125 48.1875 50.953125 41.515625 \nQ 57.328125 34.859375 57.328125 23.390625 \nQ 57.328125 12.15625 50.6875 5.359375 \nQ 44.046875 -1.421875 33.015625 -1.421875 \nQ 20.359375 -1.421875 13.671875 8.265625 \nQ 6.984375 17.96875 6.984375 36.375 \nQ 6.984375 53.65625 15.1875 63.9375 \nQ 23.390625 74.21875 37.203125 74.21875 \nQ 40.921875 74.21875 44.703125 73.484375 \nQ 48.484375 72.75 52.59375 71.296875 \nz\n\" id=\"DejaVuSans-54\"/>\n     <path d=\"M 31.78125 34.625 \nQ 24.75 34.625 20.71875 30.859375 \nQ 16.703125 27.09375 16.703125 20.515625 \nQ 16.703125 13.921875 20.71875 10.15625 \nQ 24.75 6.390625 31.78125 6.390625 \nQ 38.8125 6.390625 42.859375 10.171875 \nQ 46.921875 13.96875 46.921875 20.515625 \nQ 46.921875 27.09375 42.890625 30.859375 \nQ 38.875 34.625 31.78125 34.625 \nz\nM 21.921875 38.8125 \nQ 15.578125 40.375 12.03125 44.71875 \nQ 8.5 49.078125 8.5 55.328125 \nQ 8.5 64.0625 14.71875 69.140625 \nQ 20.953125 74.21875 31.78125 74.21875 \nQ 42.671875 74.21875 48.875 69.140625 \nQ 55.078125 64.0625 55.078125 55.328125 \nQ 55.078125 49.078125 51.53125 44.71875 \nQ 48 40.375 41.703125 38.8125 \nQ 48.828125 37.15625 52.796875 32.3125 \nQ 56.78125 27.484375 56.78125 20.515625 \nQ 56.78125 9.90625 50.3125 4.234375 \nQ 43.84375 -1.421875 31.78125 -1.421875 \nQ 19.734375 -1.421875 13.25 4.234375 \nQ 6.78125 9.90625 6.78125 20.515625 \nQ 6.78125 27.484375 10.78125 32.3125 \nQ 14.796875 37.15625 21.921875 38.8125 \nz\nM 18.3125 54.390625 \nQ 18.3125 48.734375 21.84375 45.5625 \nQ 25.390625 42.390625 31.78125 42.390625 \nQ 38.140625 42.390625 41.71875 45.5625 \nQ 45.3125 48.734375 45.3125 54.390625 \nQ 45.3125 60.0625 41.71875 63.234375 \nQ 38.140625 66.40625 31.78125 66.40625 \nQ 25.390625 66.40625 21.84375 63.234375 \nQ 18.3125 60.0625 18.3125 54.390625 \nz\n\" id=\"DejaVuSans-56\"/>\n     <path d=\"M 10.796875 72.90625 \nL 49.515625 72.90625 \nL 49.515625 64.59375 \nL 19.828125 64.59375 \nL 19.828125 46.734375 \nQ 21.96875 47.46875 24.109375 47.828125 \nQ 26.265625 48.1875 28.421875 48.1875 \nQ 40.625 48.1875 47.75 41.5 \nQ 54.890625 34.8125 54.890625 23.390625 \nQ 54.890625 11.625 47.5625 5.09375 \nQ 40.234375 -1.421875 26.90625 -1.421875 \nQ 22.3125 -1.421875 17.546875 -0.640625 \nQ 12.796875 0.140625 7.71875 1.703125 \nL 7.71875 11.625 \nQ 12.109375 9.234375 16.796875 8.0625 \nQ 21.484375 6.890625 26.703125 6.890625 \nQ 35.15625 6.890625 40.078125 11.328125 \nQ 45.015625 15.765625 45.015625 23.390625 \nQ 45.015625 31 40.078125 35.4375 \nQ 35.15625 39.890625 26.703125 39.890625 \nQ 22.75 39.890625 18.8125 39.015625 \nQ 14.890625 38.140625 10.796875 36.28125 \nz\n\" id=\"DejaVuSans-53\"/>\n     <path d=\"M 40.578125 39.3125 \nQ 47.65625 37.796875 51.625 33 \nQ 55.609375 28.21875 55.609375 21.1875 \nQ 55.609375 10.40625 48.1875 4.484375 \nQ 40.765625 -1.421875 27.09375 -1.421875 \nQ 22.515625 -1.421875 17.65625 -0.515625 \nQ 12.796875 0.390625 7.625 2.203125 \nL 7.625 11.71875 \nQ 11.71875 9.328125 16.59375 8.109375 \nQ 21.484375 6.890625 26.8125 6.890625 \nQ 36.078125 6.890625 40.9375 10.546875 \nQ 45.796875 14.203125 45.796875 21.1875 \nQ 45.796875 27.640625 41.28125 31.265625 \nQ 36.765625 34.90625 28.71875 34.90625 \nL 20.21875 34.90625 \nL 20.21875 43.015625 \nL 29.109375 43.015625 \nQ 36.375 43.015625 40.234375 45.921875 \nQ 44.09375 48.828125 44.09375 54.296875 \nQ 44.09375 59.90625 40.109375 62.90625 \nQ 36.140625 65.921875 28.71875 65.921875 \nQ 24.65625 65.921875 20.015625 65.03125 \nQ 15.375 64.15625 9.8125 62.3125 \nL 9.8125 71.09375 \nQ 15.4375 72.65625 20.34375 73.4375 \nQ 25.25 74.21875 29.59375 74.21875 \nQ 40.828125 74.21875 47.359375 69.109375 \nQ 53.90625 64.015625 53.90625 55.328125 \nQ 53.90625 49.265625 50.4375 45.09375 \nQ 46.96875 40.921875 40.578125 39.3125 \nz\n\" id=\"DejaVuSans-51\"/>\n    </defs>\n    <g transform=\"translate(78.055471 118.679375)scale(0.1 -0.1)\">\n     <use xlink:href=\"#DejaVuSans-54\"/>\n     <use x=\"63.623047\" xlink:href=\"#DejaVuSans-56\"/>\n     <use x=\"127.246094\" xlink:href=\"#DejaVuSans-53\"/>\n     <use x=\"190.869141\" xlink:href=\"#DejaVuSans-54\"/>\n     <use x=\"254.492188\" xlink:href=\"#DejaVuSans-51\"/>\n    </g>\n   </g>\n   <g id=\"text_2\">\n    <!-- 49 -->\n    <defs>\n     <path d=\"M 37.796875 64.3125 \nL 12.890625 25.390625 \nL 37.796875 25.390625 \nz\nM 35.203125 72.90625 \nL 47.609375 72.90625 \nL 47.609375 25.390625 \nL 58.015625 25.390625 \nL 58.015625 17.1875 \nL 47.609375 17.1875 \nL 47.609375 0 \nL 37.796875 0 \nL 37.796875 17.1875 \nL 4.890625 17.1875 \nL 4.890625 26.703125 \nz\n\" id=\"DejaVuSans-52\"/>\n     <path d=\"M 10.984375 1.515625 \nL 10.984375 10.5 \nQ 14.703125 8.734375 18.5 7.8125 \nQ 22.3125 6.890625 25.984375 6.890625 \nQ 35.75 6.890625 40.890625 13.453125 \nQ 46.046875 20.015625 46.78125 33.40625 \nQ 43.953125 29.203125 39.59375 26.953125 \nQ 35.25 24.703125 29.984375 24.703125 \nQ 19.046875 24.703125 12.671875 31.3125 \nQ 6.296875 37.9375 6.296875 49.421875 \nQ 6.296875 60.640625 12.9375 67.421875 \nQ 19.578125 74.21875 30.609375 74.21875 \nQ 43.265625 74.21875 49.921875 64.515625 \nQ 56.59375 54.828125 56.59375 36.375 \nQ 56.59375 19.140625 48.40625 8.859375 \nQ 40.234375 -1.421875 26.421875 -1.421875 \nQ 22.703125 -1.421875 18.890625 -0.6875 \nQ 15.09375 0.046875 10.984375 1.515625 \nz\nM 30.609375 32.421875 \nQ 37.25 32.421875 41.125 36.953125 \nQ 45.015625 41.5 45.015625 49.421875 \nQ 45.015625 57.28125 41.125 61.84375 \nQ 37.25 66.40625 30.609375 66.40625 \nQ 23.96875 66.40625 20.09375 61.84375 \nQ 16.21875 57.28125 16.21875 49.421875 \nQ 16.21875 41.5 20.09375 36.953125 \nQ 23.96875 32.421875 30.609375 32.421875 \nz\n\" id=\"DejaVuSans-57\"/>\n    </defs>\n    <g transform=\"translate(202.635708 118.679375)scale(0.1 -0.1)\">\n     <use xlink:href=\"#DejaVuSans-52\"/>\n     <use x=\"63.623047\" xlink:href=\"#DejaVuSans-57\"/>\n    </g>\n   </g>\n   <g id=\"text_3\">\n    <!-- 4353 -->\n    <g transform=\"translate(173.58323 118.679375)scale(0.1 -0.1)\">\n     <use xlink:href=\"#DejaVuSans-52\"/>\n     <use x=\"63.623047\" xlink:href=\"#DejaVuSans-51\"/>\n     <use x=\"127.246094\" xlink:href=\"#DejaVuSans-53\"/>\n     <use x=\"190.869141\" xlink:href=\"#DejaVuSans-51\"/>\n    </g>\n   </g>\n   <g id=\"text_4\">\n    <!-- A -->\n    <defs>\n     <path d=\"M 34.1875 63.1875 \nL 20.796875 26.90625 \nL 47.609375 26.90625 \nz\nM 28.609375 72.90625 \nL 39.796875 72.90625 \nL 67.578125 0 \nL 57.328125 0 \nL 50.6875 18.703125 \nL 17.828125 18.703125 \nL 11.1875 0 \nL 0.78125 0 \nz\n\" id=\"DejaVuSans-65\"/>\n    </defs>\n    <g transform=\"translate(107.71125 223.136458)scale(0.12 -0.12)\">\n     <use xlink:href=\"#DejaVuSans-65\"/>\n    </g>\n   </g>\n   <g id=\"text_5\">\n    <!-- B -->\n    <defs>\n     <path d=\"M 19.671875 34.8125 \nL 19.671875 8.109375 \nL 35.5 8.109375 \nQ 43.453125 8.109375 47.28125 11.40625 \nQ 51.125 14.703125 51.125 21.484375 \nQ 51.125 28.328125 47.28125 31.5625 \nQ 43.453125 34.8125 35.5 34.8125 \nz\nM 19.671875 64.796875 \nL 19.671875 42.828125 \nL 34.28125 42.828125 \nQ 41.5 42.828125 45.03125 45.53125 \nQ 48.578125 48.25 48.578125 53.8125 \nQ 48.578125 59.328125 45.03125 62.0625 \nQ 41.5 64.796875 34.28125 64.796875 \nz\nM 9.8125 72.90625 \nL 35.015625 72.90625 \nQ 46.296875 72.90625 52.390625 68.21875 \nQ 58.5 63.53125 58.5 54.890625 \nQ 58.5 48.1875 55.375 44.234375 \nQ 52.25 40.28125 46.1875 39.3125 \nQ 53.46875 37.75 57.5 32.78125 \nQ 61.53125 27.828125 61.53125 20.40625 \nQ 61.53125 10.640625 54.890625 5.3125 \nQ 48.25 0 35.984375 0 \nL 9.8125 0 \nz\n\" id=\"DejaVuSans-66\"/>\n    </defs>\n    <g transform=\"translate(187.039929 153.479928)scale(0.12 -0.12)\">\n     <use xlink:href=\"#DejaVuSans-66\"/>\n    </g>\n   </g>\n  </g>\n </g>\n <defs>\n  <clipPath id=\"p58de673cd2\">\n   <rect height=\"217.44\" width=\"218.903398\" x=\"7.2\" y=\"7.2\"/>\n  </clipPath>\n </defs>\n</svg>\n",
      "image/png": "[encoded data removed]"
     },
     "metadata": {}
    }
   ],
   "source": [
    "from matplotlib_venn import venn2, venn2_circles, venn2_unweighted\n",
    "from matplotlib_venn import venn3, venn3_circles\n",
    "from matplotlib import pyplot as plt\n",
    "%matplotlib inline\n",
    "\n",
    "\n",
    "mouse_genes_wikidata = [symbol.upper() for symbol in df[\"mgi_symbol\"].values]\n",
    "unique_genes_wikidata = set(mouse_genes_wikidata)\n",
    "\n",
    "unique_genes_panglao = set(mouse_markers[\"official gene symbol\"].values)\n",
    "\n",
    "venn2([unique_genes_wikidata, unique_genes_panglao])\n",
    "plt.show()\n"
   ]
  },
  {
   "cell_type": "code",
   "execution_count": 6,
   "metadata": {},
   "outputs": [
    {
     "output_type": "execute_result",
     "data": {
      "text/plain": [
       "{'AAED1',\n",
       " 'ALCAM ',\n",
       " 'CD244',\n",
       " 'CTGF',\n",
       " 'CYR61',\n",
       " 'DYNLT1',\n",
       " 'ERO1LB',\n",
       " 'FAM129B',\n",
       " 'FAM129C',\n",
       " 'FAM196A',\n",
       " 'FAM198B',\n",
       " 'FAM19A1',\n",
       " 'FAM19A5',\n",
       " 'FAM69B',\n",
       " 'FAM84A',\n",
       " 'FAM92B',\n",
       " 'H1FNT',\n",
       " 'H2AFB1',\n",
       " 'H2AFX',\n",
       " 'H2AFY',\n",
       " 'H2AFZ',\n",
       " 'HIST1H1D',\n",
       " 'HIST1H2AC',\n",
       " 'HIST1H2AE',\n",
       " 'HIST1H2AO',\n",
       " 'HIST1H2BC',\n",
       " 'HIST1H2BG',\n",
       " 'HIST1H2BK',\n",
       " 'HIST1H3H',\n",
       " 'HIST2H2BE',\n",
       " 'HRASLS5',\n",
       " 'KIF1BP',\n",
       " 'MARCH1',\n",
       " 'MARCH11',\n",
       " 'MKL2',\n",
       " 'MNDA',\n",
       " 'MUM1',\n",
       " 'NOV',\n",
       " 'PTGDS ',\n",
       " 'SEPT4',\n",
       " 'SEPT6',\n",
       " 'SEPT9',\n",
       " 'SFTPB',\n",
       " 'SPERT',\n",
       " 'TCRG-C1',\n",
       " 'TMEM173',\n",
       " 'USMG5',\n",
       " 'WISP1',\n",
       " 'WISP2'}"
      ]
     },
     "metadata": {},
     "execution_count": 6
    }
   ],
   "source": [
    "unique_genes_panglao - unique_genes_wikidata"
   ]
  },
  {
   "source": [
    "For these 77 cases, it is likely that panglao is not compatible with MGI upper case. Let`s check on Wikidata what are the likely best options. \n",
    "\n",
    "Some of the cases might be the same of the human genes. In that ocasion, most cases were due to issues regargind aliases. Once more, I'll note down any extraordinary cases.\n",
    "\n",
    "In fact, let's check which of those were not covered by the human correction\n"
   ],
   "cell_type": "markdown",
   "metadata": {}
  },
  {
   "cell_type": "code",
   "execution_count": 7,
   "metadata": {},
   "outputs": [],
   "source": [
    "gene_retification = {\n",
    " 'AAED1' : \"PRXL2C\",\n",
    " 'ALCAM ' : \"ALCAM\",\n",
    " 'CD244' : \"CD244A\",\n",
    " 'CTGF' : \"CCN2\",\n",
    " 'CYR61' : \"CCN1\",\n",
    " 'DYNLT1' : \"MULTIPLE ORTHOLOGS\",\n",
    " 'ERO1LB' : \"ERO1B\",\n",
    " 'FAM129B' : \"NIBAN2\",\n",
    " 'FAM129C' : \"NIBAN3\",\n",
    " 'FAM196A' : \"INSYN2A\",\n",
    " 'FAM198B' : \"GASK1B\",\n",
    " 'FAM19A1' : \"TAFA1\",\n",
    " 'FAM19A5' : \"TAFA5\",\n",
    " 'FAM69B' : \"DIPK1B\",\n",
    " 'FAM84A' : \"LRATD1\",\n",
    " 'FAM92B' : \"CIBAR2\",\n",
    " 'H1FNT' : \"H1F7\",\n",
    " 'H2AFB1' : \"H2AB1\",\n",
    " 'H2AFX' : \"H2AX\",\n",
    " 'H2AFY' : \"MACROH2A1\",\n",
    " 'H2AFZ' : \"H2AZ1\",\n",
    " 'HIST1H1D' : \"H1F3\",\n",
    " 'HIST1H2AC' : \"H2AC6\",\n",
    " 'HIST1H2AO' : \"H2AC3\",\n",
    " 'HIST1H2AE' : \"H2AC8\",\n",
    " 'HIST1H2BC' : \"AMBIGUOUS\",\n",
    " 'HIST1H2BG' : \"AMBIGUOUS\",\n",
    " 'HIST1H2BK' : \"H2BC12\",\n",
    " 'HIST1H3H' : \"H3C10\",\n",
    " 'HIST2H2BE' : \"H2BC21\",\n",
    " 'HLA-DRB6' : \"HLA-DRB6\",\n",
    " 'HRASLS5' : \"PLAAT5\",\n",
    " 'KIF1BP' : \"KIFBP\",\n",
    " 'MARCH1' : \"MARCHF1\",\n",
    " 'MARCH11' : \"MARCHF11\",\n",
    " 'MKL2' : \"MRTFB\",\n",
    " 'MNDA' : \"IFI211\",\n",
    " 'MUM1' : \"AMBIGUOUS\",\n",
    " 'NOV' : \"AMBIGUOUS\",\n",
    " 'PPY2P' : \"PPY2P\",\n",
    " 'PTGDS ' : \"PTGDS\",\n",
    " 'SEPT4' : \"SEPTIN4\",\n",
    " 'SEPT6' : \"SEPTIN6\",\n",
    " 'SEPT9' : \"SEPTIN9\",\n",
    " 'SIX3OS1' : \"NO HOMOLOG IN HUMANS\",\n",
    " 'SPERT' : \"CBY2\",\n",
    " 'TCRG-C1' : \"TRGC1\",\n",
    " 'TMEM173' : \"STING1\",\n",
    " 'USMG5' : \"AMBIGUOUS\",\n",
    " 'WDR60' : \"DYNC2I1\",\n",
    " 'WISP1' : \"CCN4\",\n",
    " 'WISP2' : \"CCN5\"}"
   ]
  },
  {
   "cell_type": "code",
   "execution_count": 8,
   "metadata": {},
   "outputs": [],
   "source": [
    "mouse_markers_lean = mouse_markers[[\"official gene symbol\", \"cell type\"]]"
   ]
  },
  {
   "cell_type": "code",
   "execution_count": 9,
   "metadata": {},
   "outputs": [],
   "source": [
    "mouse_markers_lean[\"retified_symbols\"] = mouse_markers_lean[\"official gene symbol\"].replace(gene_retification)"
   ]
  },
  {
   "cell_type": "code",
   "execution_count": 10,
   "metadata": {},
   "outputs": [],
   "source": [
    "df[\"retified_symbols\"] = [a.upper() for a in df[\"mgi_symbol\"]]"
   ]
  },
  {
   "cell_type": "code",
   "execution_count": 11,
   "metadata": {},
   "outputs": [
    {
     "output_type": "execute_result",
     "data": {
      "text/plain": [
       "     official gene symbol            cell type retified_symbols       item  \\\n",
       "0                   CTRB1         Acinar cells            CTRB1  Q18261856   \n",
       "1                   CTRB1          Enterocytes            CTRB1  Q18261856   \n",
       "2                    KLK1         Acinar cells             KLK1  Q18251870   \n",
       "3                    KLK1  Distal tubule cells             KLK1  Q18251870   \n",
       "4                    KLK1    Endothelial cells             KLK1  Q18251870   \n",
       "...                   ...                  ...              ...        ...   \n",
       "7891              SLC14A1     Urothelial cells          SLC14A1  Q18272870   \n",
       "7892                UPK3A     Urothelial cells            UPK3A  Q18255259   \n",
       "7893                UPK1A     Urothelial cells            UPK1A  Q18273793   \n",
       "7894                 UPK2     Urothelial cells             UPK2  Q18255258   \n",
       "7895                UPK3B     Urothelial cells            UPK3B  Q18271264   \n",
       "\n",
       "     itemLabel mgi_symbol  \n",
       "0        Ctrb1      Ctrb1  \n",
       "1        Ctrb1      Ctrb1  \n",
       "2         Klk1       Klk1  \n",
       "3         Klk1       Klk1  \n",
       "4         Klk1       Klk1  \n",
       "...        ...        ...  \n",
       "7891   Slc14a1    Slc14a1  \n",
       "7892     Upk3a      Upk3a  \n",
       "7893     Upk1a      Upk1a  \n",
       "7894      Upk2       Upk2  \n",
       "7895     Upk3b      Upk3b  \n",
       "\n",
       "[7896 rows x 6 columns]"
      ],
      "text/html": "<div>\n<style scoped>\n    .dataframe tbody tr th:only-of-type {\n        vertical-align: middle;\n    }\n\n    .dataframe tbody tr th {\n        vertical-align: top;\n    }\n\n    .dataframe thead th {\n        text-align: right;\n    }\n</style>\n<table border=\"1\" class=\"dataframe\">\n  <thead>\n    <tr style=\"text-align: right;\">\n      <th></th>\n      <th>official gene symbol</th>\n      <th>cell type</th>\n      <th>retified_symbols</th>\n      <th>item</th>\n      <th>itemLabel</th>\n      <th>mgi_symbol</th>\n    </tr>\n  </thead>\n  <tbody>\n    <tr>\n      <th>0</th>\n      <td>CTRB1</td>\n      <td>Acinar cells</td>\n      <td>CTRB1</td>\n      <td>Q18261856</td>\n      <td>Ctrb1</td>\n      <td>Ctrb1</td>\n    </tr>\n    <tr>\n      <th>1</th>\n      <td>CTRB1</td>\n      <td>Enterocytes</td>\n      <td>CTRB1</td>\n      <td>Q18261856</td>\n      <td>Ctrb1</td>\n      <td>Ctrb1</td>\n    </tr>\n    <tr>\n      <th>2</th>\n      <td>KLK1</td>\n      <td>Acinar cells</td>\n      <td>KLK1</td>\n      <td>Q18251870</td>\n      <td>Klk1</td>\n      <td>Klk1</td>\n    </tr>\n    <tr>\n      <th>3</th>\n      <td>KLK1</td>\n      <td>Distal tubule cells</td>\n      <td>KLK1</td>\n      <td>Q18251870</td>\n      <td>Klk1</td>\n      <td>Klk1</td>\n    </tr>\n    <tr>\n      <th>4</th>\n      <td>KLK1</td>\n      <td>Endothelial cells</td>\n      <td>KLK1</td>\n      <td>Q18251870</td>\n      <td>Klk1</td>\n      <td>Klk1</td>\n    </tr>\n    <tr>\n      <th>...</th>\n      <td>...</td>\n      <td>...</td>\n      <td>...</td>\n      <td>...</td>\n      <td>...</td>\n      <td>...</td>\n    </tr>\n    <tr>\n      <th>7891</th>\n      <td>SLC14A1</td>\n      <td>Urothelial cells</td>\n      <td>SLC14A1</td>\n      <td>Q18272870</td>\n      <td>Slc14a1</td>\n      <td>Slc14a1</td>\n    </tr>\n    <tr>\n      <th>7892</th>\n      <td>UPK3A</td>\n      <td>Urothelial cells</td>\n      <td>UPK3A</td>\n      <td>Q18255259</td>\n      <td>Upk3a</td>\n      <td>Upk3a</td>\n    </tr>\n    <tr>\n      <th>7893</th>\n      <td>UPK1A</td>\n      <td>Urothelial cells</td>\n      <td>UPK1A</td>\n      <td>Q18273793</td>\n      <td>Upk1a</td>\n      <td>Upk1a</td>\n    </tr>\n    <tr>\n      <th>7894</th>\n      <td>UPK2</td>\n      <td>Urothelial cells</td>\n      <td>UPK2</td>\n      <td>Q18255258</td>\n      <td>Upk2</td>\n      <td>Upk2</td>\n    </tr>\n    <tr>\n      <th>7895</th>\n      <td>UPK3B</td>\n      <td>Urothelial cells</td>\n      <td>UPK3B</td>\n      <td>Q18271264</td>\n      <td>Upk3b</td>\n      <td>Upk3b</td>\n    </tr>\n  </tbody>\n</table>\n<p>7896 rows × 6 columns</p>\n</div>"
     },
     "metadata": {},
     "execution_count": 11
    }
   ],
   "source": [
    "mouse_markers_lean = mouse_markers_lean.merge(df, left_on=\"retified_symbols\", right_on=\"retified_symbols\")\n",
    "mouse_markers_lean"
   ]
  },
  {
   "cell_type": "code",
   "execution_count": 13,
   "metadata": {},
   "outputs": [],
   "source": [
    "mouse_gene_reference_from_panglao_to_wikidata_22_12_2020 = mouse_markers_lean[[\"official gene symbol\", \"item\"]]\n",
    "mouse_gene_reference_from_panglao_to_wikidata_22_12_2020.colums = [\"panglao\", \"wikidata\"]"
   ]
  },
  {
   "cell_type": "code",
   "execution_count": 15,
   "metadata": {},
   "outputs": [],
   "source": [
    "mouse_gene_reference_from_panglao_to_wikidata_22_12_2020.to_csv(\"../results/mouse_gene_reference_from_panglao_to_wikidata_22_12_2020.csv\", index=False)"
   ]
  }
 ]
}